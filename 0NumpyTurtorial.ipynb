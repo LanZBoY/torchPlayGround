{
 "cells": [
  {
   "attachments": {},
   "cell_type": "markdown",
   "metadata": {},
   "source": [
    "# Numpy\n",
    "為一個電腦科學或資料科學中很重要的數學運算套件，它可以做很多運算\n",
    "比較多的時候我們會用它來做許多的矩陣運算，是一個非常方便的套件"
   ]
  },
  {
   "cell_type": "code",
   "execution_count": 1,
   "metadata": {},
   "outputs": [],
   "source": [
    "# 我們習慣import numpy時縮減成np\n",
    "# 可以依照你的喜好來選擇要不要縮減(看個人)\n",
    "import numpy as np"
   ]
  },
  {
   "attachments": {},
   "cell_type": "markdown",
   "metadata": {},
   "source": [
    "# list與陣列之間的關係"
   ]
  },
  {
   "cell_type": "code",
   "execution_count": 2,
   "metadata": {},
   "outputs": [
    {
     "name": "stdout",
     "output_type": "stream",
     "text": [
      "[1, 2, 3]\n",
      "add 4 into list = [1, 2, 3, 4]\n",
      "remove 2 from list = [1, 3, 4]\n"
     ]
    }
   ],
   "source": [
    "# python語言中有一個重要的資料結構為list\n",
    "ex_list = [1, 2, 3]\n",
    "print(ex_list)\n",
    "\"\"\"\n",
    "他的好處是可以彈性的新增或刪除元素(如果你是資工系的大概就會知道它其實就是linked list)\n",
    "\"\"\"\n",
    "ex_list.append(4)\n",
    "print(f\"add 4 into list = {ex_list}\")\n",
    "ex_list.remove(2)\n",
    "print(f\"remove 2 from list = {ex_list}\")"
   ]
  },
  {
   "cell_type": "code",
   "execution_count": 4,
   "metadata": {},
   "outputs": [
    {
     "name": "stdout",
     "output_type": "stream",
     "text": [
      "[1 3 4]\n"
     ]
    }
   ],
   "source": [
    "# numpy中並不是list而是另一個資料型式 稱之為陣列(array)\n",
    "ex_array = np.array(ex_list) # 這是一個簡單的將list轉換為array的形式\n",
    "print(ex_array)"
   ]
  },
  {
   "cell_type": "code",
   "execution_count": 5,
   "metadata": {},
   "outputs": [
    {
     "name": "stdout",
     "output_type": "stream",
     "text": [
      "[0.1 0.3 0.4]\n"
     ]
    }
   ],
   "source": [
    "ex_array = np.array([0.1, 0.3, 0.4]) # 陣列也可以塞入不同的資料型態如浮點數\n",
    "print(ex_array)"
   ]
  },
  {
   "cell_type": "code",
   "execution_count": 8,
   "metadata": {},
   "outputs": [
    {
     "name": "stdout",
     "output_type": "stream",
     "text": [
      "[[0.1 0.3 0.4]\n",
      " [0.3 0.8 0.9]]\n",
      "ex_array 的shape為 (2, 3)\n"
     ]
    }
   ],
   "source": [
    "ex_array = np.array(\n",
    "    [\n",
    "        [0.1, 0.3, 0.4],\n",
    "        [0.3, 0.8, 0.9]             \n",
    "    ]\n",
    "    ) # 而可以是2維陣列\n",
    "print(ex_array)\n",
    "print(f\"ex_array 的shape為 {ex_array.shape}\")"
   ]
  },
  {
   "attachments": {},
   "cell_type": "markdown",
   "metadata": {},
   "source": [
    "# 矩陣(陣列)運算"
   ]
  },
  {
   "cell_type": "code",
   "execution_count": 13,
   "metadata": {},
   "outputs": [
    {
     "name": "stdout",
     "output_type": "stream",
     "text": [
      "matrix a = \n",
      "[[ 0.81163144  0.37376123  1.26355692]\n",
      " [ 1.7294091  -1.70455546 -0.20566204]\n",
      " [-1.0964912   0.05989552  0.35963683]]\n",
      "matrix b = \n",
      "[[ 0.38480983  0.38430573  2.01582147]\n",
      " [-0.7535114   0.59460429 -0.69470902]\n",
      " [-0.92065703 -0.84219661 -0.276701  ]]\n"
     ]
    }
   ],
   "source": [
    "# 設定這裡有兩個不同的陣列\n",
    "# 建立兩個shape相同的陣列\n",
    "a = np.random.randn(3, 3)\n",
    "b = np.random.randn(3, 3)\n",
    "print(f'matrix a = ')\n",
    "print(a)\n",
    "print(f'matrix b = ')\n",
    "print(b)"
   ]
  },
  {
   "cell_type": "code",
   "execution_count": 14,
   "metadata": {},
   "outputs": [
    {
     "name": "stdout",
     "output_type": "stream",
     "text": [
      "a + b\n",
      "[[ 1.19644126  0.75806696  3.27937838]\n",
      " [ 0.9758977  -1.10995117 -0.90037106]\n",
      " [-2.01714823 -0.78230109  0.08293583]]\n",
      "a - b\n",
      "[[ 0.42682161 -0.01054451 -0.75226455]\n",
      " [ 2.4829205  -2.29915975  0.48904698]\n",
      " [-0.17583417  0.90209213  0.63633783]]\n"
     ]
    }
   ],
   "source": [
    "# 加減法\n",
    "print(\"a + b\")\n",
    "print(a + b)\n",
    "print(\"a - b\")\n",
    "print(a - b)"
   ]
  },
  {
   "cell_type": "code",
   "execution_count": 17,
   "metadata": {},
   "outputs": [
    {
     "name": "stdout",
     "output_type": "stream",
     "text": [
      "a * b\n",
      "[[ 0.31232375  0.14363858  2.54710516]\n",
      " [-1.30312947 -1.01353599  0.14287527]\n",
      " [ 1.00949233 -0.0504438  -0.09951187]]\n"
     ]
    }
   ],
   "source": [
    "# 點積\n",
    "print(\"a * b\")\n",
    "print(a * b)"
   ]
  }
 ],
 "metadata": {
  "kernelspec": {
   "display_name": "Python 3.10.7 ('torchEnv': venv)",
   "language": "python",
   "name": "python3"
  },
  "language_info": {
   "codemirror_mode": {
    "name": "ipython",
    "version": 3
   },
   "file_extension": ".py",
   "mimetype": "text/x-python",
   "name": "python",
   "nbconvert_exporter": "python",
   "pygments_lexer": "ipython3",
   "version": "3.10.7"
  },
  "orig_nbformat": 4,
  "vscode": {
   "interpreter": {
    "hash": "856971fa0a169429db2bf0c06b69517a5be6dea1d062d3d5bb82efdd1c5fddc9"
   }
  }
 },
 "nbformat": 4,
 "nbformat_minor": 2
}
