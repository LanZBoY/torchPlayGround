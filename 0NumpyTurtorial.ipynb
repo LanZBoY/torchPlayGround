{
 "cells": [
  {
   "attachments": {},
   "cell_type": "markdown",
   "metadata": {},
   "source": [
    "# Numpy\n",
    "為一個電腦科學或資料科學中很重要的數學運算套件，它可以做很多運算\n",
    "比較多的時候我們會用它來做許多的矩陣運算，是一個非常方便的套件"
   ]
  },
  {
   "cell_type": "code",
   "execution_count": 1,
   "metadata": {},
   "outputs": [],
   "source": [
    "# 我們習慣import numpy時縮減成np\n",
    "# 可以依照你的喜好來選擇要不要縮減(看個人)\n",
    "import numpy as np"
   ]
  },
  {
   "attachments": {},
   "cell_type": "markdown",
   "metadata": {},
   "source": [
    "# list與陣列之間的關係"
   ]
  },
  {
   "cell_type": "code",
   "execution_count": 2,
   "metadata": {},
   "outputs": [
    {
     "name": "stdout",
     "output_type": "stream",
     "text": [
      "[1, 2, 3]\n",
      "add 4 into list = [1, 2, 3, 4]\n",
      "remove 2 from list = [1, 3, 4]\n"
     ]
    }
   ],
   "source": [
    "# python語言中有一個重要的資料結構為list\n",
    "ex_list = [1, 2, 3]\n",
    "print(ex_list)\n",
    "\"\"\"\n",
    "他的好處是可以彈性的新增或刪除元素(如果你是資工系的大概就會知道它其實就是linked list)\n",
    "\"\"\"\n",
    "ex_list.append(4)\n",
    "print(f\"add 4 into list = {ex_list}\")\n",
    "ex_list.remove(2)\n",
    "print(f\"remove 2 from list = {ex_list}\")"
   ]
  },
  {
   "cell_type": "code",
   "execution_count": 3,
   "metadata": {},
   "outputs": [
    {
     "name": "stdout",
     "output_type": "stream",
     "text": [
      "[1 3 4]\n"
     ]
    }
   ],
   "source": [
    "# numpy中並不是list而是另一個資料型式 稱之為陣列(array)\n",
    "ex_array = np.array(ex_list) # 這是一個簡單的將list轉換為array的形式\n",
    "print(ex_array)"
   ]
  },
  {
   "cell_type": "code",
   "execution_count": 4,
   "metadata": {},
   "outputs": [
    {
     "name": "stdout",
     "output_type": "stream",
     "text": [
      "[0.1 0.3 0.4]\n"
     ]
    }
   ],
   "source": [
    "ex_array = np.array([0.1, 0.3, 0.4]) # 陣列也可以塞入不同的資料型態如浮點數\n",
    "print(ex_array)"
   ]
  },
  {
   "cell_type": "code",
   "execution_count": 5,
   "metadata": {},
   "outputs": [
    {
     "name": "stdout",
     "output_type": "stream",
     "text": [
      "[[0.1 0.3 0.4]\n",
      " [0.3 0.8 0.9]]\n",
      "ex_array 的shape為 (2, 3)\n"
     ]
    }
   ],
   "source": [
    "ex_array = np.array(\n",
    "    [\n",
    "        [0.1, 0.3, 0.4],\n",
    "        [0.3, 0.8, 0.9]             \n",
    "    ]\n",
    "    ) # 而可以是2維陣列\n",
    "print(ex_array)\n",
    "print(f\"ex_array 的shape為 {ex_array.shape}\")"
   ]
  },
  {
   "attachments": {},
   "cell_type": "markdown",
   "metadata": {},
   "source": [
    "# 矩陣(陣列)運算"
   ]
  },
  {
   "cell_type": "code",
   "execution_count": 6,
   "metadata": {},
   "outputs": [
    {
     "name": "stdout",
     "output_type": "stream",
     "text": [
      "matrix a = \n",
      "[[ 0.73375609  0.13663782  0.52406054]\n",
      " [-1.32258971 -0.2407907  -0.94848217]\n",
      " [ 0.49936171 -0.90213294  0.40845632]]\n",
      "matrix b = \n",
      "[[ 0.43319279 -0.62029645 -0.39044848]\n",
      " [-1.04672077  0.29357297 -0.39638695]\n",
      " [ 0.08737123 -0.40497012  0.52736527]]\n"
     ]
    }
   ],
   "source": [
    "# 設定這裡有兩個不同的陣列\n",
    "# 建立兩個shape相同的陣列\n",
    "a = np.random.randn(3, 3)\n",
    "b = np.random.randn(3, 3)\n",
    "print(f'matrix a = ')\n",
    "print(a)\n",
    "print(f'matrix b = ')\n",
    "print(b)"
   ]
  },
  {
   "cell_type": "code",
   "execution_count": 7,
   "metadata": {},
   "outputs": [
    {
     "name": "stdout",
     "output_type": "stream",
     "text": [
      "a + b\n",
      "[[ 1.16694888 -0.48365864  0.13361206]\n",
      " [-2.36931048  0.05278227 -1.34486912]\n",
      " [ 0.58673294 -1.30710306  0.93582159]]\n",
      "----------------\n",
      "[[ 1.16694888 -0.48365864  0.13361206]\n",
      " [-2.36931048  0.05278227 -1.34486912]\n",
      " [ 0.58673294 -1.30710306  0.93582159]]\n",
      "****************\n",
      "a - b\n",
      "[[ 0.3005633   0.75693427  0.91450902]\n",
      " [-0.27586894 -0.53436367 -0.55209521]\n",
      " [ 0.41199048 -0.49716282 -0.11890895]]\n",
      "----------------\n",
      "[[ 0.3005633   0.75693427  0.91450902]\n",
      " [-0.27586894 -0.53436367 -0.55209521]\n",
      " [ 0.41199048 -0.49716282 -0.11890895]]\n"
     ]
    }
   ],
   "source": [
    "# 加減法\n",
    "print(\"a + b\")\n",
    "print(a + b)\n",
    "print(\"----------------\")\n",
    "print(np.add(a, b))\n",
    "print(\"****************\")\n",
    "print(\"a - b\")\n",
    "print(a - b)\n",
    "print(\"----------------\")\n",
    "print(np.subtract(a, b))"
   ]
  },
  {
   "cell_type": "code",
   "execution_count": 8,
   "metadata": {},
   "outputs": [
    {
     "name": "stdout",
     "output_type": "stream",
     "text": [
      "a * b\n",
      "[[ 0.31785785 -0.08475595 -0.20461864]\n",
      " [ 1.38438212 -0.07068964  0.37596596]\n",
      " [ 0.04362985  0.36533689  0.21540568]]\n",
      "----------------\n",
      "[[ 0.31785785 -0.08475595 -0.20461864]\n",
      " [ 1.38438212 -0.07068964  0.37596596]\n",
      " [ 0.04362985  0.36533689  0.21540568]]\n"
     ]
    }
   ],
   "source": [
    "# 元素積 -> 對應的每個元素相乘\n",
    "print(\"a * b\")\n",
    "print(a * b)\n",
    "print(\"----------------\")\n",
    "print(np.multiply(a, b))"
   ]
  },
  {
   "cell_type": "code",
   "execution_count": 9,
   "metadata": {},
   "outputs": [
    {
     "name": "stdout",
     "output_type": "stream",
     "text": [
      "[[ 0.22062402 -0.62726199 -0.06428407]\n",
      " [-0.40376575  1.13381501  0.11165288]\n",
      " [ 1.19628851 -0.74000675  0.37802439]]\n",
      "----------------\n",
      "[[ 0.22062402 -0.62726199 -0.06428407]\n",
      " [-0.40376575  1.13381501  0.11165288]\n",
      " [ 1.19628851 -0.74000675  0.37802439]]\n"
     ]
    }
   ],
   "source": [
    "# 積\n",
    "\"\"\"\n",
    "dot 這是一個比較危險的函數\n",
    "官方文件中\n",
    "如果 a 跟 b 都為1D向量會執行向量內積運算\n",
    "如果 a 跟 b 都為2D向量會執行會執行矩陣相乘運算\n",
    "如果 a 或 b 為scalar(純量)會執行一般的相乘\n",
    "\"\"\"\n",
    "print(a.dot(b))\n",
    "print(\"----------------\")\n",
    "print(np.dot(a, b))"
   ]
  },
  {
   "cell_type": "code",
   "execution_count": 10,
   "metadata": {},
   "outputs": [
    {
     "name": "stdout",
     "output_type": "stream",
     "text": [
      "a @ b\n",
      "[[ 0.22062402 -0.62726199 -0.06428407]\n",
      " [-0.40376575  1.13381501  0.11165288]\n",
      " [ 1.19628851 -0.74000675  0.37802439]]\n",
      "----------------\n",
      "[[ 0.22062402 -0.62726199 -0.06428407]\n",
      " [-0.40376575  1.13381501  0.11165288]\n",
      " [ 1.19628851 -0.74000675  0.37802439]]\n"
     ]
    }
   ],
   "source": [
    "# 矩陣運算\n",
    "\"\"\"\n",
    "    通常會以@來表示兩個矩陣運算\n",
    "\"\"\"\n",
    "print(\"a @ b\")\n",
    "print(a @ b)\n",
    "print(\"----------------\")\n",
    "print(np.matmul(a, b))"
   ]
  },
  {
   "attachments": {},
   "cell_type": "markdown",
   "metadata": {},
   "source": [
    "# Array Shape\n",
    "陣列中我們常常會使用多個D來表示一個矩陣，在中文的理解上我們會稱之為\"軸\"，而非\"維\""
   ]
  },
  {
   "cell_type": "code",
   "execution_count": 11,
   "metadata": {},
   "outputs": [
    {
     "data": {
      "text/plain": [
       "array([0.43404368, 0.81203084, 0.95479611])"
      ]
     },
     "execution_count": 11,
     "metadata": {},
     "output_type": "execute_result"
    }
   ],
   "source": [
    "np.random.rand(3) # 1D矩陣"
   ]
  },
  {
   "cell_type": "code",
   "execution_count": 12,
   "metadata": {},
   "outputs": [
    {
     "data": {
      "text/plain": [
       "array([[0.23548925, 0.12980581, 0.23228351],\n",
       "       [0.93299835, 0.57964639, 0.69200991],\n",
       "       [0.61275162, 0.11928007, 0.7316204 ]])"
      ]
     },
     "execution_count": 12,
     "metadata": {},
     "output_type": "execute_result"
    }
   ],
   "source": [
    "np.random.rand(3, 3) # 2D矩陣"
   ]
  },
  {
   "cell_type": "code",
   "execution_count": 13,
   "metadata": {},
   "outputs": [
    {
     "data": {
      "text/plain": [
       "array([[[0.49371605, 0.46743574, 0.34742387],\n",
       "        [0.23331227, 0.9583792 , 0.55786408],\n",
       "        [0.67602394, 0.23122988, 0.17075648]],\n",
       "\n",
       "       [[0.55746605, 0.54001778, 0.20353932],\n",
       "        [0.85484645, 0.07386415, 0.35632017],\n",
       "        [0.02334093, 0.15378203, 0.28753608]],\n",
       "\n",
       "       [[0.45108395, 0.05512953, 0.30475985],\n",
       "        [0.94957494, 0.83732441, 0.87195142],\n",
       "        [0.70679961, 0.25498838, 0.04001378]]])"
      ]
     },
     "execution_count": 13,
     "metadata": {},
     "output_type": "execute_result"
    }
   ],
   "source": [
    "np.random.rand(3, 3, 3) # 3D矩陣\n",
    "\n",
    "\"\"\"\n",
    "    當然我們可以拓展到多個D來當作ND矩陣\n",
    "    序列中我們常常用(B, S, D)來當作矩陣 第一軸為Batch、第二軸為Sequence長度而最後一軸為資料特徵的維度\n",
    "    在影像處理中我們會使用(B, C, H, W)來當作矩陣表示 C為通道(可能為RGB、RGBA或HSV等)、H為高度則W為寬度\n",
    "    根據不同任務有會有不同的表示方式\n",
    "\"\"\""
   ]
  }
 ],
 "metadata": {
  "kernelspec": {
   "display_name": "Python 3.10.7 ('torchEnv': venv)",
   "language": "python",
   "name": "python3"
  },
  "language_info": {
   "codemirror_mode": {
    "name": "ipython",
    "version": 3
   },
   "file_extension": ".py",
   "mimetype": "text/x-python",
   "name": "python",
   "nbconvert_exporter": "python",
   "pygments_lexer": "ipython3",
   "version": "3.10.7"
  },
  "orig_nbformat": 4,
  "vscode": {
   "interpreter": {
    "hash": "856971fa0a169429db2bf0c06b69517a5be6dea1d062d3d5bb82efdd1c5fddc9"
   }
  }
 },
 "nbformat": 4,
 "nbformat_minor": 2
}
