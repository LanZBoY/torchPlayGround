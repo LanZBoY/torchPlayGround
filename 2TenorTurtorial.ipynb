{
 "cells": [
  {
   "cell_type": "markdown",
   "metadata": {},
   "source": [
    "# PyTorch基本介紹 "
   ]
  },
  {
   "cell_type": "code",
   "execution_count": 1,
   "metadata": {},
   "outputs": [
    {
     "name": "stderr",
     "output_type": "stream",
     "text": [
      "c:\\Users\\Wen2Tee5\\Desktop\\Postgraduate\\torchPlayGround\\torchEnv\\lib\\site-packages\\tqdm\\auto.py:22: TqdmWarning: IProgress not found. Please update jupyter and ipywidgets. See https://ipywidgets.readthedocs.io/en/stable/user_install.html\n",
      "  from .autonotebook import tqdm as notebook_tqdm\n"
     ]
    }
   ],
   "source": [
    "import torch"
   ]
  },
  {
   "cell_type": "markdown",
   "metadata": {},
   "source": [
    "# Tensor資料結構\n",
    "\n",
    "Tensor為一個特殊的資料結構與Numpy相似提供了矩陣的加減乘除運算。<br>"
   ]
  },
  {
   "cell_type": "code",
   "execution_count": 2,
   "metadata": {},
   "outputs": [
    {
     "name": "stdout",
     "output_type": "stream",
     "text": [
      "建立的Tensor為 2.0\n",
      "內部的變數型態為torch.float32\n"
     ]
    }
   ],
   "source": [
    "a = torch.tensor(2.) # 建立一個float tensor\n",
    "print(f'建立的Tensor為 {a}')\n",
    "print(f'內部的變數型態為{a.dtype}')"
   ]
  },
  {
   "cell_type": "code",
   "execution_count": 3,
   "metadata": {},
   "outputs": [
    {
     "name": "stdout",
     "output_type": "stream",
     "text": [
      "建立的Tensor為 2\n",
      "內部的變數型態為torch.int64\n"
     ]
    }
   ],
   "source": [
    "a = torch.tensor(2 , dtype = torch.long) # 或是指定一個內部的資料結構型態來建立tensor\n",
    "print(f'建立的Tensor為 {a}')\n",
    "print(f'內部的變數型態為{a.dtype}')"
   ]
  },
  {
   "cell_type": "code",
   "execution_count": 4,
   "metadata": {},
   "outputs": [
    {
     "name": "stdout",
     "output_type": "stream",
     "text": [
      "建立的Tensor為 tensor([1., 2., 3.])\n",
      "內部的變數型態為torch.float32\n",
      "a shape = torch.Size([3])\n"
     ]
    }
   ],
   "source": [
    "a = torch.tensor([1, 2, 3], dtype=torch.float32) # 也可以塞入一個一維的矩陣\n",
    "print(f'建立的Tensor為 {a}')\n",
    "print(f'內部的變數型態為{a.dtype}')\n",
    "print(f'a shape = {a.shape}')"
   ]
  },
  {
   "cell_type": "markdown",
   "metadata": {},
   "source": [
    "# Tensor 的運算跟矩陣的概念一樣\n",
    "可以做一些加減乘除甚至是元素點積"
   ]
  },
  {
   "cell_type": "code",
   "execution_count": 5,
   "metadata": {},
   "outputs": [],
   "source": [
    "a = torch.tensor([1, 2, 3], dtype = torch.float32)\n",
    "b = torch.tensor([1, 2, 3], dtype = torch.float32)"
   ]
  },
  {
   "cell_type": "code",
   "execution_count": 6,
   "metadata": {},
   "outputs": [
    {
     "name": "stdout",
     "output_type": "stream",
     "text": [
      "a + b = tensor([2., 4., 6.])\n",
      "torch.add(a, b) = tensor([2., 4., 6.])\n"
     ]
    }
   ],
   "source": [
    "w = a + b # 矩陣相加\n",
    "print(f'a + b = {w}')\n",
    "# 等價於下面這個運算\n",
    "w = torch.add(a, b)\n",
    "print(f'torch.add(a, b) = {w}')\n"
   ]
  },
  {
   "cell_type": "code",
   "execution_count": 7,
   "metadata": {},
   "outputs": [
    {
     "name": "stdout",
     "output_type": "stream",
     "text": [
      "a - b = tensor([0., 0., 0.])\n",
      "torch.sub(a, b) = tensor([0., 0., 0.])\n"
     ]
    }
   ],
   "source": [
    "w = a - b # 矩陣相減\n",
    "print(f'a - b = {w}')\n",
    "w = torch.sub(a, b)\n",
    "print(f'torch.sub(a, b) = {w}')"
   ]
  },
  {
   "cell_type": "markdown",
   "metadata": {},
   "source": [
    "如果a矩陣相較於b矩陣屬於Scale Type則運算成立"
   ]
  },
  {
   "cell_type": "code",
   "execution_count": 8,
   "metadata": {},
   "outputs": [
    {
     "name": "stdout",
     "output_type": "stream",
     "text": [
      "tensor([2., 3., 4.])\n"
     ]
    }
   ],
   "source": [
    "w = a + 1. # 比如 a + 1  1對於a來說為scale number\n",
    "print(w)"
   ]
  },
  {
   "cell_type": "code",
   "execution_count": 9,
   "metadata": {},
   "outputs": [
    {
     "name": "stdout",
     "output_type": "stream",
     "text": [
      "a = tensor([[1., 1., 1., 1.],\n",
      "        [1., 1., 1., 1.],\n",
      "        [1., 1., 1., 1.]])\n",
      "b = tensor([1., 1., 1., 1.])\n",
      "a + b = tensor([[2., 2., 2., 2.],\n",
      "        [2., 2., 2., 2.],\n",
      "        [2., 2., 2., 2.]])\n"
     ]
    }
   ],
   "source": [
    "a = torch.ones(size=(3,4))\n",
    "b = torch.ones(size=(4,))\n",
    "w = a + b # 這個狀況下運算成立\n",
    "print(f'a = {a}')\n",
    "print(f'b = {b}')\n",
    "print(f'a + b = {w}')"
   ]
  },
  {
   "cell_type": "code",
   "execution_count": 10,
   "metadata": {},
   "outputs": [],
   "source": [
    "a = torch.tensor([1, 2, 3], dtype = torch.float32)\n",
    "b = torch.tensor([1, 2, 3], dtype = torch.float32)"
   ]
  },
  {
   "cell_type": "code",
   "execution_count": 11,
   "metadata": {},
   "outputs": [
    {
     "name": "stdout",
     "output_type": "stream",
     "text": [
      "a @ b = 14.0\n",
      "torch.matmul(a, b) = 14.0\n"
     ]
    }
   ],
   "source": [
    "w = a @ b # 矩陣相乘的符號\n",
    "print(f'a @ b = {w}')\n",
    "# 等價於下面這個運算\n",
    "w = torch.matmul(a, b)\n",
    "print(f'torch.matmul(a, b) = {w}')"
   ]
  },
  {
   "cell_type": "code",
   "execution_count": 12,
   "metadata": {},
   "outputs": [
    {
     "name": "stdout",
     "output_type": "stream",
     "text": [
      "a * b = tensor([1., 4., 9.])\n",
      "torch.mul(a , b) = tensor([1., 4., 9.])\n"
     ]
    }
   ],
   "source": [
    "w = a * b # 矩陣的元素積 簡單來說就是將矩陣的每個元素相乘的得出一個結果\n",
    "print(f'a * b = {w}')\n",
    "# 等價於下面這個運算\n",
    "w = torch.mul(a , b)\n",
    "print(f'torch.mul(a , b) = {w}')"
   ]
  },
  {
   "cell_type": "code",
   "execution_count": 13,
   "metadata": {},
   "outputs": [
    {
     "name": "stdout",
     "output_type": "stream",
     "text": [
      "a / b = tensor([1., 1., 1.])\n",
      "torch.div(a, b) = tensor([1., 1., 1.])\n"
     ]
    }
   ],
   "source": [
    "w = a / b# 而除法則是針對每個元素去做相除\n",
    "print(f'a / b = {w}')\n",
    "# 等價於下面這個運算\n",
    "w = torch.div(a, b)\n",
    "print(f'torch.div(a, b) = {w}')"
   ]
  },
  {
   "cell_type": "markdown",
   "metadata": {},
   "source": [
    "# Computation Graph\n",
    "\n",
    "<img src = 'https://pytorch.org/tutorials/_images/comp-graph.png'/>"
   ]
  }
 ],
 "metadata": {
  "kernelspec": {
   "display_name": "Python 3.10.7 ('torchEnv': venv)",
   "language": "python",
   "name": "python3"
  },
  "language_info": {
   "codemirror_mode": {
    "name": "ipython",
    "version": 3
   },
   "file_extension": ".py",
   "mimetype": "text/x-python",
   "name": "python",
   "nbconvert_exporter": "python",
   "pygments_lexer": "ipython3",
   "version": "3.10.7"
  },
  "orig_nbformat": 4,
  "vscode": {
   "interpreter": {
    "hash": "856971fa0a169429db2bf0c06b69517a5be6dea1d062d3d5bb82efdd1c5fddc9"
   }
  }
 },
 "nbformat": 4,
 "nbformat_minor": 2
}
