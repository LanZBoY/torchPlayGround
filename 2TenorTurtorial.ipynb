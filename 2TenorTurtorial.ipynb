{
 "cells": [
  {
   "cell_type": "code",
   "execution_count": 1,
   "metadata": {},
   "outputs": [],
   "source": [
    "import torch\n",
    "import numpy as np"
   ]
  },
  {
   "attachments": {},
   "cell_type": "markdown",
   "metadata": {},
   "source": [
    "# Tensor\n",
    "在深度學習領域中我們常常使用張量(Tensor)來進行矩陣的各種運算，它的好處是可以將資料傳輸到GPU中進行加速運算，與Array的有些許差異"
   ]
  },
  {
   "cell_type": "code",
   "execution_count": 2,
   "metadata": {},
   "outputs": [
    {
     "name": "stdout",
     "output_type": "stream",
     "text": [
      "tensor([1, 2, 3])\n"
     ]
    }
   ],
   "source": [
    "a = torch.tensor([1, 2, 3])\n",
    "print(a)"
   ]
  },
  {
   "cell_type": "code",
   "execution_count": 3,
   "metadata": {},
   "outputs": [
    {
     "name": "stdout",
     "output_type": "stream",
     "text": [
      "tensor([[0.8315, 0.5504, 0.2540],\n",
      "        [0.1259, 0.4552, 0.4164],\n",
      "        [0.4258, 0.7475, 0.3474]])\n",
      "torch.FloatTensor\n"
     ]
    }
   ],
   "source": [
    "a = torch.rand(size = (3, 3)) # 建立一個3x3的張量\n",
    "print(a)\n",
    "print(a.type()) # Float型態的張量"
   ]
  },
  {
   "cell_type": "code",
   "execution_count": 4,
   "metadata": {},
   "outputs": [
    {
     "name": "stdout",
     "output_type": "stream",
     "text": [
      "tensor([49, 87, 87,  0, 82])\n"
     ]
    }
   ],
   "source": [
    "a = torch.randint(low=0, high = 100, size = (5,)) # 建立一個長度為5的int型態的張量\n",
    "print(a)"
   ]
  },
  {
   "cell_type": "code",
   "execution_count": 9,
   "metadata": {},
   "outputs": [
    {
     "name": "stdout",
     "output_type": "stream",
     "text": [
      "tensor([1, 2, 3, 4, 5], dtype=torch.int32)\n"
     ]
    }
   ],
   "source": [
    "# numpy array 轉換 tensor\n",
    "n_tensor = torch.from_numpy(np.array([1, 2, 3, 4, 5]))\n",
    "print(n_tensor)"
   ]
  },
  {
   "cell_type": "markdown",
   "metadata": {},
   "source": [
    "# Tensor運算\n",
    "\n",
    "Tensor運算的符號與Array相似，基本的加減乘除外還有內積及元素積"
   ]
  },
  {
   "cell_type": "code",
   "execution_count": 5,
   "metadata": {},
   "outputs": [
    {
     "name": "stdout",
     "output_type": "stream",
     "text": [
      "a = \n",
      " tensor([[0.2457, 0.7835, 0.1263, 0.8735, 0.5128],\n",
      "        [0.8174, 0.5543, 0.3281, 0.8744, 0.8712],\n",
      "        [0.3942, 0.5331, 0.6542, 0.6771, 0.9121],\n",
      "        [0.9026, 0.3184, 0.7521, 0.6018, 0.9658],\n",
      "        [0.7859, 0.4874, 0.4110, 0.3437, 0.7039]])\n",
      "b = \n",
      " tensor([[0.8097, 0.7062, 0.0140, 0.1258, 0.7216],\n",
      "        [0.0380, 0.7418, 0.9285, 0.8873, 0.4974],\n",
      "        [0.8679, 0.5110, 0.0457, 0.0182, 0.8332],\n",
      "        [0.8103, 0.1843, 0.0901, 0.6698, 0.5979],\n",
      "        [0.4398, 0.5661, 0.3614, 0.5093, 0.8142]])\n"
     ]
    }
   ],
   "source": [
    "a = torch.rand(size=(5, 5))\n",
    "b = torch.rand(size=(5, 5))\n",
    "\n",
    "print(f\"a = \\n {a}\")\n",
    "print(f\"b = \\n {b}\")"
   ]
  },
  {
   "cell_type": "code",
   "execution_count": 6,
   "metadata": {},
   "outputs": [
    {
     "name": "stdout",
     "output_type": "stream",
     "text": [
      "a + b \n",
      " tensor([[1.0555, 1.4897, 0.1403, 0.9993, 1.2343],\n",
      "        [0.8555, 1.2961, 1.2566, 1.7617, 1.3686],\n",
      "        [1.2621, 1.0441, 0.6999, 0.6953, 1.7453],\n",
      "        [1.7129, 0.5027, 0.8422, 1.2716, 1.5637],\n",
      "        [1.2258, 1.0535, 0.7724, 0.8530, 1.5181]])\n",
      "a - b \n",
      " tensor([[-0.5640,  0.0772,  0.1122,  0.7476, -0.2088],\n",
      "        [ 0.7794, -0.1875, -0.6004, -0.0129,  0.3738],\n",
      "        [-0.4737,  0.0221,  0.6084,  0.6589,  0.0789],\n",
      "        [ 0.0922,  0.1341,  0.6621, -0.0680,  0.3679],\n",
      "        [ 0.3461, -0.0787,  0.0497, -0.1656, -0.1103]])\n",
      "a * b (元素積) \n",
      " tensor([[0.1990, 0.5533, 0.0018, 0.1099, 0.3700],\n",
      "        [0.0311, 0.4112, 0.3046, 0.7758, 0.4334],\n",
      "        [0.3421, 0.2724, 0.0299, 0.0123, 0.7600],\n",
      "        [0.7314, 0.0587, 0.0677, 0.4031, 0.5775],\n",
      "        [0.3457, 0.2759, 0.1485, 0.1750, 0.5731]])\n",
      "a / b \n",
      " tensor([[ 0.3035,  1.1093,  8.9891,  6.9407,  0.7106],\n",
      "        [21.4847,  0.7473,  0.3533,  0.9854,  1.7515],\n",
      "        [ 0.4542,  1.0433, 14.3096, 37.1920,  1.0947],\n",
      "        [ 1.1138,  1.7278,  8.3515,  0.8985,  1.6153],\n",
      "        [ 1.7869,  0.8610,  1.1375,  0.6748,  0.8645]])\n"
     ]
    }
   ],
   "source": [
    "# torch.add(a , b)\n",
    "print(f\"a + b \\n {a + b}\")\n",
    "# torch.sub(a, b)\n",
    "# torch.subtract(a, b)\n",
    "print(f\"a - b \\n {a - b}\")\n",
    "# torch.mul(a, b)\n",
    "# torch.multiply(a, b)\n",
    "print(f\"a * b (元素積) \\n {a * b}\")\n",
    "# torch.div(a, b)\n",
    "# torch.divide(a, b)\n",
    "print(f\"a / b \\n {a / b}\")"
   ]
  },
  {
   "cell_type": "code",
   "execution_count": 7,
   "metadata": {},
   "outputs": [
    {
     "name": "stdout",
     "output_type": "stream",
     "text": [
      "a @ b \n",
      " tensor([[1.2717, 1.2704, 1.0007, 1.5746, 1.6120],\n",
      "        [2.0595, 1.8104, 0.9348, 1.6300, 2.3711],\n",
      "        [1.8570, 1.6492, 0.9210, 1.4526, 2.2421],\n",
      "        [2.3082, 1.9155, 0.7459, 1.3048, 2.5825],\n",
      "        [1.5998, 1.5884, 0.7677, 1.1276, 1.9306]])\n"
     ]
    }
   ],
   "source": [
    "# 矩陣運算\n",
    "# torch.matmul(a, b)\n",
    "print(f\"a @ b \\n {a @ b}\")"
   ]
  }
 ],
 "metadata": {
  "kernelspec": {
   "display_name": "Python 3.10.7 ('torchEnv': venv)",
   "language": "python",
   "name": "python3"
  },
  "language_info": {
   "codemirror_mode": {
    "name": "ipython",
    "version": 3
   },
   "file_extension": ".py",
   "mimetype": "text/x-python",
   "name": "python",
   "nbconvert_exporter": "python",
   "pygments_lexer": "ipython3",
   "version": "3.10.7"
  },
  "orig_nbformat": 4,
  "vscode": {
   "interpreter": {
    "hash": "856971fa0a169429db2bf0c06b69517a5be6dea1d062d3d5bb82efdd1c5fddc9"
   }
  }
 },
 "nbformat": 4,
 "nbformat_minor": 2
}
