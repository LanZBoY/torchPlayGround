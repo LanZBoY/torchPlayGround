{
 "cells": [
  {
   "cell_type": "code",
   "execution_count": 1,
   "metadata": {},
   "outputs": [],
   "source": [
    "import torch\n",
    "import numpy as np"
   ]
  },
  {
   "attachments": {},
   "cell_type": "markdown",
   "metadata": {},
   "source": [
    "# Tensor\n",
    "在深度學習領域中我們常常使用張量(Tensor)來進行矩陣的各種運算，它的好處是可以將資料傳輸到GPU中進行加速運算，與Array的有些許差異"
   ]
  },
  {
   "cell_type": "code",
   "execution_count": 2,
   "metadata": {},
   "outputs": [
    {
     "name": "stdout",
     "output_type": "stream",
     "text": [
      "tensor([1, 2, 3])\n"
     ]
    }
   ],
   "source": [
    "a = torch.tensor([1, 2, 3])\n",
    "print(a)"
   ]
  },
  {
   "cell_type": "code",
   "execution_count": 3,
   "metadata": {},
   "outputs": [
    {
     "name": "stdout",
     "output_type": "stream",
     "text": [
      "tensor([[0.1971, 0.6213, 0.5077],\n",
      "        [0.1602, 0.4735, 0.2013],\n",
      "        [0.7955, 0.6885, 0.5499]])\n",
      "torch.FloatTensor\n"
     ]
    }
   ],
   "source": [
    "a = torch.rand(size = (3, 3)) # 建立一個3x3的張量\n",
    "print(a)\n",
    "print(a.type()) # Float型態的張量"
   ]
  },
  {
   "cell_type": "code",
   "execution_count": 4,
   "metadata": {},
   "outputs": [
    {
     "name": "stdout",
     "output_type": "stream",
     "text": [
      "tensor([90, 81, 95,  4, 84])\n"
     ]
    }
   ],
   "source": [
    "a = torch.randint(low=0, high = 100, size = (5,)) # 建立一個長度為5的int型態的張量\n",
    "print(a)"
   ]
  },
  {
   "cell_type": "code",
   "execution_count": 5,
   "metadata": {},
   "outputs": [
    {
     "name": "stdout",
     "output_type": "stream",
     "text": [
      "tensor([1, 2, 3, 4, 5], dtype=torch.int32)\n"
     ]
    }
   ],
   "source": [
    "# numpy array 轉換 tensor\n",
    "n_tensor = torch.from_numpy(np.array([1, 2, 3, 4, 5]))\n",
    "print(n_tensor)"
   ]
  },
  {
   "cell_type": "markdown",
   "metadata": {},
   "source": [
    "# Tensor運算\n",
    "\n",
    "Tensor運算的符號與Array相似，基本的加減乘除外還有內積及元素積"
   ]
  },
  {
   "cell_type": "code",
   "execution_count": 6,
   "metadata": {},
   "outputs": [
    {
     "name": "stdout",
     "output_type": "stream",
     "text": [
      "a = \n",
      " tensor([[0.6806, 0.6315, 0.5191, 0.2979, 0.4504],\n",
      "        [0.4700, 0.7466, 0.9960, 0.1303, 0.2111],\n",
      "        [0.3581, 0.7986, 0.6293, 0.1265, 0.5862],\n",
      "        [0.6689, 0.9998, 0.5535, 0.8664, 0.5563],\n",
      "        [0.5616, 0.1052, 0.4605, 0.4060, 0.1769]])\n",
      "b = \n",
      " tensor([[0.6820, 0.8668, 0.5778, 0.5491, 0.3688],\n",
      "        [0.2305, 0.3645, 0.4676, 0.0846, 0.1710],\n",
      "        [0.7716, 0.7311, 0.1116, 0.9896, 0.2865],\n",
      "        [0.3848, 0.0189, 0.7552, 0.8264, 0.6874],\n",
      "        [0.5903, 0.0634, 0.3646, 0.9384, 0.0175]])\n"
     ]
    }
   ],
   "source": [
    "a = torch.rand(size=(5, 5))\n",
    "b = torch.rand(size=(5, 5))\n",
    "\n",
    "print(f\"a = \\n {a}\")\n",
    "print(f\"b = \\n {b}\")"
   ]
  },
  {
   "cell_type": "code",
   "execution_count": 7,
   "metadata": {},
   "outputs": [
    {
     "name": "stdout",
     "output_type": "stream",
     "text": [
      "a + b \n",
      " tensor([[1.3626, 1.4983, 1.0969, 0.8470, 0.8192],\n",
      "        [0.7005, 1.1111, 1.4636, 0.2149, 0.3821],\n",
      "        [1.1297, 1.5297, 0.7409, 1.1160, 0.8727],\n",
      "        [1.0537, 1.0187, 1.3087, 1.6928, 1.2437],\n",
      "        [1.1518, 0.1686, 0.8251, 1.3445, 0.1944]])\n",
      "a - b \n",
      " tensor([[-0.0014, -0.2354, -0.0587, -0.2512,  0.0815],\n",
      "        [ 0.2395,  0.3821,  0.5283,  0.0457,  0.0401],\n",
      "        [-0.4135,  0.0675,  0.5177, -0.8631,  0.2998],\n",
      "        [ 0.2841,  0.9809, -0.2016,  0.0401, -0.1311],\n",
      "        [-0.0287,  0.0417,  0.0959, -0.5324,  0.1594]])\n",
      "a * b (元素積) \n",
      " tensor([[0.4642, 0.5474, 0.2999, 0.1636, 0.1661],\n",
      "        [0.1083, 0.2721, 0.4658, 0.0110, 0.0361],\n",
      "        [0.2763, 0.5838, 0.0702, 0.1251, 0.1679],\n",
      "        [0.2574, 0.0189, 0.4180, 0.7160, 0.3824],\n",
      "        [0.3315, 0.0067, 0.1679, 0.3810, 0.0031]])\n",
      "a / b \n",
      " tensor([[ 0.9980,  0.7285,  0.8983,  0.5426,  1.2211],\n",
      "        [ 2.0390,  2.0485,  2.1298,  1.5396,  1.2343],\n",
      "        [ 0.4641,  1.0924,  5.6396,  0.1278,  2.0464],\n",
      "        [ 1.7384, 52.8022,  0.7330,  1.0485,  0.8093],\n",
      "        [ 0.9514,  1.6575,  1.2630,  0.4327, 10.1296]])\n"
     ]
    }
   ],
   "source": [
    "# torch.add(a , b)\n",
    "print(f\"a + b \\n {a + b}\")\n",
    "# torch.sub(a, b)\n",
    "# torch.subtract(a, b)\n",
    "print(f\"a - b \\n {a - b}\")\n",
    "# torch.mul(a, b)\n",
    "# torch.multiply(a, b)\n",
    "print(f\"a * b (元素積) \\n {a * b}\")\n",
    "# torch.div(a, b)\n",
    "# torch.divide(a, b)\n",
    "print(f\"a / b \\n {a / b}\")"
   ]
  },
  {
   "cell_type": "code",
   "execution_count": 8,
   "metadata": {},
   "outputs": [
    {
     "name": "stdout",
     "output_type": "stream",
     "text": [
      "a @ b \n",
      " tensor([[1.3907, 1.2338, 1.1357, 1.6097, 0.7204],\n",
      "        [1.4358, 1.4235, 0.9072, 1.6126, 0.6796],\n",
      "        [1.3086, 1.1011, 0.9598, 1.5416, 0.5461],\n",
      "        [1.7755, 1.4006, 1.7729, 2.2377, 1.1816],\n",
      "        [1.0232, 0.8807, 0.7962, 1.2745, 0.6392]])\n"
     ]
    }
   ],
   "source": [
    "# 矩陣運算\n",
    "# torch.matmul(a, b)\n",
    "print(f\"a @ b \\n {a @ b}\")"
   ]
  }
 ],
 "metadata": {
  "kernelspec": {
   "display_name": "Python 3.10.7 ('torchEnv': venv)",
   "language": "python",
   "name": "python3"
  },
  "language_info": {
   "codemirror_mode": {
    "name": "ipython",
    "version": 3
   },
   "file_extension": ".py",
   "mimetype": "text/x-python",
   "name": "python",
   "nbconvert_exporter": "python",
   "pygments_lexer": "ipython3",
   "version": "3.10.7"
  },
  "orig_nbformat": 4,
  "vscode": {
   "interpreter": {
    "hash": "856971fa0a169429db2bf0c06b69517a5be6dea1d062d3d5bb82efdd1c5fddc9"
   }
  }
 },
 "nbformat": 4,
 "nbformat_minor": 2
}
