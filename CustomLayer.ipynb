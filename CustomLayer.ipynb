{
 "cells": [
  {
   "cell_type": "markdown",
   "metadata": {},
   "source": [
    "# CustomLayer 定義\n",
    "\n",
    "如果你想要自己根據論文公式刻出一個model，下面一有一個最基本的範例可供使用\n",
    "PyTorch 在定義model會需要用到Parameter來打包可訓練參數\n",
    "這樣在優化器指定要優化的參數時，才可以透過Module.parameter()這個函式來快速調參\n",
    "\n",
    "而要注意的是當資料是以Batch的形式呈現，計算時要注意batch的軸不能消失\n",
    "否則在訓練資料的過程中就會失去Batch Training的意義\n",
    "\n",
    "也就是說公式需要改寫為\n",
    "## $$y=xW^T+b$$"
   ]
  },
  {
   "cell_type": "code",
   "execution_count": 1,
   "metadata": {},
   "outputs": [
    {
     "name": "stderr",
     "output_type": "stream",
     "text": [
      "c:\\Users\\Wen2Tee5\\Desktop\\Postgraduate\\torchPlayGround\\torchEnv\\lib\\site-packages\\tqdm\\auto.py:22: TqdmWarning: IProgress not found. Please update jupyter and ipywidgets. See https://ipywidgets.readthedocs.io/en/stable/user_install.html\n",
      "  from .autonotebook import tqdm as notebook_tqdm\n"
     ]
    }
   ],
   "source": [
    "import torch"
   ]
  },
  {
   "cell_type": "code",
   "execution_count": 2,
   "metadata": {},
   "outputs": [],
   "source": [
    "\n",
    "class LinearLayer(torch.nn.Module):\n",
    "\n",
    "    def __init__(self, in_feature, out_feature) -> None:\n",
    "        super(LinearLayer, self).__init__()\n",
    "        self.w1 = torch.nn.Parameter(torch.randn(size = (out_feature, in_feature), requires_grad=True))\n",
    "        self.b1 = torch.nn.Parameter(torch.randn(size = (out_feature, )))\n",
    "\n",
    "    def forward(self, x):\n",
    "        x = x @ self.w1.T + self.b1\n",
    "        return x"
   ]
  },
  {
   "cell_type": "code",
   "execution_count": 3,
   "metadata": {},
   "outputs": [],
   "source": [
    "linear = LinearLayer(20, 10)"
   ]
  },
  {
   "cell_type": "code",
   "execution_count": 4,
   "metadata": {},
   "outputs": [
    {
     "name": "stdout",
     "output_type": "stream",
     "text": [
      "torch.Size([10, 20])\n",
      "torch.Size([10])\n"
     ]
    }
   ],
   "source": [
    "for parm in linear.parameters():\n",
    "    print(parm.shape)"
   ]
  },
  {
   "cell_type": "code",
   "execution_count": 5,
   "metadata": {},
   "outputs": [],
   "source": [
    "x = torch.randn(size=(20,20))"
   ]
  },
  {
   "cell_type": "code",
   "execution_count": 6,
   "metadata": {},
   "outputs": [],
   "source": [
    "temp = linear(x)"
   ]
  },
  {
   "cell_type": "code",
   "execution_count": 7,
   "metadata": {},
   "outputs": [
    {
     "data": {
      "text/plain": [
       "torch.Size([20, 10])"
      ]
     },
     "execution_count": 7,
     "metadata": {},
     "output_type": "execute_result"
    }
   ],
   "source": [
    "temp.shape"
   ]
  },
  {
   "cell_type": "code",
   "execution_count": 8,
   "metadata": {},
   "outputs": [],
   "source": [
    "tempModel = torch.nn.Linear(20,10)"
   ]
  },
  {
   "cell_type": "code",
   "execution_count": 9,
   "metadata": {},
   "outputs": [
    {
     "name": "stdout",
     "output_type": "stream",
     "text": [
      "torch.Size([10, 20])\n",
      "torch.Size([10])\n"
     ]
    }
   ],
   "source": [
    "for parm in tempModel.parameters():\n",
    "    print(parm.shape)"
   ]
  },
  {
   "cell_type": "code",
   "execution_count": 10,
   "metadata": {},
   "outputs": [],
   "source": [
    "x = torch.randn(size=(2, 10))\n",
    "b = torch.randn(size=(10,))"
   ]
  },
  {
   "cell_type": "code",
   "execution_count": 11,
   "metadata": {},
   "outputs": [
    {
     "name": "stdout",
     "output_type": "stream",
     "text": [
      "tensor([[ 1.3411,  0.6916, -0.7753,  1.3080,  0.5635,  0.1124, -0.5848, -1.4440,\n",
      "         -1.8189,  0.7487],\n",
      "        [-1.0637,  0.8090, -0.5334,  1.1508, -1.7645,  0.2689,  0.5493, -0.4905,\n",
      "          1.6187,  1.2298]])\n",
      "tensor([ 0.5867,  0.5211, -0.6068, -1.1766, -1.5682, -2.0363,  0.3843, -1.9030,\n",
      "         2.3666, -0.2004])\n"
     ]
    }
   ],
   "source": [
    "print(x)\n",
    "print(b)"
   ]
  },
  {
   "cell_type": "code",
   "execution_count": 12,
   "metadata": {},
   "outputs": [
    {
     "name": "stdout",
     "output_type": "stream",
     "text": [
      "tensor([[ 2.3411,  1.6916,  0.2247,  2.3080,  1.5635,  1.1124,  0.4152, -0.4440,\n",
      "         -0.8189,  1.7487],\n",
      "        [-0.0637,  1.8090,  0.4666,  2.1508, -0.7645,  1.2689,  1.5493,  0.5095,\n",
      "          2.6187,  2.2298]])\n"
     ]
    }
   ],
   "source": [
    "print(x+1)"
   ]
  },
  {
   "cell_type": "code",
   "execution_count": null,
   "metadata": {},
   "outputs": [],
   "source": []
  }
 ],
 "metadata": {
  "kernelspec": {
   "display_name": "Python 3.10.7 ('torchEnv': venv)",
   "language": "python",
   "name": "python3"
  },
  "language_info": {
   "codemirror_mode": {
    "name": "ipython",
    "version": 3
   },
   "file_extension": ".py",
   "mimetype": "text/x-python",
   "name": "python",
   "nbconvert_exporter": "python",
   "pygments_lexer": "ipython3",
   "version": "3.10.7"
  },
  "orig_nbformat": 4,
  "vscode": {
   "interpreter": {
    "hash": "856971fa0a169429db2bf0c06b69517a5be6dea1d062d3d5bb82efdd1c5fddc9"
   }
  }
 },
 "nbformat": 4,
 "nbformat_minor": 2
}
