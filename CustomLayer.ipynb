{
 "cells": [
  {
   "cell_type": "markdown",
   "metadata": {},
   "source": [
    "# CustomLayer 定義\n",
    "\n",
    "如果你想要自己根據論文公式刻出一個model，下面一有一個最基本的範例可供使用\n",
    "PyTorch 在定義model會需要用到Parameter來打包可訓練參數\n",
    "這樣在優化器指定要優化的參數時，才可以透過Module.parameter()這個函式來快速調參\n",
    "\n",
    "而要注意的是當資料是以Batch的形式呈現，計算時要注意batch的軸不能消失\n",
    "否則在訓練資料的過程中就會失去Batch Training的意義"
   ]
  },
  {
   "cell_type": "code",
   "execution_count": 2,
   "metadata": {},
   "outputs": [
    {
     "name": "stderr",
     "output_type": "stream",
     "text": [
      "c:\\Users\\Wen2Tee5\\Desktop\\Postgraduate\\torchPlayGround\\pytorch\\lib\\site-packages\\tqdm\\auto.py:22: TqdmWarning: IProgress not found. Please update jupyter and ipywidgets. See https://ipywidgets.readthedocs.io/en/stable/user_install.html\n",
      "  from .autonotebook import tqdm as notebook_tqdm\n"
     ]
    }
   ],
   "source": [
    "import torch"
   ]
  },
  {
   "cell_type": "code",
   "execution_count": 3,
   "metadata": {},
   "outputs": [],
   "source": [
    "\n",
    "class LinearLayer(torch.nn.Module):\n",
    "\n",
    "    def __init__(self, in_feature, out_feature) -> None:\n",
    "        super(LinearLayer, self).__init__()\n",
    "        self.w1 = torch.nn.Parameter(torch.randn(size = (out_feature, in_feature), requires_grad=True))\n",
    "        self.b1 = torch.nn.Parameter(torch.randn(size = (out_feature, )))\n",
    "\n",
    "    def forward(self, x):\n",
    "        x = x @ self.w1.T + self.b1\n",
    "        return x"
   ]
  },
  {
   "cell_type": "code",
   "execution_count": 4,
   "metadata": {},
   "outputs": [],
   "source": [
    "linear = LinearLayer(20, 10)"
   ]
  },
  {
   "cell_type": "code",
   "execution_count": 5,
   "metadata": {},
   "outputs": [
    {
     "name": "stdout",
     "output_type": "stream",
     "text": [
      "torch.Size([10, 20])\n",
      "torch.Size([10])\n"
     ]
    }
   ],
   "source": [
    "for parm in linear.parameters():\n",
    "    print(parm.shape)"
   ]
  },
  {
   "cell_type": "code",
   "execution_count": 6,
   "metadata": {},
   "outputs": [],
   "source": [
    "x = torch.randn(size=(20,20))"
   ]
  },
  {
   "cell_type": "code",
   "execution_count": 7,
   "metadata": {},
   "outputs": [],
   "source": [
    "temp = linear(x)"
   ]
  },
  {
   "cell_type": "code",
   "execution_count": 8,
   "metadata": {},
   "outputs": [
    {
     "data": {
      "text/plain": [
       "torch.Size([20, 10])"
      ]
     },
     "execution_count": 8,
     "metadata": {},
     "output_type": "execute_result"
    }
   ],
   "source": [
    "temp.shape"
   ]
  },
  {
   "cell_type": "code",
   "execution_count": 9,
   "metadata": {},
   "outputs": [],
   "source": [
    "tempModel = torch.nn.Linear(20,10)"
   ]
  },
  {
   "cell_type": "code",
   "execution_count": 10,
   "metadata": {},
   "outputs": [
    {
     "name": "stdout",
     "output_type": "stream",
     "text": [
      "torch.Size([10, 20])\n",
      "torch.Size([10])\n"
     ]
    }
   ],
   "source": [
    "for parm in tempModel.parameters():\n",
    "    print(parm.shape)"
   ]
  },
  {
   "cell_type": "code",
   "execution_count": 12,
   "metadata": {},
   "outputs": [],
   "source": [
    "x = torch.randn(size=(2, 10))\n",
    "b = torch.randn(size=(10,))"
   ]
  },
  {
   "cell_type": "code",
   "execution_count": 13,
   "metadata": {},
   "outputs": [
    {
     "name": "stdout",
     "output_type": "stream",
     "text": [
      "tensor([[ 0.6079, -1.2496,  2.0597, -0.4728, -0.9358,  0.0396, -1.0480,  1.2702,\n",
      "          1.3784,  0.6608],\n",
      "        [-0.3934,  0.6642,  0.0392, -0.8562, -1.0865,  0.0327, -2.6049, -1.6452,\n",
      "          0.1189,  0.0759]])\n",
      "tensor([-1.3242, -2.2082,  1.0410, -1.4352,  0.6415,  0.8393,  0.3254,  0.9716,\n",
      "        -0.9552, -1.1094])\n"
     ]
    }
   ],
   "source": [
    "print(x)\n",
    "print(b)"
   ]
  },
  {
   "cell_type": "code",
   "execution_count": 14,
   "metadata": {},
   "outputs": [
    {
     "name": "stdout",
     "output_type": "stream",
     "text": [
      "tensor([[-0.7164, -3.4577,  3.1006, -1.9080, -0.2944,  0.8789, -0.7226,  2.2418,\n",
      "          0.4232, -0.4487],\n",
      "        [-1.7177, -1.5440,  1.0802, -2.2915, -0.4450,  0.8721, -2.2794, -0.6736,\n",
      "         -0.8363, -1.0335]])\n"
     ]
    }
   ],
   "source": [
    "print(x+1)"
   ]
  },
  {
   "cell_type": "code",
   "execution_count": null,
   "metadata": {},
   "outputs": [],
   "source": []
  }
 ],
 "metadata": {
  "kernelspec": {
   "display_name": "Python 3.10.7 ('pytorch': venv)",
   "language": "python",
   "name": "python3"
  },
  "language_info": {
   "codemirror_mode": {
    "name": "ipython",
    "version": 3
   },
   "file_extension": ".py",
   "mimetype": "text/x-python",
   "name": "python",
   "nbconvert_exporter": "python",
   "pygments_lexer": "ipython3",
   "version": "3.10.7"
  },
  "orig_nbformat": 4,
  "vscode": {
   "interpreter": {
    "hash": "688b5b5a3c39470b3f341fabd993807040f3b3b57631f0b8df6b2b47d9076c02"
   }
  }
 },
 "nbformat": 4,
 "nbformat_minor": 2
}
