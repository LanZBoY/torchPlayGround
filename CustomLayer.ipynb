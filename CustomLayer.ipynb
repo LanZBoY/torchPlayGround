{
 "cells": [
  {
   "cell_type": "markdown",
   "metadata": {},
   "source": [
    "# CustomLayer 定義\n",
    "\n",
    "如果你想要自己根據論文公式刻出一個model，下面一有一個最基本的範例可供使用\n",
    "PyTorch 在定義model會需要用到Parameter來打包可訓練參數\n",
    "這樣在優化器指定要優化的參數時，才可以透過Module.parameter()這個函式來快速調參\n",
    "\n",
    "而要注意的是當資料是以Batch的形式呈現，計算時要注意batch的軸不能消失\n",
    "否則在訓練資料的過程中就會失去Batch Training的意義\n",
    "\n",
    "也就是說公式需要改寫為\n",
    "## $$y=xW^T+b$$"
   ]
  },
  {
   "cell_type": "code",
   "execution_count": 1,
   "metadata": {},
   "outputs": [
    {
     "name": "stderr",
     "output_type": "stream",
     "text": [
      "c:\\Users\\Wen2Tee5\\Desktop\\Postgraduate\\torchPlayGround\\torchEnv\\lib\\site-packages\\tqdm\\auto.py:22: TqdmWarning: IProgress not found. Please update jupyter and ipywidgets. See https://ipywidgets.readthedocs.io/en/stable/user_install.html\n",
      "  from .autonotebook import tqdm as notebook_tqdm\n"
     ]
    }
   ],
   "source": [
    "import torch"
   ]
  },
  {
   "cell_type": "code",
   "execution_count": 2,
   "metadata": {},
   "outputs": [],
   "source": [
    "# 自定義一個layer來做影像辨識\n",
    "class LinearLayer(torch.nn.Module):\n",
    "\n",
    "    def __init__(self, in_feature, out_feature) -> None:\n",
    "        super(LinearLayer, self).__init__()\n",
    "        self.w1 = torch.nn.Parameter(torch.randn(size = (out_feature, in_feature), requires_grad=True))\n",
    "        self.b1 = torch.nn.Parameter(torch.randn(size = (out_feature, )))\n",
    "\n",
    "    def forward(self, x):\n",
    "        x = x @ self.w1.T + self.b1\n",
    "        return x"
   ]
  },
  {
   "cell_type": "code",
   "execution_count": 3,
   "metadata": {},
   "outputs": [
    {
     "name": "stdout",
     "output_type": "stream",
     "text": [
      "Using cuda device\n"
     ]
    }
   ],
   "source": [
    "device = \"cuda\" if torch.cuda.is_available() else \"cpu\"\n",
    "print(f\"Using {device} device\")"
   ]
  },
  {
   "cell_type": "code",
   "execution_count": 4,
   "metadata": {},
   "outputs": [],
   "source": [
    "import torch\n",
    "from torchvision.datasets import MNIST\n",
    "from torchvision.transforms import ToTensor\n",
    "from torch.utils.data import DataLoader"
   ]
  },
  {
   "cell_type": "code",
   "execution_count": 5,
   "metadata": {},
   "outputs": [],
   "source": [
    "train_dataset = MNIST(root='./basic_dataset', train = True, download= True, transform=ToTensor())\n",
    "test_dataset = MNIST(root='./basic_dataset', train = False, download= True, transform=ToTensor())"
   ]
  },
  {
   "cell_type": "code",
   "execution_count": 6,
   "metadata": {},
   "outputs": [],
   "source": [
    "trainLoader = DataLoader(train_dataset, batch_size=32, shuffle= True)\n",
    "testLoader = DataLoader(test_dataset, batch_size=32, shuffle= True)"
   ]
  },
  {
   "cell_type": "code",
   "execution_count": 7,
   "metadata": {},
   "outputs": [],
   "source": [
    "import torch.nn as nn\n",
    "import torch.optim as optim"
   ]
  },
  {
   "cell_type": "code",
   "execution_count": 8,
   "metadata": {},
   "outputs": [
    {
     "name": "stdout",
     "output_type": "stream",
     "text": [
      "NeuralNetwork(\n",
      "  (flatten): Flatten(start_dim=1, end_dim=-1)\n",
      "  (linear_relu_stack): Sequential(\n",
      "    (0): LinearLayer()\n",
      "    (1): ReLU()\n",
      "    (2): LinearLayer()\n",
      "    (3): ReLU()\n",
      "    (4): LinearLayer()\n",
      "  )\n",
      ")\n"
     ]
    }
   ],
   "source": [
    "class NeuralNetwork(nn.Module):\n",
    "    def __init__(self):\n",
    "        super(NeuralNetwork, self).__init__()\n",
    "        self.flatten = nn.Flatten()\n",
    "        self.linear_relu_stack = nn.Sequential(\n",
    "            LinearLayer(28*28, 512),\n",
    "            nn.ReLU(),\n",
    "            LinearLayer(512, 512),\n",
    "            nn.ReLU(),\n",
    "            LinearLayer(512, 10)\n",
    "        )\n",
    "\n",
    "    def forward(self, x):\n",
    "        x = self.flatten(x)\n",
    "        logits = self.linear_relu_stack(x)\n",
    "        return logits\n",
    "\n",
    "model = NeuralNetwork().to(device)\n",
    "print(model)"
   ]
  },
  {
   "cell_type": "code",
   "execution_count": 9,
   "metadata": {},
   "outputs": [],
   "source": [
    "loss_fn = nn.CrossEntropyLoss()\n",
    "optimizer = torch.optim.SGD(model.parameters(), lr=1e-3)"
   ]
  },
  {
   "cell_type": "code",
   "execution_count": 10,
   "metadata": {},
   "outputs": [],
   "source": [
    "def train(dataloader, model, loss_fn, optimizer):\n",
    "    size = len(dataloader.dataset)\n",
    "    model.train()\n",
    "    for batch, (X, y) in enumerate(dataloader):\n",
    "        X, y = X.to(device), y.to(device)\n",
    "\n",
    "        # Compute prediction error\n",
    "        pred = model(X)\n",
    "        loss = loss_fn(pred, y)\n",
    "        # Backpropagation\n",
    "        optimizer.zero_grad()\n",
    "        loss.backward()\n",
    "        optimizer.step()\n",
    "\n",
    "        if batch % 100 == 0:\n",
    "            loss, current = loss.item(), batch * len(X)\n",
    "            print(f\"loss: {loss:>7f}  [{current:>5d}/{size:>5d}]\")"
   ]
  },
  {
   "cell_type": "code",
   "execution_count": 11,
   "metadata": {},
   "outputs": [],
   "source": [
    "def test(dataloader, model, loss_fn):\n",
    "    size = len(dataloader.dataset)\n",
    "    num_batches = len(dataloader)\n",
    "    model.eval()\n",
    "    test_loss, correct = 0, 0\n",
    "    with torch.no_grad():\n",
    "        for X, y in dataloader:\n",
    "            X, y = X.to(device), y.to(device)\n",
    "            pred = model(X)\n",
    "            test_loss += loss_fn(pred, y).item()\n",
    "            correct += (pred.argmax(1) == y).type(torch.float).sum().item()\n",
    "    test_loss /= num_batches\n",
    "    correct /= size\n",
    "    print(f\"Test Error: \\n Accuracy: {(100*correct):>0.1f}%, Avg loss: {test_loss:>8f} \\n\")"
   ]
  },
  {
   "cell_type": "code",
   "execution_count": 12,
   "metadata": {},
   "outputs": [
    {
     "name": "stdout",
     "output_type": "stream",
     "text": [
      "Epoch 1\n",
      "-------------------------------\n",
      "loss: 4782.626953  [    0/60000]\n",
      "loss: 197.373199  [ 3200/60000]\n",
      "loss: 220.579132  [ 6400/60000]\n",
      "loss: 82.406097  [ 9600/60000]\n",
      "loss: 171.952866  [12800/60000]\n",
      "loss: 404.325745  [16000/60000]\n",
      "loss: 7.570625  [19200/60000]\n",
      "loss: 62.055294  [22400/60000]\n",
      "loss: 13.345665  [25600/60000]\n",
      "loss: 179.331604  [28800/60000]\n",
      "loss: 0.000000  [32000/60000]\n",
      "loss: 111.966049  [35200/60000]\n",
      "loss: 127.089119  [38400/60000]\n",
      "loss: 65.335205  [41600/60000]\n",
      "loss: 130.975403  [44800/60000]\n",
      "loss: 30.974018  [48000/60000]\n",
      "loss: 77.031799  [51200/60000]\n",
      "loss: 17.194908  [54400/60000]\n",
      "loss: 50.983852  [57600/60000]\n",
      "Test Error: \n",
      " Accuracy: 90.9%, Avg loss: 60.267712 \n",
      "\n",
      "Epoch 2\n",
      "-------------------------------\n",
      "loss: 73.616791  [    0/60000]\n",
      "loss: 108.506149  [ 3200/60000]\n",
      "loss: 38.035004  [ 6400/60000]\n",
      "loss: 173.741913  [ 9600/60000]\n",
      "loss: 0.000000  [12800/60000]\n",
      "loss: 73.306580  [16000/60000]\n",
      "loss: 35.227268  [19200/60000]\n",
      "loss: 63.249058  [22400/60000]\n",
      "loss: 23.871391  [25600/60000]\n",
      "loss: 56.761383  [28800/60000]\n",
      "loss: 0.012477  [32000/60000]\n",
      "loss: 8.448675  [35200/60000]\n",
      "loss: 17.289207  [38400/60000]\n",
      "loss: 24.001030  [41600/60000]\n",
      "loss: 93.638245  [44800/60000]\n",
      "loss: 0.000000  [48000/60000]\n",
      "loss: 13.783310  [51200/60000]\n",
      "loss: 34.804558  [54400/60000]\n",
      "loss: 45.630688  [57600/60000]\n",
      "Test Error: \n",
      " Accuracy: 92.0%, Avg loss: 44.746257 \n",
      "\n",
      "Epoch 3\n",
      "-------------------------------\n",
      "loss: 19.452400  [    0/60000]\n",
      "loss: 7.051933  [ 3200/60000]\n",
      "loss: 4.314545  [ 6400/60000]\n",
      "loss: 0.000000  [ 9600/60000]\n",
      "loss: 29.500114  [12800/60000]\n",
      "loss: 0.000000  [16000/60000]\n",
      "loss: 10.627232  [19200/60000]\n",
      "loss: 18.442757  [22400/60000]\n",
      "loss: 30.165949  [25600/60000]\n",
      "loss: 20.472786  [28800/60000]\n",
      "loss: 0.598261  [32000/60000]\n",
      "loss: 4.311768  [35200/60000]\n",
      "loss: 22.691170  [38400/60000]\n",
      "loss: 13.916801  [41600/60000]\n",
      "loss: 64.347900  [44800/60000]\n",
      "loss: 40.899765  [48000/60000]\n",
      "loss: 7.308949  [51200/60000]\n",
      "loss: 18.255104  [54400/60000]\n",
      "loss: 0.000000  [57600/60000]\n",
      "Test Error: \n",
      " Accuracy: 92.8%, Avg loss: 35.889814 \n",
      "\n",
      "Epoch 4\n",
      "-------------------------------\n",
      "loss: 13.149034  [    0/60000]\n",
      "loss: 0.000000  [ 3200/60000]\n",
      "loss: 0.000000  [ 6400/60000]\n",
      "loss: 21.336601  [ 9600/60000]\n",
      "loss: 9.642803  [12800/60000]\n",
      "loss: 4.758411  [16000/60000]\n",
      "loss: 29.445484  [19200/60000]\n",
      "loss: 21.556328  [22400/60000]\n",
      "loss: 50.077301  [25600/60000]\n",
      "loss: 0.000000  [28800/60000]\n",
      "loss: 95.143723  [32000/60000]\n",
      "loss: 0.000000  [35200/60000]\n",
      "loss: 59.165413  [38400/60000]\n",
      "loss: 18.817118  [41600/60000]\n",
      "loss: 18.054024  [44800/60000]\n",
      "loss: 56.975193  [48000/60000]\n",
      "loss: 16.390182  [51200/60000]\n",
      "loss: 9.879425  [54400/60000]\n",
      "loss: 22.112606  [57600/60000]\n",
      "Test Error: \n",
      " Accuracy: 93.4%, Avg loss: 32.196109 \n",
      "\n",
      "Epoch 5\n",
      "-------------------------------\n",
      "loss: 2.309227  [    0/60000]\n",
      "loss: 28.394970  [ 3200/60000]\n",
      "loss: 30.922546  [ 6400/60000]\n",
      "loss: 9.345982  [ 9600/60000]\n",
      "loss: 0.356865  [12800/60000]\n",
      "loss: 44.368549  [16000/60000]\n",
      "loss: 0.000000  [19200/60000]\n",
      "loss: 43.090900  [22400/60000]\n",
      "loss: 18.182751  [25600/60000]\n",
      "loss: 8.114517  [28800/60000]\n",
      "loss: 0.000000  [32000/60000]\n",
      "loss: 39.056152  [35200/60000]\n",
      "loss: 13.374672  [38400/60000]\n",
      "loss: 32.686531  [41600/60000]\n",
      "loss: 35.644505  [44800/60000]\n",
      "loss: 3.627522  [48000/60000]\n",
      "loss: 6.257942  [51200/60000]\n",
      "loss: 0.000000  [54400/60000]\n",
      "loss: 24.988396  [57600/60000]\n",
      "Test Error: \n",
      " Accuracy: 93.6%, Avg loss: 29.578457 \n",
      "\n",
      "Done!\n"
     ]
    }
   ],
   "source": [
    "epochs = 5\n",
    "for t in range(epochs):\n",
    "    print(f\"Epoch {t+1}\\n-------------------------------\")\n",
    "    train(trainLoader, model, loss_fn, optimizer)\n",
    "    test(testLoader, model, loss_fn)\n",
    "print(\"Done!\")"
   ]
  }
 ],
 "metadata": {
  "kernelspec": {
   "display_name": "Python 3.10.7 ('torchEnv': venv)",
   "language": "python",
   "name": "python3"
  },
  "language_info": {
   "codemirror_mode": {
    "name": "ipython",
    "version": 3
   },
   "file_extension": ".py",
   "mimetype": "text/x-python",
   "name": "python",
   "nbconvert_exporter": "python",
   "pygments_lexer": "ipython3",
   "version": "3.10.7"
  },
  "orig_nbformat": 4,
  "vscode": {
   "interpreter": {
    "hash": "856971fa0a169429db2bf0c06b69517a5be6dea1d062d3d5bb82efdd1c5fddc9"
   }
  }
 },
 "nbformat": 4,
 "nbformat_minor": 2
}
