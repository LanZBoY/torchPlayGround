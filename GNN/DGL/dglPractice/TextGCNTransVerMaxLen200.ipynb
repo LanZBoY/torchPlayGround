{
 "cells": [
  {
   "cell_type": "code",
   "execution_count": 1,
   "metadata": {},
   "outputs": [
    {
     "name": "stderr",
     "output_type": "stream",
     "text": [
      "c:\\Users\\Wen2Tee5\\Desktop\\Postgraduate\\torchPlayGround\\torchEnv\\lib\\site-packages\\tqdm\\auto.py:22: TqdmWarning: IProgress not found. Please update jupyter and ipywidgets. See https://ipywidgets.readthedocs.io/en/stable/user_install.html\n",
      "  from .autonotebook import tqdm as notebook_tqdm\n"
     ]
    }
   ],
   "source": [
    "import dgl\n",
    "import dgl.function as fn\n",
    "import torch\n",
    "import pandas as pd\n",
    "import os\n",
    "import numpy as np"
   ]
  },
  {
   "cell_type": "code",
   "execution_count": 2,
   "metadata": {},
   "outputs": [],
   "source": [
    "y_train = np.load('./R8/y_train.npy')\n",
    "y_test = np.load('./R8/y_test.npy')\n",
    "y_train = torch.tensor(y_train, dtype=torch.int64)\n",
    "y_test = torch.tensor(y_test, dtype=torch.int64)"
   ]
  },
  {
   "cell_type": "code",
   "execution_count": 3,
   "metadata": {},
   "outputs": [
    {
     "name": "stdout",
     "output_type": "stream",
     "text": [
      "tensor([0, 1, 0,  ..., 0, 7, 3])\n",
      "tensor([2, 4, 3,  ..., 5, 1, 3])\n"
     ]
    }
   ],
   "source": [
    "print(y_train)\n",
    "print(y_test)"
   ]
  },
  {
   "cell_type": "code",
   "execution_count": 4,
   "metadata": {},
   "outputs": [],
   "source": [
    "data, _ = dgl.load_graphs('./R8/TransductiveMaxLen200.bin')"
   ]
  },
  {
   "cell_type": "code",
   "execution_count": 5,
   "metadata": {},
   "outputs": [],
   "source": [
    "he : dgl.DGLHeteroGraph = data[0]"
   ]
  },
  {
   "cell_type": "code",
   "execution_count": 6,
   "metadata": {},
   "outputs": [],
   "source": [
    "DOC = 'doc'\n",
    "WORD = 'word'\n",
    "IN  = 'in'\n",
    "OCCUR = 'occur'\n",
    "PRESERVE = 'preserve'\n",
    "DOC_PRESERVE = (DOC, PRESERVE, DOC)\n",
    "DOC_CONTAIN = (WORD, IN, DOC)\n",
    "WORD_OCCUR = (WORD, OCCUR, WORD)\n",
    "DIC_OFFSET = 2"
   ]
  },
  {
   "cell_type": "code",
   "execution_count": 7,
   "metadata": {},
   "outputs": [
    {
     "data": {
      "text/plain": [
       "tensor([ True,  True,  True,  ..., False, False, False])"
      ]
     },
     "execution_count": 7,
     "metadata": {},
     "output_type": "execute_result"
    }
   ],
   "source": [
    "he.nodes[DOC].data['train_mask'] == 1"
   ]
  },
  {
   "cell_type": "code",
   "execution_count": 8,
   "metadata": {},
   "outputs": [],
   "source": [
    "class TEMPGCN(torch.nn.Module):\n",
    "\n",
    "    def __init__(self, g : dgl.DGLHeteroGraph, in_feat, h_feat, num_class) -> None:\n",
    "        super(TEMPGCN, self).__init__()\n",
    "        self.embed = torch.nn.Embedding(g.num_nodes(ntype = WORD), in_feat, padding_idx=0)\n",
    "        self.linear1 = torch.nn.Linear(in_feat, h_feat)\n",
    "        self.linear2 = torch.nn.Linear(h_feat, h_feat // 2)\n",
    "        self.linear3 = torch.nn.Linear(h_feat // 2, num_class)\n",
    "\n",
    "    def forward(self, g : dgl.DGLHeteroGraph):\n",
    "        with g.local_scope():\n",
    "            he.update_all(message_func=fn.u_mul_e('x','w', 'm'), reduce_func=fn.sum('m', 'h'), etype=WORD_OCCUR)\n",
    "            h = g.nodes[WORD].data['h']\n",
    "            h = torch.nn.functional.relu(self.linear1(h))\n",
    "            g.nodes[WORD].data['h'] = h\n",
    "            he.update_all(message_func=fn.u_mul_e('h', 'w', 'm'), reduce_func=fn.sum('m', 'h'), etype=DOC_CONTAIN)\n",
    "            h = g.nodes[DOC].data['h']\n",
    "            h = torch.nn.functional.relu(self.linear2(h))\n",
    "            h = self.linear3(h)\n",
    "        return h\n"
   ]
  },
  {
   "cell_type": "code",
   "execution_count": 9,
   "metadata": {},
   "outputs": [],
   "source": [
    "DEVICE = 'cuda' if torch.cuda.is_available() else 'cpu'"
   ]
  },
  {
   "cell_type": "code",
   "execution_count": 10,
   "metadata": {},
   "outputs": [],
   "source": [
    "model = TEMPGCN(he, 300, 64, 8).to(DEVICE)\n",
    "he = he.to(DEVICE)\n",
    "y_train = y_train.to(DEVICE)\n",
    "y_test = y_test.to(DEVICE)"
   ]
  },
  {
   "cell_type": "code",
   "execution_count": 11,
   "metadata": {},
   "outputs": [],
   "source": [
    "he.nodes[WORD].data['x'] = model.embed.weight"
   ]
  },
  {
   "cell_type": "code",
   "execution_count": 12,
   "metadata": {},
   "outputs": [],
   "source": [
    "train_mask = he.nodes[DOC].data['train_mask'] == 1\n",
    "test_mask = he.nodes[DOC].data['train_mask'] == 0"
   ]
  },
  {
   "cell_type": "code",
   "execution_count": 13,
   "metadata": {},
   "outputs": [],
   "source": [
    "opti = torch.optim.Adam(model.parameters(), lr=1e-2)\n",
    "loss_fn = torch.nn.CrossEntropyLoss()\n",
    "losses = []\n",
    "train_accs = []\n",
    "test_accs = []"
   ]
  },
  {
   "cell_type": "code",
   "execution_count": 14,
   "metadata": {},
   "outputs": [],
   "source": [
    "for epoch in range(300):\n",
    "    opti.zero_grad()\n",
    "    pred = model(he)\n",
    "    loss = loss_fn(pred[train_mask], y_train)\n",
    "    loss.backward()\n",
    "    opti.step()\n",
    "    losses.append(loss.item())\n",
    "    with torch.no_grad():\n",
    "        train_accs.append(((pred[train_mask].argmax(1)==y_train).sum().type(torch.float32) / len(y_train)).item())\n",
    "        test_accs.append(((pred[test_mask].argmax(1)==y_test).sum().type(torch.float32) / len(y_test)).item())"
   ]
  },
  {
   "cell_type": "code",
   "execution_count": 15,
   "metadata": {},
   "outputs": [],
   "source": [
    "import matplotlib.pyplot as plt"
   ]
  },
  {
   "cell_type": "code",
   "execution_count": 16,
   "metadata": {},
   "outputs": [
    {
     "data": {
      "image/png": "[encoded data removed]",
      "text/plain": [
       "<Figure size 640x480 with 1 Axes>"
      ]
     },
     "metadata": {},
     "output_type": "display_data"
    }
   ],
   "source": [
    "plt.plot(losses)\n",
    "plt.show()"
   ]
  },
  {
   "cell_type": "code",
   "execution_count": 17,
   "metadata": {},
   "outputs": [
    {
     "data": {
      "image/png": "[encoded data removed]",
      "text/plain": [
       "<Figure size 640x480 with 1 Axes>"
      ]
     },
     "metadata": {},
     "output_type": "display_data"
    }
   ],
   "source": [
    "plt.plot(train_accs, color ='r')\n",
    "plt.plot(test_accs, color ='b')\n",
    "plt.show()"
   ]
  },
  {
   "cell_type": "code",
   "execution_count": 18,
   "metadata": {},
   "outputs": [
    {
     "name": "stdout",
     "output_type": "stream",
     "text": [
      "Test Acc is 0.9387848377227783\n",
      "Train Acc is 0.9936189651489258\n"
     ]
    }
   ],
   "source": [
    "with torch.no_grad():\n",
    "    pred = model(he)\n",
    "    print(f'Test Acc is {(pred[test_mask].argmax(1)==y_test).sum().type(torch.float32) / len(y_test)}')\n",
    "    print(f'Train Acc is {(pred[train_mask].argmax(1)==y_train).sum().type(torch.float32) / len(y_train)}')"
   ]
  }
 ],
 "metadata": {
  "kernelspec": {
   "display_name": "Python 3.10.7 ('torchEnv': venv)",
   "language": "python",
   "name": "python3"
  },
  "language_info": {
   "codemirror_mode": {
    "name": "ipython",
    "version": 3
   },
   "file_extension": ".py",
   "mimetype": "text/x-python",
   "name": "python",
   "nbconvert_exporter": "python",
   "pygments_lexer": "ipython3",
   "version": "3.10.7"
  },
  "orig_nbformat": 4,
  "vscode": {
   "interpreter": {
    "hash": "856971fa0a169429db2bf0c06b69517a5be6dea1d062d3d5bb82efdd1c5fddc9"
   }
  }
 },
 "nbformat": 4,
 "nbformat_minor": 2
}
