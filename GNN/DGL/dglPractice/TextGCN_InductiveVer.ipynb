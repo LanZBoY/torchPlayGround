{
 "cells": [
  {
   "cell_type": "code",
   "execution_count": 1,
   "metadata": {},
   "outputs": [
    {
     "name": "stderr",
     "output_type": "stream",
     "text": [
      "c:\\Users\\Wen2Tee5\\Desktop\\Postgraduate\\torchPlayGround\\torchEnv\\lib\\site-packages\\tqdm\\auto.py:22: TqdmWarning: IProgress not found. Please update jupyter and ipywidgets. See https://ipywidgets.readthedocs.io/en/stable/user_install.html\n",
      "  from .autonotebook import tqdm as notebook_tqdm\n"
     ]
    }
   ],
   "source": [
    "import torch\n",
    "import dgl\n",
    "import numpy as np\n",
    "import pandas as pd\n",
    "import os\n",
    "import pickle\n",
    "from NLPUtils.preprocessUtils import removePunctuation, removeWord\n",
    "from NLPUtils.DataModel import Vocabulary\n",
    "from nltk.corpus import stopwords\n"
   ]
  },
  {
   "cell_type": "code",
   "execution_count": 2,
   "metadata": {},
   "outputs": [],
   "source": [
    "ROOT = '.\\\\R8'\n",
    "TRAIN = 'train.txt'\n",
    "TEST = 'test.txt'"
   ]
  },
  {
   "cell_type": "code",
   "execution_count": 3,
   "metadata": {},
   "outputs": [],
   "source": [
    "UNK = '<unk>'\n",
    "MAXLEN = 30"
   ]
  },
  {
   "cell_type": "code",
   "execution_count": 4,
   "metadata": {},
   "outputs": [],
   "source": [
    "removeWordList = stopwords.words('english')"
   ]
  },
  {
   "cell_type": "code",
   "execution_count": 5,
   "metadata": {},
   "outputs": [],
   "source": [
    "df = pd.read_csv(os.path.join(ROOT, TRAIN), encoding='utf-8',sep='\\t', header=None)"
   ]
  },
  {
   "cell_type": "code",
   "execution_count": 6,
   "metadata": {},
   "outputs": [],
   "source": [
    "label2idx = {label : i for i, label in enumerate(df[0].unique())}"
   ]
  },
  {
   "cell_type": "code",
   "execution_count": 7,
   "metadata": {},
   "outputs": [],
   "source": [
    "y_train = []\n",
    "for label in df[0]:\n",
    "    y_train.append(label2idx[label])\n",
    "y_train = np.array(y_train)"
   ]
  },
  {
   "cell_type": "code",
   "execution_count": 8,
   "metadata": {},
   "outputs": [],
   "source": [
    "SPECIAL_TOKEN = {'<unk>' : 0}"
   ]
  },
  {
   "cell_type": "code",
   "execution_count": 9,
   "metadata": {},
   "outputs": [],
   "source": [
    "voc = Vocabulary(TOKENS=SPECIAL_TOKEN, MAXLEN=MAXLEN)"
   ]
  },
  {
   "cell_type": "code",
   "execution_count": 10,
   "metadata": {},
   "outputs": [],
   "source": [
    "x_datas = []"
   ]
  },
  {
   "cell_type": "code",
   "execution_count": 11,
   "metadata": {},
   "outputs": [],
   "source": [
    "for sentence in df[1]:\n",
    "    x_data = removeWord(removeWordList=removeWordList, sentence=sentence)\n",
    "    voc.addSentence(x_data)\n",
    "    x_datas.append(x_data)"
   ]
  },
  {
   "cell_type": "code",
   "execution_count": 12,
   "metadata": {},
   "outputs": [
    {
     "data": {
      "text/plain": [
       "12434"
      ]
     },
     "execution_count": 12,
     "metadata": {},
     "output_type": "execute_result"
    }
   ],
   "source": [
    "len(voc.word2idx)"
   ]
  },
  {
   "cell_type": "code",
   "execution_count": 13,
   "metadata": {},
   "outputs": [
    {
     "data": {
      "text/plain": [
       "12434"
      ]
     },
     "execution_count": 13,
     "metadata": {},
     "output_type": "execute_result"
    }
   ],
   "source": [
    "voc.num_words"
   ]
  },
  {
   "cell_type": "code",
   "execution_count": 14,
   "metadata": {},
   "outputs": [],
   "source": [
    "with open('./R8/voc.data', 'wb') as f:\n",
    "    pickle.dump(voc, f)"
   ]
  },
  {
   "cell_type": "code",
   "execution_count": 15,
   "metadata": {},
   "outputs": [],
   "source": [
    "x_list = []\n",
    "\n",
    "for sentence in x_datas:\n",
    "    idxList = [voc.word2idx[word] for word in sentence.split()[:MAXLEN]]\n",
    "    while len(idxList) < MAXLEN:\n",
    "        idxList.append(voc.word2idx['<unk>'])\n",
    "    x_list.append(idxList)"
   ]
  },
  {
   "cell_type": "code",
   "execution_count": 16,
   "metadata": {},
   "outputs": [],
   "source": [
    "x_train = np.array(x_list, dtype=np.int64)"
   ]
  },
  {
   "cell_type": "code",
   "execution_count": 17,
   "metadata": {},
   "outputs": [
    {
     "data": {
      "text/plain": [
       "True"
      ]
     },
     "execution_count": 17,
     "metadata": {},
     "output_type": "execute_result"
    }
   ],
   "source": [
    "len(x_train) == len(y_train)"
   ]
  },
  {
   "cell_type": "markdown",
   "metadata": {},
   "source": [
    "# Constructing Graph (Inductive)"
   ]
  },
  {
   "cell_type": "code",
   "execution_count": 18,
   "metadata": {},
   "outputs": [],
   "source": [
    "from dgl.data import DGLDataset\n",
    "\n",
    "class R8InductiveGraphDataset(DGLDataset):\n",
    "\n",
    "    def __init__(self, x : np.ndarray, y : np.ndarray, window_size = 3,  name = \"R8\"):\n",
    "        super().__init__(name)\n",
    "        self.datas = []\n",
    "        self.y = y\n",
    "        self.graphs = []\n",
    "        self.labels = torch.from_numpy(self.y).type(torch.long)\n",
    "\n",
    "        for data in x:\n",
    "            src_nodes = []\n",
    "            dst_nodes = []\n",
    "            self.datas.append(torch.from_numpy(np.unique(data)))\n",
    "            hashTable = self.constructHash(np.unique(data))\n",
    "            nodeIds = [hashTable[i] for i in data]\n",
    "            for i in range(len(nodeIds) - window_size + 1):\n",
    "                window = nodeIds[i : i + window_size]\n",
    "                src, dst = self.connectFully(window=window)\n",
    "                src_nodes += src\n",
    "                dst_nodes += dst\n",
    "            graph = dgl.graph(data=(src_nodes, dst_nodes))\n",
    "            graph = dgl.add_self_loop(graph)\n",
    "            self.graphs.append(graph)\n",
    "\n",
    "    def constructHash(self, data):\n",
    "        wordId2nodeId = {wordId: nodeId for nodeId, wordId in enumerate(data)}\n",
    "        return wordId2nodeId\n",
    "        \n",
    "    def connectFully(self, window):\n",
    "        src_nodes = []\n",
    "        dst_nodes = []\n",
    "        for j in range(len(window)):\n",
    "            for k in range(j + 1, len(window)):\n",
    "                src_nodes.append(window[j])\n",
    "                dst_nodes.append(window[k])\n",
    "        temp_src = src_nodes\n",
    "        temp_dst = dst_nodes\n",
    "        src_nodes = src_nodes + temp_dst\n",
    "        dst_nodes = dst_nodes + temp_src\n",
    "        return src_nodes, dst_nodes\n",
    "\n",
    "    def __len__(self):\n",
    "        return len(self.graphs)\n",
    "\n",
    "    def __getitem__(self, idx):\n",
    "        return self.graphs[idx], self.datas[idx], self.labels[idx]\n",
    "# load Dataset\n",
    "dataset = R8InductiveGraphDataset(x = x_train, y = y_train)"
   ]
  },
  {
   "cell_type": "code",
   "execution_count": 19,
   "metadata": {},
   "outputs": [
    {
     "name": "stdout",
     "output_type": "stream",
     "text": [
      "Graph(num_nodes=20, num_edges=188,\n",
      "      ndata_schemes={}\n",
      "      edata_schemes={})\n",
      "torch.Size([20])\n"
     ]
    }
   ],
   "source": [
    "graph, data, y = dataset[100]\n",
    "print(graph)\n",
    "print(data.shape)"
   ]
  },
  {
   "cell_type": "code",
   "execution_count": 20,
   "metadata": {},
   "outputs": [],
   "source": [
    "from dgl.dataloading import GraphDataLoader\n",
    "from torch.utils.data.sampler import SubsetRandomSampler\n",
    "dataLoader = GraphDataLoader(dataset=dataset, batch_size = 5)"
   ]
  },
  {
   "cell_type": "code",
   "execution_count": 21,
   "metadata": {},
   "outputs": [],
   "source": [
    "from dgl.nn.pytorch import GraphConv\n",
    "# https://docs.dgl.ai/en/latest/generated/dgl.nn.pytorch.conv.GraphConv.html\n",
    "class GCN(torch.nn.Module):\n",
    "    def __init__(self, voc_len, embeding_dim , h_feats, num_classes):\n",
    "        super(GCN, self).__init__()\n",
    "        self.embddingLayer = torch.nn.Embedding(voc_len, embeding_dim)\n",
    "        self.conv1 = GraphConv(embeding_dim, h_feats)\n",
    "        self.conv2 = GraphConv(h_feats, num_classes)\n",
    "\n",
    "    def forward(self, g, data):\n",
    "        nodes_feat = self.embddingLayer(data)\n",
    "        h = self.conv1(g, nodes_feat)\n",
    "        h = torch.nn.functional.relu(h)\n",
    "        h = self.conv2(g, h)\n",
    "        g.ndata['h'] = h\n",
    "        return dgl.mean_nodes(g, 'h')\n",
    "        \n",
    "\n",
    "# Create the model with given dimensions\n",
    "DEVICE = 'cuda' if torch.cuda.is_available() else 'cpu'\n",
    "model = GCN(voc.num_words, 200, 16, 8).to(DEVICE)\n",
    "\n",
    "# graph, data, y = dataset[1]\n",
    "# pred = model(graph, data)\n",
    "\n",
    "# print(pred)"
   ]
  },
  {
   "cell_type": "code",
   "execution_count": 22,
   "metadata": {},
   "outputs": [],
   "source": [
    "from tqdm import tqdm"
   ]
  },
  {
   "cell_type": "code",
   "execution_count": 23,
   "metadata": {},
   "outputs": [
    {
     "name": "stderr",
     "output_type": "stream",
     "text": [
      "100%|██████████| 5485/5485 [00:31<00:00, 175.13it/s]\n",
      "100%|██████████| 5485/5485 [00:29<00:00, 183.56it/s]\n",
      "100%|██████████| 5485/5485 [00:29<00:00, 185.94it/s]\n",
      "100%|██████████| 5485/5485 [00:30<00:00, 182.25it/s]\n",
      "100%|██████████| 5485/5485 [00:30<00:00, 181.91it/s]\n",
      "100%|██████████| 5485/5485 [00:30<00:00, 181.56it/s]\n",
      "100%|██████████| 5485/5485 [00:30<00:00, 180.55it/s]\n",
      "100%|██████████| 5485/5485 [00:30<00:00, 179.55it/s]\n",
      "100%|██████████| 5485/5485 [00:30<00:00, 181.28it/s]\n",
      "100%|██████████| 5485/5485 [00:29<00:00, 183.03it/s]\n",
      "100%|██████████| 5485/5485 [00:30<00:00, 181.44it/s]\n",
      "100%|██████████| 5485/5485 [00:30<00:00, 181.07it/s]\n",
      "100%|██████████| 5485/5485 [00:30<00:00, 180.66it/s]\n",
      "100%|██████████| 5485/5485 [00:30<00:00, 180.81it/s]\n",
      "100%|██████████| 5485/5485 [00:30<00:00, 179.97it/s]\n",
      "100%|██████████| 5485/5485 [00:30<00:00, 179.94it/s]\n",
      "100%|██████████| 5485/5485 [00:30<00:00, 180.05it/s]\n",
      "100%|██████████| 5485/5485 [00:30<00:00, 179.50it/s]\n",
      "100%|██████████| 5485/5485 [00:30<00:00, 179.89it/s]\n",
      "100%|██████████| 5485/5485 [00:30<00:00, 180.25it/s]\n"
     ]
    }
   ],
   "source": [
    "loss_fn = torch.nn.CrossEntropyLoss()\n",
    "opti = torch.optim.Adam(model.parameters())\n",
    "losses = []\n",
    "for epoch in range(20):\n",
    "    for graph, data, y in tqdm(dataset):\n",
    "        graph, data, y = graph.to(DEVICE), data.to(DEVICE), y.to(DEVICE)\n",
    "        opti.zero_grad()\n",
    "        pred = model(graph, data)\n",
    "        loss = loss_fn(pred, y.view(-1))\n",
    "        loss.backward()\n",
    "        opti.step()\n",
    "        loss_value = loss.item()\n",
    "    losses.append(loss_value)"
   ]
  },
  {
   "cell_type": "code",
   "execution_count": 24,
   "metadata": {},
   "outputs": [
    {
     "data": {
      "image/png": "[encoded data removed]",
      "text/plain": [
       "<Figure size 640x480 with 1 Axes>"
      ]
     },
     "metadata": {},
     "output_type": "display_data"
    }
   ],
   "source": [
    "import matplotlib.pyplot as plt\n",
    "\n",
    "plt.plot(losses)\n",
    "plt.show()"
   ]
  },
  {
   "cell_type": "code",
   "execution_count": 26,
   "metadata": {},
   "outputs": [
    {
     "name": "stdout",
     "output_type": "stream",
     "text": [
      "0.9992707383773929\n"
     ]
    }
   ],
   "source": [
    "correct = 0.\n",
    "with torch.no_grad():\n",
    "    for graph, data, y in dataset:\n",
    "        graph, data, y = graph.to(DEVICE), data.to(DEVICE), y.to(DEVICE)\n",
    "        pred = model(graph, data)\n",
    "        correct += (pred.argmax() == y).type(torch.float32).item()\n",
    "print(correct / len(dataset))\n",
    "    "
   ]
  },
  {
   "cell_type": "code",
   "execution_count": 27,
   "metadata": {},
   "outputs": [],
   "source": [
    "df = pd.read_csv(os.path.join(ROOT, TEST), encoding='utf-8',sep='\\t', header=None)\n",
    "y_test = []\n",
    "for label in df[0]:\n",
    "    y_test.append(label2idx[label])\n",
    "y_test = np.array(y_test)"
   ]
  },
  {
   "cell_type": "code",
   "execution_count": 28,
   "metadata": {},
   "outputs": [],
   "source": [
    "x_test = []\n",
    "for sentence in df[1]:\n",
    "    sentence = removeWord(removeWordList=removeWordList, sentence=sentence)\n",
    "    sentence = sentence.split()\n",
    "    x_data = []\n",
    "    for word in sentence[:MAXLEN]:\n",
    "        if word in voc.word2idx:\n",
    "            x_data.append(voc.word2idx[word])\n",
    "        else:\n",
    "            x_data.append(0)\n",
    "    while len(x_data) < MAXLEN:\n",
    "        x_data.append(0)\n",
    "    x_test.append(x_data)\n",
    "x_test = np.array(x_test, dtype=np.int64)"
   ]
  },
  {
   "cell_type": "code",
   "execution_count": 29,
   "metadata": {},
   "outputs": [
    {
     "data": {
      "text/plain": [
       "(2189, 30)"
      ]
     },
     "execution_count": 29,
     "metadata": {},
     "output_type": "execute_result"
    }
   ],
   "source": [
    "x_test.shape"
   ]
  },
  {
   "cell_type": "code",
   "execution_count": 30,
   "metadata": {},
   "outputs": [],
   "source": [
    "test_dataset = R8InductiveGraphDataset(x = x_test, y = y_test)"
   ]
  },
  {
   "cell_type": "code",
   "execution_count": 31,
   "metadata": {},
   "outputs": [
    {
     "name": "stdout",
     "output_type": "stream",
     "text": [
      "0.3821330902461258\n"
     ]
    }
   ],
   "source": [
    "correct = 0.\n",
    "with torch.no_grad():\n",
    "    for graph, data, y in test_dataset:\n",
    "        graph, data, y = graph.to(DEVICE), data.to(DEVICE), y.to(DEVICE)\n",
    "        pred = model(graph, data)\n",
    "        correct += (pred.argmax() == y).type(torch.float32).item()\n",
    "print(correct / len(dataset))"
   ]
  }
 ],
 "metadata": {
  "kernelspec": {
   "display_name": "Python 3.10.7 ('torchEnv': venv)",
   "language": "python",
   "name": "python3"
  },
  "language_info": {
   "codemirror_mode": {
    "name": "ipython",
    "version": 3
   },
   "file_extension": ".py",
   "mimetype": "text/x-python",
   "name": "python",
   "nbconvert_exporter": "python",
   "pygments_lexer": "ipython3",
   "version": "3.10.7"
  },
  "orig_nbformat": 4,
  "vscode": {
   "interpreter": {
    "hash": "856971fa0a169429db2bf0c06b69517a5be6dea1d062d3d5bb82efdd1c5fddc9"
   }
  }
 },
 "nbformat": 4,
 "nbformat_minor": 2
}
