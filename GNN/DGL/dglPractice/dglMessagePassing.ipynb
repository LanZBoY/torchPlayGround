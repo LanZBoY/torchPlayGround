{
 "cells": [
  {
   "cell_type": "markdown",
   "metadata": {},
   "source": [
    "# MessagePassing API"
   ]
  },
  {
   "cell_type": "code",
   "execution_count": 7,
   "metadata": {},
   "outputs": [],
   "source": [
    "import torch\n",
    "import dgl\n",
    "import dgl.function as fn"
   ]
  },
  {
   "cell_type": "code",
   "execution_count": 8,
   "metadata": {},
   "outputs": [],
   "source": [
    "g = dgl.graph(([0,0],[0,1]))\n",
    "g.ndata['x'] = torch.tensor([[1.,0.],[0.,1.]])\n",
    "# g.ndata['t'] = torch.tensor([[2.,1.],[1.,1.]])"
   ]
  },
  {
   "cell_type": "code",
   "execution_count": 9,
   "metadata": {},
   "outputs": [],
   "source": [
    "g.edata['w'] = torch.tensor([0.5, 0.2])"
   ]
  },
  {
   "cell_type": "markdown",
   "metadata": {},
   "source": [
    "# DGL Built-in Functions\n",
    "\n",
    "```python\n",
    "fn.u_add_v('x','t', 'm')\n",
    "```\n",
    "前面三個的參數意義, 先觀察函式u_add_v 左到右 第一個為來源feature加到第二個目標feature最後存到結果feature中\n",
    "因為是用dict或是Hash的方式儲存會多出一個欄位為m"
   ]
  },
  {
   "cell_type": "code",
   "execution_count": 359,
   "metadata": {},
   "outputs": [],
   "source": [
    "g.update_all(message_func=fn.u_add_v('x','x','m'), reduce_func=fn.sum(msg='m', out='h1'))"
   ]
  },
  {
   "cell_type": "code",
   "execution_count": 11,
   "metadata": {},
   "outputs": [],
   "source": [
    "g.update_all(message_func=fn.u_mul_e('x','w','m'), reduce_func=fn.sum(msg='m', out='h1'))"
   ]
  },
  {
   "cell_type": "code",
   "execution_count": null,
   "metadata": {},
   "outputs": [],
   "source": []
  }
 ],
 "metadata": {
  "kernelspec": {
   "display_name": "Python 3.10.7 ('torchEnv': venv)",
   "language": "python",
   "name": "python3"
  },
  "language_info": {
   "codemirror_mode": {
    "name": "ipython",
    "version": 3
   },
   "file_extension": ".py",
   "mimetype": "text/x-python",
   "name": "python",
   "nbconvert_exporter": "python",
   "pygments_lexer": "ipython3",
   "version": "3.10.7"
  },
  "orig_nbformat": 4,
  "vscode": {
   "interpreter": {
    "hash": "856971fa0a169429db2bf0c06b69517a5be6dea1d062d3d5bb82efdd1c5fddc9"
   }
  }
 },
 "nbformat": 4,
 "nbformat_minor": 2
}
