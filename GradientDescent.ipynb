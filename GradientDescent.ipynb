{
 "cells": [
  {
   "cell_type": "markdown",
   "metadata": {},
   "source": [
    "# 不使用優化器來挑整參數\n"
   ]
  },
  {
   "cell_type": "code",
   "execution_count": 1,
   "metadata": {},
   "outputs": [
    {
     "name": "stderr",
     "output_type": "stream",
     "text": [
      "c:\\Users\\Wen2Tee5\\Desktop\\Postgraduate\\torchPlayGround\\torchEnv\\lib\\site-packages\\tqdm\\auto.py:22: TqdmWarning: IProgress not found. Please update jupyter and ipywidgets. See https://ipywidgets.readthedocs.io/en/stable/user_install.html\n",
      "  from .autonotebook import tqdm as notebook_tqdm\n"
     ]
    }
   ],
   "source": [
    "import torch"
   ]
  },
  {
   "cell_type": "code",
   "execution_count": 2,
   "metadata": {},
   "outputs": [],
   "source": [
    "a = torch.randn(size=(3,5))\n",
    "b = torch.randn(size=(5,3))"
   ]
  },
  {
   "cell_type": "code",
   "execution_count": 3,
   "metadata": {},
   "outputs": [
    {
     "data": {
      "text/plain": [
       "tensor([[ 1.4685,  0.9684,  0.2030],\n",
       "        [-2.0654,  3.1905,  4.0499],\n",
       "        [-0.0838,  3.3795,  4.3919]])"
      ]
     },
     "execution_count": 3,
     "metadata": {},
     "output_type": "execute_result"
    }
   ],
   "source": [
    "a @ b "
   ]
  },
  {
   "cell_type": "markdown",
   "metadata": {},
   "source": [
    "# 根據基本機器學習公式來最佳化參數\n",
    "## $$y=xW+b$$\n",
    "## $$x\\in\\Bbb{R^5}$$ $$W\\in\\Bbb{R^{5*1}}$$ $$b\\in\\Bbb{R^1}$$\n",
    "給定一個$y$跟$x$透過梯度下降法的找$W$跟$b$"
   ]
  },
  {
   "cell_type": "code",
   "execution_count": 4,
   "metadata": {},
   "outputs": [],
   "source": [
    "LEARNING_RATE = 1e-1\n",
    "y = torch.tensor([20.])\n",
    "x = torch.ones((5)).to(torch.float32)\n",
    "w = torch.randn(size=(5, 1), requires_grad = True)\n",
    "b = torch.randn(size=(1,), requires_grad = True)\n",
    "loss_fn = torch.nn.MSELoss()"
   ]
  },
  {
   "cell_type": "code",
   "execution_count": 5,
   "metadata": {},
   "outputs": [
    {
     "name": "stdout",
     "output_type": "stream",
     "text": [
      "===========================\n",
      "Loss value is 508.2322998046875\n",
      "y = tensor([20.])\n",
      "z = tensor([-2.5440], grad_fn=<AddBackward0>)\n",
      "===========================\n",
      "Loss value is 20.329317092895508\n",
      "y = tensor([20.])\n",
      "z = tensor([24.5088], grad_fn=<AddBackward0>)\n",
      "===========================\n",
      "Loss value is 0.8131781816482544\n",
      "y = tensor([20.])\n",
      "z = tensor([19.0982], grad_fn=<AddBackward0>)\n",
      "===========================\n",
      "Loss value is 0.03252726420760155\n",
      "y = tensor([20.])\n",
      "z = tensor([20.1804], grad_fn=<AddBackward0>)\n",
      "===========================\n",
      "Loss value is 0.001300897914916277\n",
      "y = tensor([20.])\n",
      "z = tensor([19.9639], grad_fn=<AddBackward0>)\n",
      "===========================\n",
      "Loss value is 5.2035917178727686e-05\n",
      "y = tensor([20.])\n",
      "z = tensor([20.0072], grad_fn=<AddBackward0>)\n",
      "===========================\n",
      "Loss value is 2.090251655317843e-06\n",
      "y = tensor([20.])\n",
      "z = tensor([19.9986], grad_fn=<AddBackward0>)\n",
      "===========================\n",
      "Loss value is 8.405186235904694e-08\n",
      "y = tensor([20.])\n",
      "z = tensor([20.0003], grad_fn=<AddBackward0>)\n",
      "===========================\n",
      "Loss value is 3.2741809263825417e-09\n",
      "y = tensor([20.])\n",
      "z = tensor([19.9999], grad_fn=<AddBackward0>)\n",
      "===========================\n",
      "Loss value is 1.3096723705530167e-10\n",
      "y = tensor([20.])\n",
      "z = tensor([20.0000], grad_fn=<AddBackward0>)\n"
     ]
    }
   ],
   "source": [
    "for epoch in range(10):\n",
    "    z = x @ w + b\n",
    "    loss = loss_fn(z, y)\n",
    "    loss.backward()\n",
    "    print(\"===========================\")\n",
    "    print(f'Loss value is {loss.item()}')\n",
    "    print(f'y = {y}')\n",
    "    print(f'z = {z}')\n",
    "    with torch.no_grad():\n",
    "        w = w - LEARNING_RATE * w.grad.data\n",
    "        b = b - LEARNING_RATE * b.grad.data\n",
    "    w.requires_grad = True\n",
    "    b.requires_grad = True"
   ]
  },
  {
   "cell_type": "code",
   "execution_count": null,
   "metadata": {},
   "outputs": [],
   "source": []
  }
 ],
 "metadata": {
  "kernelspec": {
   "display_name": "Python 3.10.7 ('torchEnv': venv)",
   "language": "python",
   "name": "python3"
  },
  "language_info": {
   "codemirror_mode": {
    "name": "ipython",
    "version": 3
   },
   "file_extension": ".py",
   "mimetype": "text/x-python",
   "name": "python",
   "nbconvert_exporter": "python",
   "pygments_lexer": "ipython3",
   "version": "3.10.7"
  },
  "orig_nbformat": 4,
  "vscode": {
   "interpreter": {
    "hash": "856971fa0a169429db2bf0c06b69517a5be6dea1d062d3d5bb82efdd1c5fddc9"
   }
  }
 },
 "nbformat": 4,
 "nbformat_minor": 2
}
