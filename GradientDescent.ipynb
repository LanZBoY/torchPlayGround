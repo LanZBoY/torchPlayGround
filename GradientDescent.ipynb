{
 "cells": [
  {
   "cell_type": "markdown",
   "metadata": {},
   "source": [
    "# 不使用優化器來挑整參數\n"
   ]
  },
  {
   "cell_type": "code",
   "execution_count": 1,
   "metadata": {},
   "outputs": [],
   "source": [
    "import torch"
   ]
  },
  {
   "cell_type": "code",
   "execution_count": 8,
   "metadata": {},
   "outputs": [],
   "source": [
    "a = torch.randn(size=(3,5))\n",
    "b = torch.randn(size=(5,3))"
   ]
  },
  {
   "cell_type": "code",
   "execution_count": 9,
   "metadata": {},
   "outputs": [
    {
     "data": {
      "text/plain": [
       "tensor([[-0.2833,  3.4690,  5.1431],\n",
       "        [ 4.5360, -2.5339,  2.0496],\n",
       "        [ 3.0337,  1.6486, -0.4641]])"
      ]
     },
     "execution_count": 9,
     "metadata": {},
     "output_type": "execute_result"
    }
   ],
   "source": [
    "a @ b "
   ]
  },
  {
   "cell_type": "code",
   "execution_count": 4,
   "metadata": {},
   "outputs": [],
   "source": [
    "LEARNING_RATE = 1e-1\n",
    "y = torch.tensor([20.])\n",
    "x = torch.ones((5)).to(torch.float32)\n",
    "w = torch.randn(size=(5, 1), requires_grad = True)\n",
    "b = torch.randn(size=(1,), requires_grad = True)\n",
    "loss_fn = torch.nn.MSELoss()"
   ]
  },
  {
   "cell_type": "code",
   "execution_count": 5,
   "metadata": {},
   "outputs": [
    {
     "name": "stdout",
     "output_type": "stream",
     "text": [
      "===========================\n",
      "Loss value is 537.4674072265625\n",
      "y = tensor([20.])\n",
      "z = tensor([-3.1833], grad_fn=<AddBackward0>)\n",
      "===========================\n",
      "Loss value is 21.498701095581055\n",
      "y = tensor([20.])\n",
      "z = tensor([24.6367], grad_fn=<AddBackward0>)\n",
      "===========================\n",
      "Loss value is 0.8599480390548706\n",
      "y = tensor([20.])\n",
      "z = tensor([19.0727], grad_fn=<AddBackward0>)\n",
      "===========================\n",
      "Loss value is 0.034397922456264496\n",
      "y = tensor([20.])\n",
      "z = tensor([20.1855], grad_fn=<AddBackward0>)\n",
      "===========================\n",
      "Loss value is 0.0013759734574705362\n",
      "y = tensor([20.])\n",
      "z = tensor([19.9629], grad_fn=<AddBackward0>)\n",
      "===========================\n",
      "Loss value is 5.505025910679251e-05\n",
      "y = tensor([20.])\n",
      "z = tensor([20.0074], grad_fn=<AddBackward0>)\n",
      "===========================\n",
      "Loss value is 2.2020103642717004e-06\n",
      "y = tensor([20.])\n",
      "z = tensor([19.9985], grad_fn=<AddBackward0>)\n",
      "===========================\n",
      "Loss value is 8.627830538898706e-08\n",
      "y = tensor([20.])\n",
      "z = tensor([20.0003], grad_fn=<AddBackward0>)\n",
      "===========================\n",
      "Loss value is 3.0595401767641306e-09\n",
      "y = tensor([20.])\n",
      "z = tensor([19.9999], grad_fn=<AddBackward0>)\n",
      "===========================\n",
      "Loss value is 5.820766091346741e-11\n",
      "y = tensor([20.])\n",
      "z = tensor([20.0000], grad_fn=<AddBackward0>)\n"
     ]
    }
   ],
   "source": [
    "for epoch in range(10):\n",
    "    z = x @ w + b\n",
    "    loss = loss_fn(y, z)\n",
    "    loss.backward()\n",
    "    print(\"===========================\")\n",
    "    print(f'Loss value is {loss.item()}')\n",
    "    print(f'y = {y}')\n",
    "    print(f'z = {z}')\n",
    "    with torch.no_grad():\n",
    "        w = w - LEARNING_RATE * w.grad.data\n",
    "        b = b - LEARNING_RATE * b.grad.data\n",
    "    w.requires_grad = True\n",
    "    b.requires_grad = True"
   ]
  }
 ],
 "metadata": {
  "kernelspec": {
   "display_name": "Python 3.10.7 ('pytorch': venv)",
   "language": "python",
   "name": "python3"
  },
  "language_info": {
   "codemirror_mode": {
    "name": "ipython",
    "version": 3
   },
   "file_extension": ".py",
   "mimetype": "text/x-python",
   "name": "python",
   "nbconvert_exporter": "python",
   "pygments_lexer": "ipython3",
   "version": "3.10.7"
  },
  "orig_nbformat": 4,
  "vscode": {
   "interpreter": {
    "hash": "69465f8012bc8209665d9cbe96a44652f48a74cf23ffa7f2a4d4373e52b4e5fb"
   }
  }
 },
 "nbformat": 4,
 "nbformat_minor": 2
}
