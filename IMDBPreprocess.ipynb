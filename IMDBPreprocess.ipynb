{
 "cells": [
  {
   "cell_type": "code",
   "execution_count": 1,
   "metadata": {},
   "outputs": [
    {
     "name": "stderr",
     "output_type": "stream",
     "text": [
      "c:\\Users\\Wen2Tee5\\Desktop\\Postgraduate\\torchPlayGround\\pytorch\\lib\\site-packages\\tqdm\\auto.py:22: TqdmWarning: IProgress not found. Please update jupyter and ipywidgets. See https://ipywidgets.readthedocs.io/en/stable/user_install.html\n",
      "  from .autonotebook import tqdm as notebook_tqdm\n"
     ]
    }
   ],
   "source": [
    "import torch\n",
    "import pandas as pd\n",
    "import string\n",
    "from tqdm import tqdm\n",
    "import numpy as np\n",
    "import pickle"
   ]
  },
  {
   "cell_type": "markdown",
   "metadata": {},
   "source": [
    "# HyperParameter"
   ]
  },
  {
   "cell_type": "code",
   "execution_count": 2,
   "metadata": {},
   "outputs": [],
   "source": [
    "EPOCH = 20\n",
    "DATA_NUM = 200"
   ]
  },
  {
   "cell_type": "code",
   "execution_count": 3,
   "metadata": {},
   "outputs": [],
   "source": [
    "stop_words = []\n",
    "with open('./NLPUtils/english.txt', encoding='utf-8') as f:\n",
    "    stop_words = [stop_word.replace('\\n','') for stop_word in f.readlines()]"
   ]
  },
  {
   "cell_type": "code",
   "execution_count": 4,
   "metadata": {},
   "outputs": [],
   "source": [
    "file_path = './basic_dataset/IMDB/IMDB Dataset.csv'\n",
    "\n",
    "df = pd.read_csv(file_path, encoding='utf-8')"
   ]
  },
  {
   "cell_type": "code",
   "execution_count": 5,
   "metadata": {},
   "outputs": [],
   "source": [
    "sentences = [sentence.lower() for sentence in df['review'][:DATA_NUM]]"
   ]
  },
  {
   "cell_type": "code",
   "execution_count": 6,
   "metadata": {},
   "outputs": [
    {
     "name": "stdout",
     "output_type": "stream",
     "text": [
      "Raw text Data -> one of the other reviewers has mentioned that after watching just 1 oz episode you'll be hooked. they are right, as this is exactly what happened with me.<br /><br />the first thing that struck me about oz was its brutality and unflinching scenes of violence, which set in right from the word go. trust me, this is not a show for the faint hearted or timid. this show pulls no punches with regards to drugs, sex or violence. its is hardcore, in the classic use of the word.<br /><br />it is called oz as that is the nickname given to the oswald maximum security state penitentary. it focuses mainly on emerald city, an experimental section of the prison where all the cells have glass fronts and face inwards, so privacy is not high on the agenda. em city is home to many..aryans, muslims, gangstas, latinos, christians, italians, irish and more....so scuffles, death stares, dodgy dealings and shady agreements are never far away.<br /><br />i would say the main appeal of the show is due to the fact that it goes where other shows wouldn't dare. forget pretty pictures painted for mainstream audiences, forget charm, forget romance...oz doesn't mess around. the first episode i ever saw struck me as so nasty it was surreal, i couldn't say i was ready for it, but as i watched more, i developed a taste for oz, and got accustomed to the high levels of graphic violence. not just violence, but injustice (crooked guards who'll be sold out for a nickel, inmates who'll kill on order and get away with it, well mannered, middle class inmates being turned into prison bitches due to their lack of street skills or prison experience) watching oz, you may become comfortable with what is uncomfortable viewing....thats if you can get in touch with your darker side.\n"
     ]
    }
   ],
   "source": [
    "print(f'Raw text Data -> {sentences[0]}')"
   ]
  },
  {
   "cell_type": "code",
   "execution_count": 7,
   "metadata": {},
   "outputs": [
    {
     "name": "stderr",
     "output_type": "stream",
     "text": [
      "100%|██████████| 200/200 [00:00<00:00, 100007.25it/s]\n"
     ]
    }
   ],
   "source": [
    "for i in tqdm(range(len(sentences))):\n",
    "    sentences[i] = sentences[i].translate(str.maketrans('', '', string.punctuation))"
   ]
  },
  {
   "cell_type": "code",
   "execution_count": 8,
   "metadata": {},
   "outputs": [],
   "source": [
    "def tokenize(sentences) -> list:\n",
    "    tokens = [sentence.split() for sentence in sentences]\n",
    "    return tokens"
   ]
  },
  {
   "cell_type": "code",
   "execution_count": 9,
   "metadata": {},
   "outputs": [],
   "source": [
    "tokens = tokenize(sentences)"
   ]
  },
  {
   "cell_type": "code",
   "execution_count": 10,
   "metadata": {},
   "outputs": [
    {
     "name": "stderr",
     "output_type": "stream",
     "text": [
      "100%|██████████| 200/200 [00:00<00:00, 244.13it/s]\n"
     ]
    }
   ],
   "source": [
    "for i in tqdm(range(len(tokens))):\n",
    "    for stop_word in stop_words:\n",
    "        tokens[i] = list(filter(stop_word.__ne__, tokens[i]))"
   ]
  },
  {
   "cell_type": "code",
   "execution_count": 11,
   "metadata": {},
   "outputs": [
    {
     "name": "stdout",
     "output_type": "stream",
     "text": [
      "Preprocess Data -> ['reviewers', 'mentioned', 'watching', '1', 'oz', 'episode', 'youll', 'hooked', 'happened', 'mebr', 'br', 'struck', 'oz', 'brutality', 'unflinching', 'scenes', 'violence', 'set', 'word', 'trust', 'faint', 'hearted', 'timid', 'pulls', 'punches', 'drugs', 'sex', 'violence', 'hardcore', 'classic', 'wordbr', 'br', 'called', 'oz', 'nickname', 'oswald', 'maximum', 'security', 'penitentary', 'focuses', 'emerald', 'city', 'experimental', 'prison', 'cells', 'glass', 'fronts', 'face', 'inwards', 'privacy', 'high', 'agenda', 'em', 'city', 'manyaryans', 'muslims', 'gangstas', 'latinos', 'christians', 'italians', 'irish', 'moreso', 'scuffles', 'death', 'stares', 'dodgy', 'dealings', 'shady', 'agreements', 'awaybr', 'br', 'main', 'appeal', 'fact', 'wouldnt', 'forget', 'pretty', 'pictures', 'painted', 'mainstream', 'audiences', 'forget', 'charm', 'forget', 'romanceoz', 'doesnt', 'mess', 'episode', 'struck', 'nasty', 'surreal', 'ready', 'watched', 'developed', 'taste', 'oz', 'accustomed', 'high', 'levels', 'graphic', 'violence', 'violence', 'injustice', 'crooked', 'guards', 'wholl', 'sold', 'nickel', 'inmates', 'wholl', 'kill', 'order', 'mannered', 'middle', 'class', 'inmates', 'turned', 'prison', 'bitches', 'lack', 'street', 'skills', 'prison', 'experience', 'watching', 'oz', 'comfortable', 'uncomfortable', 'viewingthats', 'touch', 'darker']\n"
     ]
    }
   ],
   "source": [
    "print(f'Preprocess Data -> {tokens[0]}')"
   ]
  },
  {
   "cell_type": "code",
   "execution_count": 12,
   "metadata": {},
   "outputs": [],
   "source": [
    "voc = []"
   ]
  },
  {
   "cell_type": "code",
   "execution_count": 13,
   "metadata": {},
   "outputs": [
    {
     "name": "stderr",
     "output_type": "stream",
     "text": [
      "100%|██████████| 200/200 [00:00<00:00, 606.95it/s]\n"
     ]
    }
   ],
   "source": [
    "for sentence in tqdm(tokens):\n",
    "     for word in sentence:\n",
    "        if word not in voc:\n",
    "            voc.append(word)"
   ]
  },
  {
   "cell_type": "code",
   "execution_count": 14,
   "metadata": {},
   "outputs": [
    {
     "name": "stdout",
     "output_type": "stream",
     "text": [
      "The size of voc 7595\n",
      "The first word of voc is reviewers\n"
     ]
    }
   ],
   "source": [
    "print(f'The size of voc {len(voc)}')\n",
    "print(f'The first word of voc is {voc[0]}')"
   ]
  },
  {
   "cell_type": "code",
   "execution_count": 15,
   "metadata": {},
   "outputs": [],
   "source": [
    "with open('./basic_dataset/IMDB/voc.data', 'wb') as f:\n",
    "    pickle.dump(voc, f)"
   ]
  },
  {
   "cell_type": "code",
   "execution_count": 16,
   "metadata": {},
   "outputs": [],
   "source": [
    "word2idx = {w:idx for (idx, w) in enumerate(voc)}\n",
    "inx2word = {idx:w for (idx, w) in enumerate(voc)}"
   ]
  },
  {
   "cell_type": "code",
   "execution_count": 17,
   "metadata": {},
   "outputs": [
    {
     "name": "stderr",
     "output_type": "stream",
     "text": [
      "100%|██████████| 200/200 [00:00<00:00, 13329.85it/s]\n"
     ]
    }
   ],
   "source": [
    "window_size = 2\n",
    "idx_pair = set()\n",
    "for sentence in tqdm(tokens):\n",
    "    indices = [word2idx[word] for word in sentence]\n",
    "    for idx in range(len(indices)):\n",
    "        if idx + window_size - 1 < len(indices):\n",
    "            window = indices[idx : idx + window_size]\n",
    "            for x_word in window:\n",
    "                for y_word in window:\n",
    "                    if x_word != y_word:\n",
    "                        idx_pair.add((x_word, y_word))"
   ]
  },
  {
   "cell_type": "code",
   "execution_count": 18,
   "metadata": {},
   "outputs": [],
   "source": [
    "one_hot_vector = np.zeros(shape=(len(voc), len(voc)))"
   ]
  },
  {
   "cell_type": "code",
   "execution_count": 19,
   "metadata": {},
   "outputs": [],
   "source": [
    "for idx, vector in enumerate(one_hot_vector):\n",
    "    vector[idx] = 1."
   ]
  },
  {
   "cell_type": "code",
   "execution_count": 20,
   "metadata": {},
   "outputs": [
    {
     "name": "stdout",
     "output_type": "stream",
     "text": [
      "Converting to One-Hot Vector\n"
     ]
    },
    {
     "name": "stderr",
     "output_type": "stream",
     "text": [
      "100%|██████████| 35864/35864 [00:00<00:00, 1707254.86it/s]"
     ]
    },
    {
     "name": "stdout",
     "output_type": "stream",
     "text": [
      "Done!\n"
     ]
    },
    {
     "name": "stderr",
     "output_type": "stream",
     "text": [
      "\n"
     ]
    }
   ],
   "source": [
    "x_data = []\n",
    "y_data = []\n",
    "print(f'Converting to One-Hot Vector')\n",
    "for x_word_idx, y_word_idx in tqdm(idx_pair):\n",
    "    x_data.append(one_hot_vector[x_word_idx])\n",
    "    y_data.append(one_hot_vector[y_word_idx])\n",
    "print(f'Done!')"
   ]
  },
  {
   "cell_type": "code",
   "execution_count": 21,
   "metadata": {},
   "outputs": [],
   "source": [
    "assert len(x_data) == len(y_data), 'ERROR len of x != len of y'"
   ]
  },
  {
   "cell_type": "code",
   "execution_count": 22,
   "metadata": {},
   "outputs": [],
   "source": [
    "x = np.array(x_data)\n",
    "y = np.array(y_data)"
   ]
  },
  {
   "cell_type": "code",
   "execution_count": 23,
   "metadata": {},
   "outputs": [
    {
     "name": "stdout",
     "output_type": "stream",
     "text": [
      "(35864, 7595)\n",
      "(35864, 7595)\n"
     ]
    }
   ],
   "source": [
    "print(x.shape)\n",
    "print(y.shape)"
   ]
  },
  {
   "cell_type": "code",
   "execution_count": 24,
   "metadata": {},
   "outputs": [],
   "source": [
    "np.save('./basic_dataset/IMDB/X_DATA.npy', x)\n",
    "np.save('./basic_dataset/IMDB/Y_DATA.npy', y)"
   ]
  },
  {
   "cell_type": "markdown",
   "metadata": {},
   "source": [
    "# 50000筆資料如果要用one-hot vector表示需要240GB的大小"
   ]
  }
 ],
 "metadata": {
  "kernelspec": {
   "display_name": "Python 3.10.7 ('pytorch': venv)",
   "language": "python",
   "name": "python3"
  },
  "language_info": {
   "codemirror_mode": {
    "name": "ipython",
    "version": 3
   },
   "file_extension": ".py",
   "mimetype": "text/x-python",
   "name": "python",
   "nbconvert_exporter": "python",
   "pygments_lexer": "ipython3",
   "version": "3.10.7"
  },
  "orig_nbformat": 4,
  "vscode": {
   "interpreter": {
    "hash": "688b5b5a3c39470b3f341fabd993807040f3b3b57631f0b8df6b2b47d9076c02"
   }
  }
 },
 "nbformat": 4,
 "nbformat_minor": 2
}
