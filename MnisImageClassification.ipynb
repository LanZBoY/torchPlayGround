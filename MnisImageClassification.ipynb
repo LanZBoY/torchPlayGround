{
 "cells": [
  {
   "cell_type": "code",
   "execution_count": 1,
   "metadata": {},
   "outputs": [
    {
     "name": "stderr",
     "output_type": "stream",
     "text": [
      "c:\\Users\\Wen2Tee5\\Desktop\\Postgraduate\\torchPlayGround\\torchEnv\\lib\\site-packages\\tqdm\\auto.py:22: TqdmWarning: IProgress not found. Please update jupyter and ipywidgets. See https://ipywidgets.readthedocs.io/en/stable/user_install.html\n",
      "  from .autonotebook import tqdm as notebook_tqdm\n"
     ]
    }
   ],
   "source": [
    "import torch\n",
    "from torchvision.datasets import MNIST\n",
    "from torchvision.transforms import ToTensor\n",
    "from torch.utils.data import DataLoader"
   ]
  },
  {
   "cell_type": "code",
   "execution_count": 2,
   "metadata": {},
   "outputs": [],
   "source": [
    "train_dataset = MNIST(root='./basic_dataset', train = True, download= True, transform=ToTensor())\n",
    "test_dataset = MNIST(root='./basic_dataset', train = False, download= True, transform=ToTensor())"
   ]
  },
  {
   "cell_type": "code",
   "execution_count": 3,
   "metadata": {},
   "outputs": [],
   "source": [
    "trainLoader = DataLoader(train_dataset, batch_size=32, shuffle= True)\n",
    "testLoader = DataLoader(test_dataset, batch_size=32, shuffle= True)"
   ]
  },
  {
   "cell_type": "code",
   "execution_count": 4,
   "metadata": {},
   "outputs": [],
   "source": [
    "import torch.nn as nn\n",
    "import torch.optim as optim"
   ]
  },
  {
   "cell_type": "code",
   "execution_count": 5,
   "metadata": {},
   "outputs": [],
   "source": [
    "class FC(nn.Module):\n",
    "\n",
    "    def __init__(self, in_features, numberClass) -> None:\n",
    "        super(FC, self).__init__()\n",
    "        self.flatten = nn.Flatten()\n",
    "        self.linear = nn.Linear(in_features, numberClass)\n",
    "\n",
    "    def forward(self, x):\n",
    "        x = self.flatten(x)\n",
    "        x = self.linear(x)\n",
    "        return x"
   ]
  },
  {
   "cell_type": "code",
   "execution_count": 6,
   "metadata": {},
   "outputs": [],
   "source": [
    "class CNNBased(torch.nn.Module):\n",
    "\n",
    "    def __init__(self) -> None:\n",
    "        super(CNNBased, self).__init__()\n",
    "        self.Conv1 = torch.nn.Conv2d(1, 16, kernel_size=3)\n",
    "        self.Conv2 = torch.nn.Conv2d(16, 16, kernel_size=3)\n",
    "        self.linear1 = torch.nn.Linear(9216, 10)\n",
    "        self.flatten = torch.nn.Flatten()\n",
    "        self.softmax = torch.nn.Softmax(dim=1)\n",
    "    \n",
    "    def forward(self, x):\n",
    "        x = self.Conv1(x)\n",
    "        x = self.Conv2(x)\n",
    "        x = self.flatten(x)\n",
    "        x = self.linear1(x)\n",
    "        x = self.softmax(x)\n",
    "        return x"
   ]
  },
  {
   "cell_type": "code",
   "execution_count": 7,
   "metadata": {},
   "outputs": [],
   "source": [
    "CNN = CNNBased()"
   ]
  },
  {
   "cell_type": "code",
   "execution_count": 8,
   "metadata": {},
   "outputs": [],
   "source": [
    "loss_fn = nn.CrossEntropyLoss()\n",
    "optimizer = optim.SGD(CNN.parameters(), lr=1e-1)\n",
    "EPCOH = 5"
   ]
  },
  {
   "cell_type": "code",
   "execution_count": 9,
   "metadata": {},
   "outputs": [
    {
     "name": "stdout",
     "output_type": "stream",
     "text": [
      "loss: 2.302533  [    0/60000]\n",
      "loss: 1.556988  [ 3200/60000]\n",
      "loss: 1.570814  [ 6400/60000]\n",
      "loss: 1.606576  [ 9600/60000]\n",
      "loss: 1.461998  [12800/60000]\n",
      "loss: 1.664979  [16000/60000]\n",
      "loss: 1.683897  [19200/60000]\n",
      "loss: 1.593717  [22400/60000]\n",
      "loss: 1.720384  [25600/60000]\n",
      "loss: 1.554898  [28800/60000]\n",
      "loss: 1.516179  [32000/60000]\n",
      "loss: 1.656066  [35200/60000]\n",
      "loss: 1.583361  [38400/60000]\n",
      "loss: 1.492485  [41600/60000]\n",
      "loss: 1.470127  [44800/60000]\n",
      "loss: 1.559921  [48000/60000]\n",
      "loss: 1.607360  [51200/60000]\n",
      "loss: 1.548486  [54400/60000]\n",
      "loss: 1.559148  [57600/60000]\n",
      "loss: 1.523905  [    0/60000]\n",
      "loss: 1.584602  [ 3200/60000]\n",
      "loss: 1.543333  [ 6400/60000]\n",
      "loss: 1.523504  [ 9600/60000]\n",
      "loss: 1.523557  [12800/60000]\n",
      "loss: 1.606918  [16000/60000]\n",
      "loss: 1.493696  [19200/60000]\n",
      "loss: 1.528854  [22400/60000]\n",
      "loss: 1.586306  [25600/60000]\n",
      "loss: 1.589935  [28800/60000]\n",
      "loss: 1.701082  [32000/60000]\n",
      "loss: 1.519909  [35200/60000]\n",
      "loss: 1.586114  [38400/60000]\n",
      "loss: 1.622947  [41600/60000]\n",
      "loss: 1.492812  [44800/60000]\n",
      "loss: 1.645960  [48000/60000]\n",
      "loss: 1.600069  [51200/60000]\n",
      "loss: 1.599128  [54400/60000]\n",
      "loss: 1.591894  [57600/60000]\n",
      "loss: 1.556500  [    0/60000]\n",
      "loss: 1.611424  [ 3200/60000]\n",
      "loss: 1.496868  [ 6400/60000]\n",
      "loss: 1.544400  [ 9600/60000]\n",
      "loss: 1.593112  [12800/60000]\n",
      "loss: 1.604967  [16000/60000]\n",
      "loss: 1.493785  [19200/60000]\n",
      "loss: 1.498164  [22400/60000]\n",
      "loss: 1.614071  [25600/60000]\n",
      "loss: 1.582985  [28800/60000]\n",
      "loss: 1.476893  [32000/60000]\n",
      "loss: 1.532845  [35200/60000]\n",
      "loss: 1.557942  [38400/60000]\n",
      "loss: 1.627197  [41600/60000]\n",
      "loss: 1.592314  [44800/60000]\n",
      "loss: 1.461197  [48000/60000]\n",
      "loss: 1.614819  [51200/60000]\n",
      "loss: 1.496422  [54400/60000]\n",
      "loss: 1.574437  [57600/60000]\n",
      "loss: 1.533357  [    0/60000]\n",
      "loss: 1.493243  [ 3200/60000]\n",
      "loss: 1.523647  [ 6400/60000]\n",
      "loss: 1.523149  [ 9600/60000]\n",
      "loss: 1.492123  [12800/60000]\n",
      "loss: 1.525050  [16000/60000]\n",
      "loss: 1.559570  [19200/60000]\n",
      "loss: 1.488401  [22400/60000]\n",
      "loss: 1.599691  [25600/60000]\n",
      "loss: 1.551106  [28800/60000]\n",
      "loss: 1.595692  [32000/60000]\n",
      "loss: 1.523650  [35200/60000]\n",
      "loss: 1.523156  [38400/60000]\n",
      "loss: 1.461150  [41600/60000]\n",
      "loss: 1.579117  [44800/60000]\n",
      "loss: 1.525761  [48000/60000]\n",
      "loss: 1.517944  [51200/60000]\n",
      "loss: 1.528829  [54400/60000]\n",
      "loss: 1.581921  [57600/60000]\n",
      "loss: 1.616146  [    0/60000]\n",
      "loss: 1.492576  [ 3200/60000]\n",
      "loss: 1.555673  [ 6400/60000]\n",
      "loss: 1.568559  [ 9600/60000]\n",
      "loss: 1.545557  [12800/60000]\n",
      "loss: 1.572587  [16000/60000]\n",
      "loss: 1.523497  [19200/60000]\n",
      "loss: 1.614420  [22400/60000]\n",
      "loss: 1.604435  [25600/60000]\n",
      "loss: 1.523615  [28800/60000]\n",
      "loss: 1.461187  [32000/60000]\n",
      "loss: 1.523508  [35200/60000]\n",
      "loss: 1.567110  [38400/60000]\n",
      "loss: 1.578254  [41600/60000]\n",
      "loss: 1.531541  [44800/60000]\n",
      "loss: 1.603858  [48000/60000]\n",
      "loss: 1.531576  [51200/60000]\n",
      "loss: 1.542905  [54400/60000]\n",
      "loss: 1.585454  [57600/60000]\n"
     ]
    }
   ],
   "source": [
    "size = len(trainLoader.dataset)\n",
    "CNN.train()\n",
    "for epcoh in range(EPCOH):\n",
    "    total_loss = 0.\n",
    "    for batch, (x, y) in enumerate(trainLoader):\n",
    "        optimizer.zero_grad()\n",
    "        pred = CNN(x)\n",
    "        loss = loss_fn(pred, y)\n",
    "        loss.backward()\n",
    "        optimizer.step()\n",
    "        if batch % 100 == 0:\n",
    "            loss, current = loss.item(), batch * len(x)\n",
    "            print(f\"loss: {loss:>7f}  [{current:>5d}/{size:>5d}]\")"
   ]
  },
  {
   "cell_type": "code",
   "execution_count": 10,
   "metadata": {},
   "outputs": [
    {
     "name": "stdout",
     "output_type": "stream",
     "text": [
      "Acc = 0.9131\n"
     ]
    }
   ],
   "source": [
    "CNN.eval()\n",
    "correct = 0.\n",
    "for x,y in testLoader:\n",
    "    pred = CNN(x)\n",
    "    correct += (pred.argmax(1) == y).type(torch.float32).sum().item()\n",
    "print(f'Acc = {correct/len(testLoader.dataset)}')"
   ]
  },
  {
   "cell_type": "code",
   "execution_count": 11,
   "metadata": {},
   "outputs": [],
   "source": [
    "FCmodel = FC(in_features=28*28, numberClass=10)"
   ]
  },
  {
   "cell_type": "code",
   "execution_count": 12,
   "metadata": {},
   "outputs": [],
   "source": [
    "loss_fn = nn.CrossEntropyLoss()\n",
    "optimizer = optim.SGD(FCmodel.parameters(), lr=1e-1)\n",
    "EPCOH = 5"
   ]
  },
  {
   "cell_type": "code",
   "execution_count": 13,
   "metadata": {},
   "outputs": [
    {
     "name": "stdout",
     "output_type": "stream",
     "text": [
      "loss: 2.317893  [    0/60000]\n",
      "loss: 0.581055  [ 3200/60000]\n",
      "loss: 0.366051  [ 6400/60000]\n",
      "loss: 0.549360  [ 9600/60000]\n",
      "loss: 0.546020  [12800/60000]\n",
      "loss: 0.324168  [16000/60000]\n",
      "loss: 0.224082  [19200/60000]\n",
      "loss: 0.302999  [22400/60000]\n",
      "loss: 0.568851  [25600/60000]\n",
      "loss: 0.369281  [28800/60000]\n",
      "loss: 0.301917  [32000/60000]\n",
      "loss: 0.266208  [35200/60000]\n",
      "loss: 0.425184  [38400/60000]\n",
      "loss: 0.195988  [41600/60000]\n",
      "loss: 0.296774  [44800/60000]\n",
      "loss: 0.443214  [48000/60000]\n",
      "loss: 0.176429  [51200/60000]\n",
      "loss: 0.468929  [54400/60000]\n",
      "loss: 0.276939  [57600/60000]\n",
      "loss: 0.493248  [    0/60000]\n",
      "loss: 0.502065  [ 3200/60000]\n",
      "loss: 0.324939  [ 6400/60000]\n",
      "loss: 0.443606  [ 9600/60000]\n",
      "loss: 0.330018  [12800/60000]\n",
      "loss: 0.409782  [16000/60000]\n",
      "loss: 0.565177  [19200/60000]\n",
      "loss: 0.476045  [22400/60000]\n",
      "loss: 0.166261  [25600/60000]\n",
      "loss: 0.122822  [28800/60000]\n",
      "loss: 0.174460  [32000/60000]\n",
      "loss: 0.105949  [35200/60000]\n",
      "loss: 0.230129  [38400/60000]\n",
      "loss: 0.092282  [41600/60000]\n",
      "loss: 0.327065  [44800/60000]\n",
      "loss: 0.155116  [48000/60000]\n",
      "loss: 0.420857  [51200/60000]\n",
      "loss: 0.138852  [54400/60000]\n",
      "loss: 0.270991  [57600/60000]\n",
      "loss: 0.527437  [    0/60000]\n",
      "loss: 0.319324  [ 3200/60000]\n",
      "loss: 0.152230  [ 6400/60000]\n",
      "loss: 0.440123  [ 9600/60000]\n",
      "loss: 0.251292  [12800/60000]\n",
      "loss: 0.242124  [16000/60000]\n",
      "loss: 0.241460  [19200/60000]\n",
      "loss: 0.255108  [22400/60000]\n",
      "loss: 0.480458  [25600/60000]\n",
      "loss: 0.185928  [28800/60000]\n",
      "loss: 0.428224  [32000/60000]\n",
      "loss: 0.273890  [35200/60000]\n",
      "loss: 0.437761  [38400/60000]\n",
      "loss: 0.174187  [41600/60000]\n",
      "loss: 0.271502  [44800/60000]\n",
      "loss: 0.317150  [48000/60000]\n",
      "loss: 0.314022  [51200/60000]\n",
      "loss: 0.252935  [54400/60000]\n",
      "loss: 0.498186  [57600/60000]\n",
      "loss: 0.145040  [    0/60000]\n",
      "loss: 0.213031  [ 3200/60000]\n",
      "loss: 0.120223  [ 6400/60000]\n",
      "loss: 0.243945  [ 9600/60000]\n",
      "loss: 0.215241  [12800/60000]\n",
      "loss: 0.164128  [16000/60000]\n",
      "loss: 0.312743  [19200/60000]\n",
      "loss: 0.367830  [22400/60000]\n",
      "loss: 0.153197  [25600/60000]\n",
      "loss: 0.614400  [28800/60000]\n",
      "loss: 0.270969  [32000/60000]\n",
      "loss: 0.707966  [35200/60000]\n",
      "loss: 0.401323  [38400/60000]\n",
      "loss: 0.257381  [41600/60000]\n",
      "loss: 0.165254  [44800/60000]\n",
      "loss: 0.159466  [48000/60000]\n",
      "loss: 0.199159  [51200/60000]\n",
      "loss: 0.194424  [54400/60000]\n",
      "loss: 0.581215  [57600/60000]\n",
      "loss: 0.591379  [    0/60000]\n",
      "loss: 0.238044  [ 3200/60000]\n",
      "loss: 0.342711  [ 6400/60000]\n",
      "loss: 0.084923  [ 9600/60000]\n",
      "loss: 0.116140  [12800/60000]\n",
      "loss: 0.233621  [16000/60000]\n",
      "loss: 0.570831  [19200/60000]\n",
      "loss: 0.606237  [22400/60000]\n",
      "loss: 0.582388  [25600/60000]\n",
      "loss: 0.173051  [28800/60000]\n",
      "loss: 0.219057  [32000/60000]\n",
      "loss: 0.161412  [35200/60000]\n",
      "loss: 0.118870  [38400/60000]\n",
      "loss: 0.236831  [41600/60000]\n",
      "loss: 0.511246  [44800/60000]\n",
      "loss: 0.169557  [48000/60000]\n",
      "loss: 0.137323  [51200/60000]\n",
      "loss: 0.405130  [54400/60000]\n",
      "loss: 0.046858  [57600/60000]\n"
     ]
    }
   ],
   "source": [
    "size = len(trainLoader.dataset)\n",
    "FCmodel.train()\n",
    "for epcoh in range(EPCOH):\n",
    "    total_loss = 0.\n",
    "    for batch, (x, y) in enumerate(trainLoader):\n",
    "        optimizer.zero_grad()\n",
    "        pred = FCmodel(x)\n",
    "        loss = loss_fn(pred, y)\n",
    "        loss.backward()\n",
    "        optimizer.step()\n",
    "        if batch % 100 == 0:\n",
    "            loss, current = loss.item(), batch * len(x)\n",
    "            print(f\"loss: {loss:>7f}  [{current:>5d}/{size:>5d}]\")\n",
    "    \n",
    "    "
   ]
  },
  {
   "cell_type": "code",
   "execution_count": 14,
   "metadata": {},
   "outputs": [
    {
     "name": "stdout",
     "output_type": "stream",
     "text": [
      "Acc = 0.9234\n"
     ]
    }
   ],
   "source": [
    "FCmodel.eval()\n",
    "correct = 0.\n",
    "for x,y in testLoader:\n",
    "    pred = FCmodel(x)\n",
    "    correct += (pred.argmax(1) == y).type(torch.float32).sum().item()\n",
    "print(f'Acc = {correct/len(testLoader.dataset)}')"
   ]
  },
  {
   "cell_type": "code",
   "execution_count": null,
   "metadata": {},
   "outputs": [],
   "source": []
  }
 ],
 "metadata": {
  "kernelspec": {
   "display_name": "Python 3.10.7 ('torchEnv': venv)",
   "language": "python",
   "name": "python3"
  },
  "language_info": {
   "codemirror_mode": {
    "name": "ipython",
    "version": 3
   },
   "file_extension": ".py",
   "mimetype": "text/x-python",
   "name": "python",
   "nbconvert_exporter": "python",
   "pygments_lexer": "ipython3",
   "version": "3.10.7"
  },
  "orig_nbformat": 4,
  "vscode": {
   "interpreter": {
    "hash": "856971fa0a169429db2bf0c06b69517a5be6dea1d062d3d5bb82efdd1c5fddc9"
   }
  }
 },
 "nbformat": 4,
 "nbformat_minor": 2
}
