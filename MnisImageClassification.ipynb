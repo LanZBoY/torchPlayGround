{
 "cells": [
  {
   "cell_type": "code",
   "execution_count": 1,
   "metadata": {},
   "outputs": [
    {
     "name": "stderr",
     "output_type": "stream",
     "text": [
      "c:\\Users\\Wen2Tee5\\Desktop\\machine learning\\pytorch\\lib\\site-packages\\tqdm\\auto.py:22: TqdmWarning: IProgress not found. Please update jupyter and ipywidgets. See https://ipywidgets.readthedocs.io/en/stable/user_install.html\n",
      "  from .autonotebook import tqdm as notebook_tqdm\n"
     ]
    }
   ],
   "source": [
    "import torch\n",
    "from torchvision.datasets import MNIST\n",
    "from torchvision.transforms import ToTensor\n",
    "from torch.utils.data import DataLoader"
   ]
  },
  {
   "cell_type": "code",
   "execution_count": 2,
   "metadata": {},
   "outputs": [],
   "source": [
    "train_dataset = MNIST(root='./basic_dataset', train = True, download= True, transform=ToTensor())\n",
    "test_dataset = MNIST(root='./basic_dataset', train = False, download= True, transform=ToTensor())"
   ]
  },
  {
   "cell_type": "code",
   "execution_count": 3,
   "metadata": {},
   "outputs": [],
   "source": [
    "trainLoader = DataLoader(train_dataset, batch_size=32, shuffle= True)\n",
    "testLoader = DataLoader(test_dataset, batch_size=32, shuffle= True)"
   ]
  },
  {
   "cell_type": "code",
   "execution_count": 4,
   "metadata": {},
   "outputs": [],
   "source": [
    "import torch.nn as nn\n",
    "import torch.optim as optim"
   ]
  },
  {
   "cell_type": "code",
   "execution_count": 5,
   "metadata": {},
   "outputs": [],
   "source": [
    "class FC(nn.Module):\n",
    "\n",
    "    def __init__(self, in_features, numberClass) -> None:\n",
    "        super(FC, self).__init__()\n",
    "        self.flatten = nn.Flatten()\n",
    "        self.linear = nn.Linear(in_features, numberClass)\n",
    "\n",
    "    def forward(self, x):\n",
    "        x = self.flatten(x)\n",
    "        x = self.linear(x)\n",
    "        return x"
   ]
  },
  {
   "cell_type": "code",
   "execution_count": 6,
   "metadata": {},
   "outputs": [],
   "source": [
    "class CNNBased(torch.nn.Module):\n",
    "\n",
    "    def __init__(self) -> None:\n",
    "        super(CNNBased, self).__init__()\n",
    "        self.Conv1 = torch.nn.Conv2d(1, 16, kernel_size=3)\n",
    "        self.Conv2 = torch.nn.Conv2d(16, 16, kernel_size=3)\n",
    "        self.linear1 = torch.nn.Linear(9216, 10)\n",
    "        self.flatten = torch.nn.Flatten()\n",
    "        self.softmax = torch.nn.Softmax(dim=1)\n",
    "    \n",
    "    def forward(self, x):\n",
    "        x = self.Conv1(x)\n",
    "        x = self.Conv2(x)\n",
    "        x = self.flatten(x)\n",
    "        x = self.linear1(x)\n",
    "        x = self.softmax(x)\n",
    "        return x"
   ]
  },
  {
   "cell_type": "code",
   "execution_count": 7,
   "metadata": {},
   "outputs": [],
   "source": [
    "CNN = CNNBased()"
   ]
  },
  {
   "cell_type": "code",
   "execution_count": 8,
   "metadata": {},
   "outputs": [],
   "source": [
    "loss_fn = nn.CrossEntropyLoss()\n",
    "optimizer = optim.SGD(CNN.parameters(), lr=1e-1)\n",
    "EPCOH = 5"
   ]
  },
  {
   "cell_type": "code",
   "execution_count": 9,
   "metadata": {},
   "outputs": [
    {
     "name": "stdout",
     "output_type": "stream",
     "text": [
      "loss: 2.302999  [    0/60000]\n",
      "loss: 1.642348  [ 3200/60000]\n",
      "loss: 1.556370  [ 6400/60000]\n",
      "loss: 1.488706  [ 9600/60000]\n",
      "loss: 1.578956  [12800/60000]\n",
      "loss: 1.592724  [16000/60000]\n",
      "loss: 1.550705  [19200/60000]\n",
      "loss: 1.645296  [22400/60000]\n",
      "loss: 1.587776  [25600/60000]\n",
      "loss: 1.534960  [28800/60000]\n",
      "loss: 1.609804  [32000/60000]\n",
      "loss: 1.523694  [35200/60000]\n",
      "loss: 1.615973  [38400/60000]\n",
      "loss: 1.546569  [41600/60000]\n",
      "loss: 1.531103  [44800/60000]\n",
      "loss: 1.505923  [48000/60000]\n",
      "loss: 1.496425  [51200/60000]\n",
      "loss: 1.613982  [54400/60000]\n",
      "loss: 1.661629  [57600/60000]\n",
      "loss: 1.555753  [    0/60000]\n",
      "loss: 1.540968  [ 3200/60000]\n",
      "loss: 1.585945  [ 6400/60000]\n",
      "loss: 1.592517  [ 9600/60000]\n",
      "loss: 1.551054  [12800/60000]\n",
      "loss: 1.528320  [16000/60000]\n",
      "loss: 1.551846  [19200/60000]\n",
      "loss: 1.523823  [22400/60000]\n",
      "loss: 1.526807  [25600/60000]\n",
      "loss: 1.629638  [28800/60000]\n",
      "loss: 1.603569  [32000/60000]\n",
      "loss: 1.616599  [35200/60000]\n",
      "loss: 1.599879  [38400/60000]\n",
      "loss: 1.555430  [41600/60000]\n",
      "loss: 1.545506  [44800/60000]\n",
      "loss: 1.555253  [48000/60000]\n",
      "loss: 1.523098  [51200/60000]\n",
      "loss: 1.589900  [54400/60000]\n",
      "loss: 1.548613  [57600/60000]\n",
      "loss: 1.505068  [    0/60000]\n",
      "loss: 1.571844  [ 3200/60000]\n",
      "loss: 1.617978  [ 6400/60000]\n",
      "loss: 1.584692  [ 9600/60000]\n",
      "loss: 1.463013  [12800/60000]\n",
      "loss: 1.492486  [16000/60000]\n",
      "loss: 1.645124  [19200/60000]\n",
      "loss: 1.585452  [22400/60000]\n",
      "loss: 1.583633  [25600/60000]\n",
      "loss: 1.597853  [28800/60000]\n",
      "loss: 1.498743  [32000/60000]\n",
      "loss: 1.535623  [35200/60000]\n",
      "loss: 1.524209  [38400/60000]\n",
      "loss: 1.554552  [41600/60000]\n",
      "loss: 1.525987  [44800/60000]\n",
      "loss: 1.524160  [48000/60000]\n",
      "loss: 1.505259  [51200/60000]\n",
      "loss: 1.580457  [54400/60000]\n",
      "loss: 1.611843  [57600/60000]\n",
      "loss: 1.554877  [    0/60000]\n",
      "loss: 1.618062  [ 3200/60000]\n",
      "loss: 1.518486  [ 6400/60000]\n",
      "loss: 1.586121  [ 9600/60000]\n",
      "loss: 1.609979  [12800/60000]\n",
      "loss: 1.461269  [16000/60000]\n",
      "loss: 1.492764  [19200/60000]\n",
      "loss: 1.492424  [22400/60000]\n",
      "loss: 1.705713  [25600/60000]\n",
      "loss: 1.564723  [28800/60000]\n",
      "loss: 1.587928  [32000/60000]\n",
      "loss: 1.558877  [35200/60000]\n",
      "loss: 1.523373  [38400/60000]\n",
      "loss: 1.568473  [41600/60000]\n",
      "loss: 1.566236  [44800/60000]\n",
      "loss: 1.575840  [48000/60000]\n",
      "loss: 1.620342  [51200/60000]\n",
      "loss: 1.462646  [54400/60000]\n",
      "loss: 1.545438  [57600/60000]\n",
      "loss: 1.586198  [    0/60000]\n",
      "loss: 1.493101  [ 3200/60000]\n",
      "loss: 1.612334  [ 6400/60000]\n",
      "loss: 1.523649  [ 9600/60000]\n",
      "loss: 1.554896  [12800/60000]\n",
      "loss: 1.587642  [16000/60000]\n",
      "loss: 1.678316  [19200/60000]\n",
      "loss: 1.492347  [22400/60000]\n",
      "loss: 1.615864  [25600/60000]\n",
      "loss: 1.586887  [28800/60000]\n",
      "loss: 1.582600  [32000/60000]\n",
      "loss: 1.617376  [35200/60000]\n",
      "loss: 1.525101  [38400/60000]\n",
      "loss: 1.616324  [41600/60000]\n",
      "loss: 1.502720  [44800/60000]\n",
      "loss: 1.644065  [48000/60000]\n",
      "loss: 1.526475  [51200/60000]\n",
      "loss: 1.492498  [54400/60000]\n",
      "loss: 1.586149  [57600/60000]\n"
     ]
    }
   ],
   "source": [
    "size = len(trainLoader.dataset)\n",
    "CNN.train()\n",
    "for epcoh in range(EPCOH):\n",
    "    total_loss = 0.\n",
    "    for batch, (x, y) in enumerate(trainLoader):\n",
    "        optimizer.zero_grad()\n",
    "        pred = CNN(x)\n",
    "        loss = loss_fn(pred, y)\n",
    "        loss.backward()\n",
    "        optimizer.step()\n",
    "        if batch % 100 == 0:\n",
    "            loss, current = loss.item(), batch * len(x)\n",
    "            print(f\"loss: {loss:>7f}  [{current:>5d}/{size:>5d}]\")"
   ]
  },
  {
   "cell_type": "code",
   "execution_count": 10,
   "metadata": {},
   "outputs": [
    {
     "name": "stdout",
     "output_type": "stream",
     "text": [
      "Acc = 0.9122\n"
     ]
    }
   ],
   "source": [
    "CNN.eval()\n",
    "correct = 0.\n",
    "for x,y in testLoader:\n",
    "    pred = CNN(x)\n",
    "    correct += (pred.argmax(1) == y).type(torch.float32).sum().item()\n",
    "print(f'Acc = {correct/len(testLoader.dataset)}')"
   ]
  },
  {
   "cell_type": "code",
   "execution_count": 11,
   "metadata": {},
   "outputs": [],
   "source": [
    "FCmodel = FC(in_features=28*28, numberClass=10)"
   ]
  },
  {
   "cell_type": "code",
   "execution_count": 12,
   "metadata": {},
   "outputs": [],
   "source": [
    "loss_fn = nn.CrossEntropyLoss()\n",
    "optimizer = optim.SGD(FCmodel.parameters(), lr=1e-1)\n",
    "EPCOH = 5"
   ]
  },
  {
   "cell_type": "code",
   "execution_count": 13,
   "metadata": {},
   "outputs": [
    {
     "name": "stdout",
     "output_type": "stream",
     "text": [
      "loss: 2.330539  [    0/60000]\n",
      "loss: 0.708318  [ 3200/60000]\n",
      "loss: 0.419601  [ 6400/60000]\n",
      "loss: 0.415041  [ 9600/60000]\n",
      "loss: 0.461558  [12800/60000]\n",
      "loss: 0.348761  [16000/60000]\n",
      "loss: 0.210785  [19200/60000]\n",
      "loss: 0.329506  [22400/60000]\n",
      "loss: 0.384271  [25600/60000]\n",
      "loss: 0.191632  [28800/60000]\n",
      "loss: 0.235763  [32000/60000]\n",
      "loss: 0.592593  [35200/60000]\n",
      "loss: 0.854080  [38400/60000]\n",
      "loss: 0.336289  [41600/60000]\n",
      "loss: 0.217828  [44800/60000]\n",
      "loss: 0.231171  [48000/60000]\n",
      "loss: 0.393611  [51200/60000]\n",
      "loss: 0.245505  [54400/60000]\n",
      "loss: 0.092632  [57600/60000]\n",
      "loss: 0.406758  [    0/60000]\n",
      "loss: 0.529541  [ 3200/60000]\n",
      "loss: 0.345722  [ 6400/60000]\n",
      "loss: 0.329167  [ 9600/60000]\n",
      "loss: 0.349899  [12800/60000]\n",
      "loss: 0.262824  [16000/60000]\n",
      "loss: 0.373346  [19200/60000]\n",
      "loss: 0.336225  [22400/60000]\n",
      "loss: 0.438619  [25600/60000]\n",
      "loss: 0.388724  [28800/60000]\n",
      "loss: 0.181754  [32000/60000]\n",
      "loss: 0.194425  [35200/60000]\n",
      "loss: 0.229965  [38400/60000]\n",
      "loss: 0.178180  [41600/60000]\n",
      "loss: 0.435273  [44800/60000]\n",
      "loss: 0.086864  [48000/60000]\n",
      "loss: 0.174894  [51200/60000]\n",
      "loss: 0.966682  [54400/60000]\n",
      "loss: 0.309058  [57600/60000]\n",
      "loss: 0.466814  [    0/60000]\n",
      "loss: 0.297004  [ 3200/60000]\n",
      "loss: 0.111127  [ 6400/60000]\n",
      "loss: 0.232131  [ 9600/60000]\n",
      "loss: 0.480313  [12800/60000]\n",
      "loss: 0.248662  [16000/60000]\n",
      "loss: 0.317218  [19200/60000]\n",
      "loss: 0.206645  [22400/60000]\n",
      "loss: 0.296605  [25600/60000]\n",
      "loss: 0.130594  [28800/60000]\n",
      "loss: 0.302647  [32000/60000]\n",
      "loss: 0.340613  [35200/60000]\n",
      "loss: 0.531060  [38400/60000]\n",
      "loss: 0.258932  [41600/60000]\n",
      "loss: 0.150374  [44800/60000]\n",
      "loss: 0.627790  [48000/60000]\n",
      "loss: 0.409222  [51200/60000]\n",
      "loss: 0.753042  [54400/60000]\n",
      "loss: 0.293726  [57600/60000]\n",
      "loss: 0.364954  [    0/60000]\n",
      "loss: 0.228359  [ 3200/60000]\n",
      "loss: 0.181015  [ 6400/60000]\n",
      "loss: 0.175095  [ 9600/60000]\n",
      "loss: 0.432757  [12800/60000]\n",
      "loss: 0.360856  [16000/60000]\n",
      "loss: 0.155783  [19200/60000]\n",
      "loss: 0.281087  [22400/60000]\n",
      "loss: 0.215015  [25600/60000]\n",
      "loss: 0.169211  [28800/60000]\n",
      "loss: 0.113488  [32000/60000]\n",
      "loss: 0.222258  [35200/60000]\n",
      "loss: 0.351260  [38400/60000]\n",
      "loss: 0.331712  [41600/60000]\n",
      "loss: 0.313561  [44800/60000]\n",
      "loss: 0.134495  [48000/60000]\n",
      "loss: 0.212739  [51200/60000]\n",
      "loss: 0.108937  [54400/60000]\n",
      "loss: 0.636859  [57600/60000]\n",
      "loss: 0.170332  [    0/60000]\n",
      "loss: 0.168537  [ 3200/60000]\n",
      "loss: 0.380074  [ 6400/60000]\n",
      "loss: 0.175245  [ 9600/60000]\n",
      "loss: 0.189916  [12800/60000]\n",
      "loss: 0.206532  [16000/60000]\n",
      "loss: 0.253008  [19200/60000]\n",
      "loss: 0.357974  [22400/60000]\n",
      "loss: 0.109007  [25600/60000]\n",
      "loss: 0.240382  [28800/60000]\n",
      "loss: 0.385571  [32000/60000]\n",
      "loss: 0.370084  [35200/60000]\n",
      "loss: 0.358527  [38400/60000]\n",
      "loss: 0.287801  [41600/60000]\n",
      "loss: 0.265684  [44800/60000]\n",
      "loss: 0.285450  [48000/60000]\n",
      "loss: 0.426786  [51200/60000]\n",
      "loss: 0.056491  [54400/60000]\n",
      "loss: 0.448326  [57600/60000]\n"
     ]
    }
   ],
   "source": [
    "size = len(trainLoader.dataset)\n",
    "FCmodel.train()\n",
    "for epcoh in range(EPCOH):\n",
    "    total_loss = 0.\n",
    "    for batch, (x, y) in enumerate(trainLoader):\n",
    "        optimizer.zero_grad()\n",
    "        pred = FCmodel(x)\n",
    "        loss = loss_fn(pred, y)\n",
    "        loss.backward()\n",
    "        optimizer.step()\n",
    "        if batch % 100 == 0:\n",
    "            loss, current = loss.item(), batch * len(x)\n",
    "            print(f\"loss: {loss:>7f}  [{current:>5d}/{size:>5d}]\")\n",
    "    \n",
    "    "
   ]
  },
  {
   "cell_type": "code",
   "execution_count": 14,
   "metadata": {},
   "outputs": [
    {
     "name": "stdout",
     "output_type": "stream",
     "text": [
      "Acc = 0.9219\n"
     ]
    }
   ],
   "source": [
    "FCmodel.eval()\n",
    "correct = 0.\n",
    "for x,y in testLoader:\n",
    "    pred = FCmodel(x)\n",
    "    correct += (pred.argmax(1) == y).type(torch.float32).sum().item()\n",
    "print(f'Acc = {correct/len(testLoader.dataset)}')"
   ]
  },
  {
   "cell_type": "code",
   "execution_count": null,
   "metadata": {},
   "outputs": [],
   "source": []
  }
 ],
 "metadata": {
  "kernelspec": {
   "display_name": "Python 3.10.7 ('pytorch': venv)",
   "language": "python",
   "name": "python3"
  },
  "language_info": {
   "codemirror_mode": {
    "name": "ipython",
    "version": 3
   },
   "file_extension": ".py",
   "mimetype": "text/x-python",
   "name": "python",
   "nbconvert_exporter": "python",
   "pygments_lexer": "ipython3",
   "version": "3.10.7"
  },
  "orig_nbformat": 4,
  "vscode": {
   "interpreter": {
    "hash": "69465f8012bc8209665d9cbe96a44652f48a74cf23ffa7f2a4d4373e52b4e5fb"
   }
  }
 },
 "nbformat": 4,
 "nbformat_minor": 2
}
