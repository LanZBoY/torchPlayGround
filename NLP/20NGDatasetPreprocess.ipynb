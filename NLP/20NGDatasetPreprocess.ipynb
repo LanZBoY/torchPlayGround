{
 "cells": [
  {
   "cell_type": "code",
   "execution_count": 1,
   "metadata": {},
   "outputs": [],
   "source": [
    "from sklearn.datasets import fetch_20newsgroups\n",
    "from NLPUtils.preprocessUtils import removePunctuation, removeWord\n",
    "from nltk.tokenize import word_tokenize\n",
    "from nltk.corpus import stopwords\n",
    "import numpy as np\n",
    "import pickle"
   ]
  },
  {
   "cell_type": "code",
   "execution_count": 2,
   "metadata": {},
   "outputs": [],
   "source": [
    "MAXLEN = 150"
   ]
  },
  {
   "cell_type": "code",
   "execution_count": 3,
   "metadata": {},
   "outputs": [],
   "source": [
    "newsgroup_train = fetch_20newsgroups(subset='train')"
   ]
  },
  {
   "cell_type": "code",
   "execution_count": 4,
   "metadata": {},
   "outputs": [],
   "source": [
    "# 刪除stopword列表\n",
    "stwords = stopwords.words('english')"
   ]
  },
  {
   "cell_type": "code",
   "execution_count": 5,
   "metadata": {},
   "outputs": [],
   "source": [
    "voc = set()"
   ]
  },
  {
   "cell_type": "code",
   "execution_count": 6,
   "metadata": {},
   "outputs": [],
   "source": [
    "raw_datas = []"
   ]
  },
  {
   "cell_type": "code",
   "execution_count": 7,
   "metadata": {},
   "outputs": [],
   "source": [
    "for data in newsgroup_train.data:\n",
    "    raw_data = removeWord(removeWordList = stwords, sentence=removePunctuation(data.lower()).split())\n",
    "    voc.update(raw_data)\n",
    "    raw_datas.append(raw_data)"
   ]
  },
  {
   "cell_type": "code",
   "execution_count": 8,
   "metadata": {},
   "outputs": [],
   "source": [
    "word2idx = {word : idx for idx , word in enumerate(voc, 1)}\n",
    "word2idx.update({'<unk>':0})\n",
    "idx2word = {idx : word for idx , word in enumerate(voc, 1)}\n",
    "idx2word.update({0 : '<unk>'})"
   ]
  },
  {
   "cell_type": "code",
   "execution_count": 9,
   "metadata": {},
   "outputs": [],
   "source": [
    "x_datas = []\n",
    "for data in raw_datas:\n",
    "    x_data = [word2idx[word] for word in data]\n",
    "    while len(x_data)< 300:\n",
    "        x_data.append(0)\n",
    "    x_datas.append(x_data[:MAXLEN])"
   ]
  },
  {
   "cell_type": "code",
   "execution_count": 10,
   "metadata": {},
   "outputs": [],
   "source": [
    "x = np.array(x_datas, dtype=np.int64)"
   ]
  },
  {
   "cell_type": "code",
   "execution_count": 11,
   "metadata": {},
   "outputs": [],
   "source": [
    "np.save('./SLTCDataset/20NGPreprocessed/x_train.npy', x)\n",
    "np.save('./SLTCDataset/20NGPreprocessed/y_train.npy', newsgroup_train.target.astype(np.int64))"
   ]
  },
  {
   "cell_type": "code",
   "execution_count": 12,
   "metadata": {},
   "outputs": [],
   "source": [
    "newsgroup_test = fetch_20newsgroups(subset='test')"
   ]
  },
  {
   "cell_type": "code",
   "execution_count": 13,
   "metadata": {},
   "outputs": [],
   "source": [
    "raw_datas = []\n",
    "for data in newsgroup_test.data:\n",
    "    raw_data = removeWord(removeWordList = stwords, sentence=removePunctuation(data.lower()).split())\n",
    "    raw_datas.append(raw_data)"
   ]
  },
  {
   "cell_type": "code",
   "execution_count": 14,
   "metadata": {},
   "outputs": [],
   "source": [
    "x_datas = []\n",
    "for data in raw_datas:\n",
    "    x_data = []\n",
    "    for word in data:\n",
    "        if word not in voc:\n",
    "            x_data.append(0)\n",
    "        else:\n",
    "            x_data.append(word2idx[word])\n",
    "    while len(x_data)< 300:\n",
    "        x_data.append(0)\n",
    "    x_datas.append(x_data[:MAXLEN])"
   ]
  },
  {
   "cell_type": "code",
   "execution_count": 15,
   "metadata": {},
   "outputs": [],
   "source": [
    "x = np.array(x_datas, dtype=np.int64)"
   ]
  },
  {
   "cell_type": "code",
   "execution_count": 16,
   "metadata": {},
   "outputs": [],
   "source": [
    "np.save('./SLTCDataset/20NGPreprocessed/x_test.npy', x)\n",
    "np.save('./SLTCDataset/20NGPreprocessed/y_test.npy', newsgroup_test.target.astype(np.int64))"
   ]
  },
  {
   "cell_type": "code",
   "execution_count": 17,
   "metadata": {},
   "outputs": [],
   "source": [
    "with open('./SLTCDataset/20NGPreprocessed/voc.data', 'wb') as f:\n",
    "    pickle.dump(voc, f)"
   ]
  }
 ],
 "metadata": {
  "kernelspec": {
   "display_name": "Python 3.10.7 ('torchEnv': venv)",
   "language": "python",
   "name": "python3"
  },
  "language_info": {
   "codemirror_mode": {
    "name": "ipython",
    "version": 3
   },
   "file_extension": ".py",
   "mimetype": "text/x-python",
   "name": "python",
   "nbconvert_exporter": "python",
   "pygments_lexer": "ipython3",
   "version": "3.10.7"
  },
  "orig_nbformat": 4,
  "vscode": {
   "interpreter": {
    "hash": "856971fa0a169429db2bf0c06b69517a5be6dea1d062d3d5bb82efdd1c5fddc9"
   }
  }
 },
 "nbformat": 4,
 "nbformat_minor": 2
}
