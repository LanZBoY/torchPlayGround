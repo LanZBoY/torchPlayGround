{
 "cells": [
  {
   "cell_type": "code",
   "execution_count": 1,
   "metadata": {},
   "outputs": [],
   "source": [
    "import os\n",
    "import pandas as pd\n",
    "from sklearn.datasets import fetch_20newsgroups"
   ]
  },
  {
   "cell_type": "code",
   "execution_count": 2,
   "metadata": {},
   "outputs": [],
   "source": [
    "read_root_path = './SLTCDataset/RawData/'\n",
    "write_root_path = './SLTCDataset/'\n",
    "datasets = [\"20NG\", \"R52\", \"R8\", 'mr', 'ohsumed_single_23']\n",
    "modes = ['train', 'test']"
   ]
  },
  {
   "cell_type": "code",
   "execution_count": 3,
   "metadata": {},
   "outputs": [
    {
     "name": "stdout",
     "output_type": "stream",
     "text": [
      "Converting data to CSV...\n",
      "currentDataset is 20NG\n",
      "Done!!\n",
      "currentDataset is R52\n",
      "Done!!\n",
      "currentDataset is R8\n",
      "Done!!\n",
      "currentDataset is mr\n",
      "Done!!\n",
      "currentDataset is ohsumed_single_23\n",
      "Done!!\n"
     ]
    }
   ],
   "source": [
    "print(f'Converting data to CSV...')\n",
    "for currentDatasets in datasets:\n",
    "    print(f\"currentDataset is {currentDatasets}\")\n",
    "    read_data_root_path = os.path.join(read_root_path, currentDatasets)\n",
    "    write_data_root_path = os.path.join(write_root_path, currentDatasets)\n",
    "    if currentDatasets == '20NG':\n",
    "        for mode in modes:\n",
    "            file_name = f\"{currentDatasets}_{mode}.csv\"\n",
    "            rawData = fetch_20newsgroups(subset = mode)\n",
    "            df = pd.DataFrame(data={\n",
    "                \"target\" : rawData.target,\n",
    "                \"text\" : rawData.data\n",
    "            })\n",
    "            df.to_csv(os.path.join(write_data_root_path, file_name), index = False)\n",
    "    elif currentDatasets == 'R52':\n",
    "        for mode in modes:\n",
    "            raw_file_name = f'{mode}.txt'\n",
    "            df = pd.read_csv(os.path.join(read_data_root_path, raw_file_name), sep='\\t', encoding='utf-8')\n",
    "            file_name = f\"{currentDatasets}_{mode}.csv\"\n",
    "            df.to_csv(os.path.join(write_data_root_path, file_name), index = False)\n",
    "    elif currentDatasets == 'R8':\n",
    "        for mode in modes:\n",
    "            raw_file_name = f'{mode}.txt'\n",
    "            df = pd.read_csv(os.path.join(read_data_root_path, raw_file_name), sep='\\t', encoding='utf-8')\n",
    "            file_name = f\"{currentDatasets}_{mode}.csv\"\n",
    "            df.to_csv(os.path.join(write_data_root_path, file_name), index = False)\n",
    "    elif currentDatasets == 'mr':\n",
    "        for mode in modes:\n",
    "            raw_text_name = f'text_{mode}.txt'\n",
    "            raw_label_name = f'label_{mode}.txt'\n",
    "            with open(os.path.join(read_data_root_path, raw_text_name), encoding='utf-8') as f:\n",
    "                text_data = [text.replace('\\n', '') for text in f.readlines()]\n",
    "            with open(os.path.join(read_data_root_path, raw_label_name), encoding='utf-8') as f:\n",
    "                label_data = [text.replace('\\n', '') for text in f.readlines()]\n",
    "            assert len(text_data) == len(label_data), f\"the length of data != the length of target in {currentDatasets}\"\n",
    "            file_name = f\"{currentDatasets}_{mode}.csv\"\n",
    "            df = pd.DataFrame(data = {\n",
    "                \"target\" : label_data,\n",
    "                \"text\" : text_data\n",
    "            })\n",
    "            df.to_csv(os.path.join(write_data_root_path, file_name), index = False)\n",
    "    elif currentDatasets == 'ohsumed_single_23':\n",
    "        for mode in modes:\n",
    "            mode_root_dir = os.path.join(read_data_root_path, mode)\n",
    "            target_hash = {target : value for value, target in enumerate(os.listdir(mode_root_dir))}\n",
    "            data = {\n",
    "                \"target\":[],\n",
    "                \"text\":[]\n",
    "            }\n",
    "            for target in os.listdir(mode_root_dir):\n",
    "                target_root = os.path.join(mode_root_dir, target)\n",
    "                for raw_file in os.listdir(target_root):\n",
    "                    with open(os.path.join(target_root, raw_file), encoding='utf-8') as f:\n",
    "                        data['text'].append(f.read())\n",
    "                    data['target'].append(target_hash[target])\n",
    "            assert len(data['target']) == len(data['text']), f\"the length of data != the length of target in {currentDatasets}\"\n",
    "            file_name = f\"{currentDatasets}_{mode}.csv\"\n",
    "            df = pd.DataFrame(data = data)\n",
    "            df.to_csv(os.path.join(write_data_root_path, file_name), index = False)\n",
    "    print(\"Done!!\")\n",
    "                "
   ]
  },
  {
   "cell_type": "code",
   "execution_count": null,
   "metadata": {},
   "outputs": [],
   "source": []
  }
 ],
 "metadata": {
  "kernelspec": {
   "display_name": "Python 3.10.7 ('torchEnv': venv)",
   "language": "python",
   "name": "python3"
  },
  "language_info": {
   "codemirror_mode": {
    "name": "ipython",
    "version": 3
   },
   "file_extension": ".py",
   "mimetype": "text/x-python",
   "name": "python",
   "nbconvert_exporter": "python",
   "pygments_lexer": "ipython3",
   "version": "3.10.7"
  },
  "orig_nbformat": 4,
  "vscode": {
   "interpreter": {
    "hash": "856971fa0a169429db2bf0c06b69517a5be6dea1d062d3d5bb82efdd1c5fddc9"
   }
  }
 },
 "nbformat": 4,
 "nbformat_minor": 2
}
