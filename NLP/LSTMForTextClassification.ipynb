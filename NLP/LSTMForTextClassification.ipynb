{
 "cells": [
  {
   "cell_type": "code",
   "execution_count": 1,
   "metadata": {},
   "outputs": [
    {
     "name": "stderr",
     "output_type": "stream",
     "text": [
      "c:\\Users\\Wen2Tee5\\Desktop\\Postgraduate\\torchPlayGround\\torchEnv\\lib\\site-packages\\tqdm\\auto.py:22: TqdmWarning: IProgress not found. Please update jupyter and ipywidgets. See https://ipywidgets.readthedocs.io/en/stable/user_install.html\n",
      "  from .autonotebook import tqdm as notebook_tqdm\n"
     ]
    }
   ],
   "source": [
    "import torch\n",
    "import numpy as np\n",
    "from NLPUtils.DataModel import Vocabulary\n",
    "from torch.utils.data import DataLoader, TensorDataset\n",
    "import pickle\n",
    "import matplotlib.pyplot as plt"
   ]
  },
  {
   "cell_type": "code",
   "execution_count": 2,
   "metadata": {},
   "outputs": [],
   "source": [
    "with open('./SLTCDataset/mr/train_voc.data', 'rb') as f:\n",
    "    train_voc : Vocabulary = pickle.load(f)\n",
    "x_train = np.load('./SLTCDataset/mr/x_train.npy')\n",
    "y_train = np.load('./SLTCDataset/mr/y_train.npy')\n",
    "x_test = np.load('./SLTCDataset/mr/x_test.npy')\n",
    "y_test = np.load('./SLTCDataset/mr/y_test.npy')"
   ]
  },
  {
   "cell_type": "code",
   "execution_count": 3,
   "metadata": {},
   "outputs": [],
   "source": [
    "trainDataset = TensorDataset(torch.from_numpy(x_train), torch.from_numpy(y_train))\n",
    "testDataset = TensorDataset(torch.from_numpy(x_test), torch.from_numpy(y_test))"
   ]
  },
  {
   "cell_type": "code",
   "execution_count": 4,
   "metadata": {},
   "outputs": [],
   "source": [
    "trainDataLoader = DataLoader(trainDataset, batch_size = 32, shuffle=True)"
   ]
  },
  {
   "cell_type": "code",
   "execution_count": 5,
   "metadata": {},
   "outputs": [],
   "source": [
    "it = iter(trainDataLoader)\n",
    "bat_x, bat_y = next(it)"
   ]
  },
  {
   "cell_type": "code",
   "execution_count": 6,
   "metadata": {},
   "outputs": [],
   "source": [
    "class EMB_MLP(torch.nn.Module):\n",
    "\n",
    "    def __init__(self, train_voc : Vocabulary) -> None:\n",
    "        super(EMB_MLP, self).__init__()\n",
    "        self.embedding = torch.nn.EmbeddingBag(train_voc.num_words, embedding_dim=300, padding_idx=0)\n",
    "        self.linear_d = torch.nn.Linear(300, 128)\n",
    "        self.linear_o = torch.nn.Linear(128, 2)\n",
    "    \n",
    "    def forward(self, x):\n",
    "        h = self.embedding(x)\n",
    "        h = self.linear_d(h)\n",
    "        h = torch.nn.functional.relu(h)\n",
    "        h = self.linear_o(h)\n",
    "        return h"
   ]
  },
  {
   "cell_type": "code",
   "execution_count": 7,
   "metadata": {},
   "outputs": [],
   "source": [
    "emb_mlp = EMB_MLP(train_voc = train_voc).cuda()\n",
    "loss_fn = torch.nn.CrossEntropyLoss()\n",
    "otim = torch.optim.Adam(emb_mlp.parameters())\n",
    "losses = []"
   ]
  },
  {
   "cell_type": "code",
   "execution_count": 8,
   "metadata": {},
   "outputs": [],
   "source": [
    "for ep in range(20):\n",
    "    total_loss = 0.\n",
    "    for x, y in trainDataLoader:\n",
    "        x, y = x.cuda(), y.cuda()\n",
    "        otim.zero_grad()\n",
    "        pred = emb_mlp(x)\n",
    "        loss = loss_fn(pred, y)\n",
    "        loss.backward()\n",
    "        otim.step()\n",
    "        total_loss += loss.item()\n",
    "    losses.append(total_loss / (len(testDataset) / 32))"
   ]
  },
  {
   "cell_type": "code",
   "execution_count": 9,
   "metadata": {},
   "outputs": [
    {
     "data": {
      "image/png": "[encoded data removed]",
      "text/plain": [
       "<Figure size 640x480 with 1 Axes>"
      ]
     },
     "metadata": {},
     "output_type": "display_data"
    }
   ],
   "source": [
    "plt.plot(losses)\n",
    "plt.title(\"Training Loss\")\n",
    "plt.show()"
   ]
  },
  {
   "cell_type": "code",
   "execution_count": 10,
   "metadata": {},
   "outputs": [
    {
     "name": "stdout",
     "output_type": "stream",
     "text": [
      "Acc =  72.904%\n"
     ]
    }
   ],
   "source": [
    "with torch.no_grad():\n",
    "    x, y = testDataset.tensors[0].cuda(), testDataset.tensors[1].cuda()\n",
    "    pred = emb_mlp(x)\n",
    "    count = (pred.argmax(1) == y).sum().float()\n",
    "    print(f'Acc = {count / len(testDataset) * 100 : 0.3f}%')"
   ]
  },
  {
   "cell_type": "code",
   "execution_count": 11,
   "metadata": {},
   "outputs": [],
   "source": [
    "class LSTMBased(torch.nn.Module):\n",
    "\n",
    "    def __init__(self, train_voc : Vocabulary) -> None:\n",
    "        super(LSTMBased, self).__init__()\n",
    "        self.embedding = torch.nn.Embedding(train_voc.num_words, 300, padding_idx = 0)\n",
    "        self.lstm1 = torch.nn.LSTM(input_size = 300, hidden_size = 300, batch_first = True)\n",
    "        self.linear_d = torch.nn.Linear(30 * 300, 128)\n",
    "        self.linear_i = torch.nn.Linear(128, 2)\n",
    "    def forward(self, x):\n",
    "        h = self.embedding(x)\n",
    "        h, (_, _) = self.lstm1(h)\n",
    "        h = torch.nn.functional.relu(h)\n",
    "        h = torch.flatten(h, start_dim = 1)\n",
    "        h = self.linear_d(h)\n",
    "        h = torch.nn.functional.relu(h)\n",
    "        h = self.linear_i(h)\n",
    "        return h"
   ]
  },
  {
   "cell_type": "code",
   "execution_count": 12,
   "metadata": {},
   "outputs": [],
   "source": [
    "lstm_based = LSTMBased(train_voc = train_voc).cuda()\n",
    "loss_fn = torch.nn.CrossEntropyLoss()\n",
    "otim = torch.optim.Adam(lstm_based.parameters())\n",
    "losses = []"
   ]
  },
  {
   "cell_type": "code",
   "execution_count": 13,
   "metadata": {},
   "outputs": [],
   "source": [
    "for ep in range(20):\n",
    "    total_loss = 0.\n",
    "    for x, y in trainDataLoader:\n",
    "        x, y = x.cuda(), y.cuda()\n",
    "        otim.zero_grad()\n",
    "        pred = lstm_based(x)\n",
    "        loss = loss_fn(pred, y)\n",
    "        loss.backward()\n",
    "        otim.step()\n",
    "        total_loss += loss.item()\n",
    "    losses.append(total_loss / (len(testDataset) / 32))"
   ]
  },
  {
   "cell_type": "code",
   "execution_count": 14,
   "metadata": {},
   "outputs": [
    {
     "data": {
      "image/png": "[encoded data removed]",
      "text/plain": [
       "<Figure size 640x480 with 1 Axes>"
      ]
     },
     "metadata": {},
     "output_type": "display_data"
    }
   ],
   "source": [
    "plt.plot(losses)\n",
    "plt.title(\"Training Loss\")\n",
    "plt.show()"
   ]
  },
  {
   "cell_type": "code",
   "execution_count": 15,
   "metadata": {},
   "outputs": [
    {
     "name": "stdout",
     "output_type": "stream",
     "text": [
      "Acc =  71.272%\n"
     ]
    }
   ],
   "source": [
    "with torch.no_grad():\n",
    "    x, y = testDataset.tensors[0].cuda(), testDataset.tensors[1].cuda()\n",
    "    pred = lstm_based(x)\n",
    "    count = (pred.argmax(1) == y).sum().float()\n",
    "    print(f'Acc = {count / len(testDataset) * 100 : 0.3f}%')"
   ]
  },
  {
   "cell_type": "code",
   "execution_count": 16,
   "metadata": {},
   "outputs": [],
   "source": [
    "class LSTMPredWithFinalState(torch.nn.Module):\n",
    "\n",
    "    def __init__(self, train_voc : Vocabulary) -> None:\n",
    "        super(LSTMPredWithFinalState, self).__init__()\n",
    "        self.embedding = torch.nn.Embedding(train_voc.num_words, 300, padding_idx = 0)\n",
    "        self.lstm1 = torch.nn.LSTM(input_size = 300, hidden_size = 300, batch_first = True)\n",
    "        self.linear_d = torch.nn.Linear(300, 128)\n",
    "        self.linear_i = torch.nn.Linear(128, 2)\n",
    "    def forward(self, x):\n",
    "        h = self.embedding(x)\n",
    "        _, (h, _) = self.lstm1(h)\n",
    "        h = torch.permute(h, (1, 0, 2))\n",
    "        h = h.view(-1, 300)\n",
    "        h = torch.nn.functional.relu(h)\n",
    "        h = self.linear_d(h)\n",
    "        h = torch.nn.functional.relu(h)\n",
    "        h = self.linear_i(h)\n",
    "        return h"
   ]
  },
  {
   "cell_type": "code",
   "execution_count": 17,
   "metadata": {},
   "outputs": [],
   "source": [
    "lstm_prd_fin = LSTMPredWithFinalState(train_voc = train_voc).cuda()\n",
    "loss_fn = torch.nn.CrossEntropyLoss()\n",
    "otim = torch.optim.Adam(lstm_prd_fin.parameters())\n",
    "losses = []"
   ]
  },
  {
   "cell_type": "code",
   "execution_count": 18,
   "metadata": {},
   "outputs": [],
   "source": [
    "for ep in range(20):\n",
    "    total_loss = 0.\n",
    "    for x, y in trainDataLoader:\n",
    "        x, y = x.cuda(), y.cuda()\n",
    "        otim.zero_grad()\n",
    "        pred = lstm_prd_fin(x)\n",
    "        loss = loss_fn(pred, y)\n",
    "        loss.backward()\n",
    "        otim.step()\n",
    "        total_loss += loss.item()\n",
    "    losses.append(total_loss / (len(testDataset) / 32))"
   ]
  },
  {
   "cell_type": "code",
   "execution_count": 19,
   "metadata": {},
   "outputs": [
    {
     "data": {
      "image/png": "[encoded data removed]",
      "text/plain": [
       "<Figure size 640x480 with 1 Axes>"
      ]
     },
     "metadata": {},
     "output_type": "display_data"
    }
   ],
   "source": [
    "plt.plot(losses)\n",
    "plt.title(\"Training Loss\")\n",
    "plt.show()"
   ]
  },
  {
   "cell_type": "code",
   "execution_count": 20,
   "metadata": {},
   "outputs": [
    {
     "name": "stdout",
     "output_type": "stream",
     "text": [
      "Acc =  69.105%\n"
     ]
    }
   ],
   "source": [
    "with torch.no_grad():\n",
    "    x, y = testDataset.tensors[0].cuda(), testDataset.tensors[1].cuda()\n",
    "    pred = lstm_prd_fin(x)\n",
    "    count = (pred.argmax(1) == y).sum().float()\n",
    "    print(f'Acc = {count / len(testDataset) * 100 : 0.3f}%')"
   ]
  }
 ],
 "metadata": {
  "kernelspec": {
   "display_name": "Python 3.10.7 ('torchEnv': venv)",
   "language": "python",
   "name": "python3"
  },
  "language_info": {
   "codemirror_mode": {
    "name": "ipython",
    "version": 3
   },
   "file_extension": ".py",
   "mimetype": "text/x-python",
   "name": "python",
   "nbconvert_exporter": "python",
   "pygments_lexer": "ipython3",
   "version": "3.10.7"
  },
  "orig_nbformat": 4,
  "vscode": {
   "interpreter": {
    "hash": "856971fa0a169429db2bf0c06b69517a5be6dea1d062d3d5bb82efdd1c5fddc9"
   }
  }
 },
 "nbformat": 4,
 "nbformat_minor": 2
}
