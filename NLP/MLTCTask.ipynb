{
 "cells": [
  {
   "cell_type": "code",
   "execution_count": 1,
   "metadata": {},
   "outputs": [
    {
     "name": "stderr",
     "output_type": "stream",
     "text": [
      "c:\\Users\\Wen2Tee5\\Desktop\\Postgraduate\\torchPlayGround\\torchEnv\\lib\\site-packages\\tqdm\\auto.py:22: TqdmWarning: IProgress not found. Please update jupyter and ipywidgets. See https://ipywidgets.readthedocs.io/en/stable/user_install.html\n",
      "  from .autonotebook import tqdm as notebook_tqdm\n"
     ]
    }
   ],
   "source": [
    "import torch\n",
    "from torch.utils.data import DataLoader, TensorDataset\n",
    "from NLPUtils.DataModel import Vocabulary\n",
    "import matplotlib.pyplot as plt\n",
    "from tqdm import tqdm\n",
    "import pickle\n",
    "import numpy as np"
   ]
  },
  {
   "cell_type": "code",
   "execution_count": 2,
   "metadata": {},
   "outputs": [],
   "source": [
    "BATCH_SIZE = 256\n",
    "EPOCH = 20"
   ]
  },
  {
   "cell_type": "code",
   "execution_count": 3,
   "metadata": {},
   "outputs": [],
   "source": [
    "train_x = np.load('./MLTCDataset/RCV1/data/train_x.npy')\n",
    "train_y = np.load('./MLTCDataset/RCV1/data/train_y.npy')\n",
    "valid_x = np.load('./MLTCDataset/RCV1/data/valid_x.npy')\n",
    "valid_y = np.load('./MLTCDataset/RCV1/data/valid_y.npy')\n",
    "test_x = np.load('./MLTCDataset/RCV1/data/test_x.npy')\n",
    "test_y = np.load('./MLTCDataset/RCV1/data/test_y.npy')\n",
    "with open('./MLTCDataset/RCV1/data/train_voc.data', 'rb') as f:\n",
    "    train_voc = pickle.load(f)"
   ]
  },
  {
   "cell_type": "code",
   "execution_count": 4,
   "metadata": {},
   "outputs": [],
   "source": [
    "trainDataloader = DataLoader(TensorDataset(torch.from_numpy(train_x), (torch.from_numpy(train_y))), batch_size=BATCH_SIZE)\n",
    "validDataloader = DataLoader(TensorDataset(torch.from_numpy(valid_x), (torch.from_numpy(valid_y))), batch_size=len(valid_x))\n",
    "testDataloader = DataLoader(TensorDataset(torch.from_numpy(test_x), (torch.from_numpy(test_y))), batch_size=len(test_x))"
   ]
  },
  {
   "cell_type": "code",
   "execution_count": 5,
   "metadata": {},
   "outputs": [],
   "source": [
    "class MLP_EMB(torch.nn.Module):\n",
    "\n",
    "    def __init__(self, train_voc : Vocabulary) -> None:\n",
    "        super(MLP_EMB, self).__init__()\n",
    "        self.embedBag = torch.nn.EmbeddingBag(train_voc.num_words, embedding_dim=300, padding_idx=0)\n",
    "        self.mlp = torch.nn.Sequential(\n",
    "            torch.nn.Linear(300, 128),\n",
    "            torch.nn.ReLU(),\n",
    "            torch.nn.Linear(128, 103),\n",
    "            torch.nn.Sigmoid()\n",
    "        )\n",
    "    def forward(self, x):\n",
    "        e = self.embedBag(x)\n",
    "        out = self.mlp(e)\n",
    "        return out"
   ]
  },
  {
   "cell_type": "code",
   "execution_count": 6,
   "metadata": {},
   "outputs": [],
   "source": [
    "model = MLP_EMB(train_voc=train_voc).cuda()\n",
    "loss_fn = torch.nn.BCELoss()\n",
    "optm = torch.optim.Adam(model.parameters())"
   ]
  },
  {
   "cell_type": "code",
   "execution_count": 7,
   "metadata": {},
   "outputs": [],
   "source": [
    "losses = []"
   ]
  },
  {
   "cell_type": "code",
   "execution_count": 8,
   "metadata": {},
   "outputs": [
    {
     "name": "stderr",
     "output_type": "stream",
     "text": [
      "100%|██████████| 3029/3029 [00:51<00:00, 58.38it/s, Epoch=1, avg_loss=0.045]\n",
      "100%|██████████| 3029/3029 [00:50<00:00, 60.23it/s, Epoch=2, avg_loss=0.025]\n",
      "100%|██████████| 3029/3029 [00:48<00:00, 62.11it/s, Epoch=3, avg_loss=0.022]\n",
      "100%|██████████| 3029/3029 [00:49<00:00, 61.24it/s, Epoch=4, avg_loss=0.020]\n",
      "100%|██████████| 3029/3029 [00:49<00:00, 61.09it/s, Epoch=5, avg_loss=0.019]\n",
      "100%|██████████| 3029/3029 [00:50<00:00, 60.06it/s, Epoch=6, avg_loss=0.018]\n",
      "100%|██████████| 3029/3029 [00:50<00:00, 60.14it/s, Epoch=7, avg_loss=0.018]\n",
      "100%|██████████| 3029/3029 [00:50<00:00, 59.85it/s, Epoch=8, avg_loss=0.017]\n",
      "100%|██████████| 3029/3029 [00:50<00:00, 59.47it/s, Epoch=9, avg_loss=0.016]\n",
      "100%|██████████| 3029/3029 [00:50<00:00, 59.83it/s, Epoch=10, avg_loss=0.016]\n",
      "100%|██████████| 3029/3029 [00:50<00:00, 60.46it/s, Epoch=11, avg_loss=0.015]\n",
      "100%|██████████| 3029/3029 [00:50<00:00, 59.73it/s, Epoch=12, avg_loss=0.014]\n",
      "100%|██████████| 3029/3029 [00:50<00:00, 59.67it/s, Epoch=13, avg_loss=0.014]\n",
      "100%|██████████| 3029/3029 [00:50<00:00, 59.82it/s, Epoch=14, avg_loss=0.013]\n",
      "100%|██████████| 3029/3029 [00:50<00:00, 59.75it/s, Epoch=15, avg_loss=0.013]\n",
      "100%|██████████| 3029/3029 [00:50<00:00, 59.82it/s, Epoch=16, avg_loss=0.012]\n",
      "100%|██████████| 3029/3029 [00:50<00:00, 59.81it/s, Epoch=17, avg_loss=0.012]\n",
      "100%|██████████| 3029/3029 [00:50<00:00, 59.78it/s, Epoch=18, avg_loss=0.011]\n",
      "100%|██████████| 3029/3029 [00:50<00:00, 59.77it/s, Epoch=19, avg_loss=0.011]\n",
      "100%|██████████| 3029/3029 [00:50<00:00, 59.82it/s, Epoch=20, avg_loss=0.011]\n"
     ]
    }
   ],
   "source": [
    "for epoch in range(EPOCH):\n",
    "    total_loss = 0.\n",
    "    loss_value = torch.tensor(data=[0.], dtype=torch.float32).cuda().item()\n",
    "    train_bar = tqdm(trainDataloader)\n",
    "    for batch, (x, y) in enumerate(train_bar, start = 1):\n",
    "        x, y = x.cuda(), y.cuda()\n",
    "        optm.zero_grad()\n",
    "        pred = model(x)\n",
    "        loss = loss_fn(pred, y)\n",
    "        loss.backward()\n",
    "        optm.step()\n",
    "        loss_value = loss.item()\n",
    "        total_loss += loss_value\n",
    "        avg_loss = total_loss/ batch\n",
    "        train_bar.set_postfix({\n",
    "            'Epoch' : f'{epoch + 1}',\n",
    "            'avg_loss' : f'{avg_loss:.3f}'\n",
    "            })\n",
    "    losses.append(avg_loss)"
   ]
  },
  {
   "cell_type": "code",
   "execution_count": 9,
   "metadata": {},
   "outputs": [
    {
     "data": {
      "image/png": "[encoded data removed]",
      "text/plain": [
       "<Figure size 640x480 with 1 Axes>"
      ]
     },
     "metadata": {},
     "output_type": "display_data"
    }
   ],
   "source": [
    "plt.plot(losses)\n",
    "plt.show()"
   ]
  },
  {
   "cell_type": "code",
   "execution_count": 10,
   "metadata": {},
   "outputs": [],
   "source": [
    "torch.save(model.state_dict(), './MLTCDataset/RCV1/model/MLP_EMB.pth')"
   ]
  },
  {
   "cell_type": "code",
   "execution_count": 11,
   "metadata": {},
   "outputs": [],
   "source": [
    "from sklearn.metrics import f1_score"
   ]
  },
  {
   "cell_type": "code",
   "execution_count": 12,
   "metadata": {},
   "outputs": [],
   "source": [
    "DEVICE = 'cuda' if torch.cuda.is_available() else 'cpu'"
   ]
  },
  {
   "cell_type": "code",
   "execution_count": 13,
   "metadata": {},
   "outputs": [
    {
     "data": {
      "text/plain": [
       "True"
      ]
     },
     "execution_count": 13,
     "metadata": {},
     "output_type": "execute_result"
    }
   ],
   "source": [
    "model = MLP_EMB(train_voc = train_voc)\n",
    "model.load_state_dict(torch.load('./MLTCDataset/RCV1/model/MLP_EMB.pth'))\n",
    "model.to(DEVICE)\n",
    "next(model.parameters()).is_cuda"
   ]
  },
  {
   "cell_type": "code",
   "execution_count": 14,
   "metadata": {},
   "outputs": [],
   "source": [
    "x, y = next(iter(testDataloader))\n",
    "x, y = x.cuda(), y.cuda()"
   ]
  },
  {
   "cell_type": "code",
   "execution_count": 15,
   "metadata": {},
   "outputs": [
    {
     "name": "stdout",
     "output_type": "stream",
     "text": [
      "All (Test) mactch Acc = 55.08%\n",
      "Micro-F1 = 0.85\n",
      "Macro-F1 = 0.66\n"
     ]
    },
    {
     "name": "stderr",
     "output_type": "stream",
     "text": [
      "c:\\Users\\Wen2Tee5\\Desktop\\Postgraduate\\torchPlayGround\\torchEnv\\lib\\site-packages\\sklearn\\metrics\\_classification.py:1599: UndefinedMetricWarning: F-score is ill-defined and being set to 0.0 in labels with no true nor predicted samples. Use `zero_division` parameter to control this behavior.\n",
      "  _warn_prf(average, \"true nor predicted\", \"F-score is\", len(true_sum))\n"
     ]
    }
   ],
   "source": [
    "with torch.no_grad():\n",
    "    pred = model(x)\n",
    "    print(f'All (Test) mactch Acc = {torch.all((pred > 0.5).type(torch.float32) == y, dim=1).sum()/ len(y) * 100:.2f}%')\n",
    "    pred_numpy = (pred > 0.5).type(torch.int32).cpu()\n",
    "    y_numpy = y.cpu()\n",
    "    micro_f1 = f1_score(y_true = y_numpy, y_pred = pred_numpy, average='micro')\n",
    "    macro_f1 = f1_score(y_true = y_numpy, y_pred = pred_numpy, average='macro')\n",
    "    print(f'Micro-F1 = {micro_f1:.2f}')\n",
    "    print(f'Macro-F1 = {macro_f1:.2f}')\n",
    "    "
   ]
  },
  {
   "cell_type": "code",
   "execution_count": 16,
   "metadata": {},
   "outputs": [],
   "source": [
    "x, y = next(iter(validDataloader))\n",
    "x, y = x.cuda(), y.cuda()"
   ]
  },
  {
   "cell_type": "code",
   "execution_count": 17,
   "metadata": {},
   "outputs": [
    {
     "name": "stdout",
     "output_type": "stream",
     "text": [
      "All (Valid) mactch Acc = 62.32%\n",
      "Micro-F1 = 0.86\n",
      "Macro-F1 = 0.71\n"
     ]
    },
    {
     "name": "stderr",
     "output_type": "stream",
     "text": [
      "c:\\Users\\Wen2Tee5\\Desktop\\Postgraduate\\torchPlayGround\\torchEnv\\lib\\site-packages\\sklearn\\metrics\\_classification.py:1599: UndefinedMetricWarning: F-score is ill-defined and being set to 0.0 in labels with no true nor predicted samples. Use `zero_division` parameter to control this behavior.\n",
      "  _warn_prf(average, \"true nor predicted\", \"F-score is\", len(true_sum))\n"
     ]
    }
   ],
   "source": [
    "with torch.no_grad():\n",
    "    pred = model(x)\n",
    "    print(f'All (Valid) mactch Acc = {torch.all((pred > 0.5).type(torch.float32) == y, dim=1).sum()/ len(y) * 100:.2f}%')\n",
    "    pred_numpy = (pred > 0.5).type(torch.int32).cpu()\n",
    "    y_numpy = y.cpu()\n",
    "    micro_f1 = f1_score(y_true = y_numpy, y_pred = pred_numpy, average='micro')\n",
    "    macro_f1 = f1_score(y_true = y_numpy, y_pred = pred_numpy, average='macro')\n",
    "    print(f'Micro-F1 = {micro_f1:.2f}')\n",
    "    print(f'Macro-F1 = {macro_f1:.2f}')"
   ]
  },
  {
   "cell_type": "code",
   "execution_count": 18,
   "metadata": {},
   "outputs": [],
   "source": [
    "trainDataloader = DataLoader(TensorDataset(torch.from_numpy(train_x), (torch.from_numpy(train_y))), batch_size=len(train_x))"
   ]
  },
  {
   "cell_type": "code",
   "execution_count": 19,
   "metadata": {},
   "outputs": [
    {
     "name": "stdout",
     "output_type": "stream",
     "text": [
      "All (Train) mactch Acc = 79.71%\n",
      "Micro-F1 = 0.94\n",
      "Macro-F1 = 0.88\n"
     ]
    }
   ],
   "source": [
    "x, y = next(iter(trainDataloader))\n",
    "x, y = x.cuda(), y.cuda()\n",
    "with torch.no_grad():\n",
    "    pred = model(x)\n",
    "    print(f'All (Train) mactch Acc = {torch.all((pred > 0.5).type(torch.float32) == y, dim=1).sum()/ len(y) * 100:.2f}%')\n",
    "    pred_numpy = (pred > 0.5).type(torch.int32).cpu()\n",
    "    y_numpy = y.cpu()\n",
    "    micro_f1 = f1_score(y_true = y_numpy, y_pred = pred_numpy, average='micro')\n",
    "    macro_f1 = f1_score(y_true = y_numpy, y_pred = pred_numpy, average='macro')\n",
    "    print(f'Micro-F1 = {micro_f1:.2f}')\n",
    "    print(f'Macro-F1 = {macro_f1:.2f}')"
   ]
  },
  {
   "cell_type": "markdown",
   "metadata": {},
   "source": [
    "順便測試 如果shuffle會不會影響到實驗結果 從結果推導出矩陣 row的位置是否會影響到輸出結果"
   ]
  },
  {
   "cell_type": "code",
   "execution_count": 20,
   "metadata": {},
   "outputs": [],
   "source": [
    "trainDataloader = DataLoader(TensorDataset(torch.from_numpy(train_x), (torch.from_numpy(train_y))), batch_size=len(train_x), shuffle=True)"
   ]
  },
  {
   "cell_type": "code",
   "execution_count": 21,
   "metadata": {},
   "outputs": [
    {
     "name": "stdout",
     "output_type": "stream",
     "text": [
      "All (Train) mactch Acc = 79.71%\n",
      "Micro-F1 = 0.94\n",
      "Macro-F1 = 0.88\n"
     ]
    }
   ],
   "source": [
    "x, y = next(iter(trainDataloader))\n",
    "x, y = x.cuda(), y.cuda()\n",
    "with torch.no_grad():\n",
    "    pred = model(x)\n",
    "    print(f'All (Train) mactch Acc = {torch.all((pred > 0.5).type(torch.float32) == y, dim=1).sum()/ len(y) * 100:.2f}%')\n",
    "    pred_numpy = (pred > 0.5).type(torch.int32).cpu()\n",
    "    y_numpy = y.cpu()\n",
    "    micro_f1 = f1_score(y_true = y_numpy, y_pred = pred_numpy, average='micro')\n",
    "    macro_f1 = f1_score(y_true = y_numpy, y_pred = pred_numpy, average='macro')\n",
    "    print(f'Micro-F1 = {micro_f1:.2f}')\n",
    "    print(f'Macro-F1 = {macro_f1:.2f}')"
   ]
  }
 ],
 "metadata": {
  "kernelspec": {
   "display_name": "Python 3.10.7 ('torchEnv': venv)",
   "language": "python",
   "name": "python3"
  },
  "language_info": {
   "codemirror_mode": {
    "name": "ipython",
    "version": 3
   },
   "file_extension": ".py",
   "mimetype": "text/x-python",
   "name": "python",
   "nbconvert_exporter": "python",
   "pygments_lexer": "ipython3",
   "version": "3.10.7"
  },
  "orig_nbformat": 4,
  "vscode": {
   "interpreter": {
    "hash": "856971fa0a169429db2bf0c06b69517a5be6dea1d062d3d5bb82efdd1c5fddc9"
   }
  }
 },
 "nbformat": 4,
 "nbformat_minor": 2
}
