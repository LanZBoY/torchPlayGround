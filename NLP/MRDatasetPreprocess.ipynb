{
 "cells": [
  {
   "cell_type": "code",
   "execution_count": 1,
   "metadata": {},
   "outputs": [],
   "source": [
    "from NLPUtils.preprocessUtils import removePunctuation, removeWord\n",
    "from nltk.corpus import stopwords\n",
    "import pandas as pd\n",
    "import numpy as np\n",
    "import pickle"
   ]
  },
  {
   "cell_type": "code",
   "execution_count": 2,
   "metadata": {},
   "outputs": [],
   "source": [
    "MAXLEN = 10"
   ]
  },
  {
   "cell_type": "code",
   "execution_count": 3,
   "metadata": {},
   "outputs": [],
   "source": [
    "trainDataFile = './SLTCDataset/mr/text_train.txt'\n",
    "trainLabelFile = './SLTCDataset/mr/label_train.txt'\n",
    "xTrianSavePath = './SLTCDataset/mr/x_train.npy'\n",
    "yTrianSavePath = './SLTCDataset/mr/y_train.npy'\n",
    "\n",
    "testDataFile = './SLTCDataset/mr/text_test.txt'\n",
    "testLabelFile = './SLTCDataset/mr/label_test.txt'\n",
    "xTestSavePath = './SLTCDataset/mr/x_test.npy'\n",
    "yTestSavePath = './SLTCDataset/mr/y_test.npy'"
   ]
  },
  {
   "cell_type": "code",
   "execution_count": 4,
   "metadata": {},
   "outputs": [],
   "source": [
    "removeWordList = stopwords.words('english')"
   ]
  },
  {
   "cell_type": "code",
   "execution_count": 5,
   "metadata": {},
   "outputs": [],
   "source": [
    "trainRawDatas = []\n",
    "voc = set()"
   ]
  },
  {
   "cell_type": "code",
   "execution_count": 6,
   "metadata": {},
   "outputs": [],
   "source": [
    "with open(trainDataFile, 'r', encoding='utf-8') as f:\n",
    "    for data in f:\n",
    "        # remove  \\n\n",
    "        data = data.replace('\\n', '')\n",
    "        # removePunctuation\n",
    "        data = removePunctuation(data)\n",
    "        # toList\n",
    "        data = data.split()\n",
    "        # removeStopWord\n",
    "        data = removeWord(removeWordList=removeWordList, sentence = data)\n",
    "        \n",
    "        trainRawDatas.append(data)\n",
    "        voc.update(data)"
   ]
  },
  {
   "cell_type": "code",
   "execution_count": 7,
   "metadata": {},
   "outputs": [],
   "source": [
    "with open('./SLTCDataset/mr/voc.data', 'wb') as f:\n",
    "    pickle.dump(voc, f)"
   ]
  },
  {
   "cell_type": "code",
   "execution_count": 8,
   "metadata": {},
   "outputs": [
    {
     "name": "stdout",
     "output_type": "stream",
     "text": [
      "Len of voc 16610\n"
     ]
    }
   ],
   "source": [
    "print(f'Len of voc {len(voc)}')"
   ]
  },
  {
   "cell_type": "code",
   "execution_count": 9,
   "metadata": {},
   "outputs": [],
   "source": [
    "word2idx = {word : i for i , word in enumerate(voc, start=1)}\n",
    "word2idx.update({'<unk>': 0})"
   ]
  },
  {
   "cell_type": "code",
   "execution_count": 10,
   "metadata": {},
   "outputs": [],
   "source": [
    "trainDatas = []\n",
    "for data in trainRawDatas:\n",
    "    trainData = [word2idx[word] for word in data[:MAXLEN]]\n",
    "    while len(trainData) < MAXLEN:\n",
    "        trainData.append(0)\n",
    "    trainDatas.append(trainData)\n",
    "x_train = np.array(trainDatas, dtype=np.int64)\n",
    "np.save(xTrianSavePath, x_train)\n",
    "df = pd.read_csv(trainLabelFile, encoding='utf-8', header=None)\n",
    "y_train = df[0].to_numpy(dtype=np.int64)\n",
    "np.save(yTrianSavePath, y_train)"
   ]
  },
  {
   "cell_type": "code",
   "execution_count": 11,
   "metadata": {},
   "outputs": [],
   "source": [
    "testRawDatas = []\n",
    "with open(testDataFile, 'r', encoding='utf-8') as f:\n",
    "    for data in f:\n",
    "        # remove  \\n\n",
    "        data = data.replace('\\n', '')\n",
    "        # removePunctuation\n",
    "        data = removePunctuation(data)\n",
    "        # toList\n",
    "        data = data.split()\n",
    "        # removeStopWord\n",
    "        data = removeWord(removeWordList=removeWordList, sentence = data)\n",
    "        \n",
    "        testRawDatas.append(data)"
   ]
  },
  {
   "cell_type": "code",
   "execution_count": 12,
   "metadata": {},
   "outputs": [],
   "source": [
    "testDatas = []\n",
    "for data in testRawDatas:\n",
    "    testData = []\n",
    "    for word in data[:MAXLEN]:\n",
    "        if word in voc:\n",
    "            testData.append(word2idx[word])\n",
    "        else:\n",
    "            testData.append(0)\n",
    "    while len(testData) < MAXLEN:\n",
    "        testData.append(0)\n",
    "    testDatas.append(testData)\n",
    "x_test = np.array(testDatas, dtype=np.int64)\n",
    "np.save(xTestSavePath, x_test)\n",
    "df = pd.read_csv(testLabelFile, encoding='utf-8', header=None)\n",
    "y_test = df[0].to_numpy(dtype=np.int64)\n",
    "np.save(yTestSavePath, y_test)"
   ]
  }
 ],
 "metadata": {
  "kernelspec": {
   "display_name": "Python 3.10.7 ('torchEnv': venv)",
   "language": "python",
   "name": "python3"
  },
  "language_info": {
   "codemirror_mode": {
    "name": "ipython",
    "version": 3
   },
   "file_extension": ".py",
   "mimetype": "text/x-python",
   "name": "python",
   "nbconvert_exporter": "python",
   "pygments_lexer": "ipython3",
   "version": "3.10.7"
  },
  "orig_nbformat": 4,
  "vscode": {
   "interpreter": {
    "hash": "856971fa0a169429db2bf0c06b69517a5be6dea1d062d3d5bb82efdd1c5fddc9"
   }
  }
 },
 "nbformat": 4,
 "nbformat_minor": 2
}
