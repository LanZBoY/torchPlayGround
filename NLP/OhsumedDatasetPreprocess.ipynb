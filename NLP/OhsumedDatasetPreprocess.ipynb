{
 "cells": [
  {
   "cell_type": "code",
   "execution_count": 1,
   "metadata": {},
   "outputs": [],
   "source": [
    "from NLPUtils.preprocessUtils import removePunctuation, removeWord\n",
    "from nltk.tokenize import word_tokenize\n",
    "from nltk.corpus import stopwords\n",
    "import numpy as np\n",
    "import pickle\n",
    "import os"
   ]
  },
  {
   "cell_type": "code",
   "execution_count": 2,
   "metadata": {},
   "outputs": [],
   "source": [
    "ROOT = '.\\\\SLTCDataset\\\\ohsumed_single_23\\\\'\n",
    "TRAIN = 'training'\n",
    "X_TRAIN_FILE = 'x_train.npy'\n",
    "Y_TRAIN_FILE = 'y_train.npy'\n",
    "TEST = 'test'\n",
    "X_TEST_FILE = 'x_test.npy'\n",
    "Y_TEST_FILE = 'y_test.npy'\n",
    "VOC_FILE = 'voc.data'\n",
    "MAELEN = 50"
   ]
  },
  {
   "cell_type": "code",
   "execution_count": 3,
   "metadata": {},
   "outputs": [],
   "source": [
    "trainRoot = os.path.join(ROOT, TRAIN)"
   ]
  },
  {
   "cell_type": "code",
   "execution_count": 4,
   "metadata": {},
   "outputs": [],
   "source": [
    "removeWordList = stopwords.words('english')"
   ]
  },
  {
   "cell_type": "code",
   "execution_count": 5,
   "metadata": {},
   "outputs": [],
   "source": [
    "label2idx = {label : i for i, label in enumerate(os.listdir(trainRoot))}"
   ]
  },
  {
   "cell_type": "code",
   "execution_count": 6,
   "metadata": {},
   "outputs": [],
   "source": [
    "xRawDatas = []\n",
    "yRawDatas = []\n",
    "voc = set()\n",
    "for label in os.listdir(trainRoot):\n",
    "    labelPath = os.path.join(trainRoot, label)\n",
    "    for fileName in os.listdir(labelPath):\n",
    "        filePath  = os.path.join(labelPath, fileName)\n",
    "        with open(filePath, 'r', encoding='utf-8') as f:\n",
    "            data = f.read()\n",
    "        data = removePunctuation(data)\n",
    "        data = removeWord(removeWordList =removeWordList, sentence=data.split())\n",
    "        voc.update(data)\n",
    "        xRawDatas.append(data)\n",
    "        yRawDatas.append(label2idx[label])\n"
   ]
  },
  {
   "cell_type": "code",
   "execution_count": 7,
   "metadata": {},
   "outputs": [],
   "source": [
    "word2idx = {word : i for i, word in enumerate(voc, start=1)}\n",
    "word2idx.update({'<unk>' : 0})\n",
    "voc.update('<unk>')\n",
    "with open(os.path.join(ROOT, VOC_FILE), 'wb') as f:\n",
    "    pickle.dump(voc, f)"
   ]
  },
  {
   "cell_type": "code",
   "execution_count": 8,
   "metadata": {},
   "outputs": [],
   "source": [
    "assert len(yRawDatas) == len(xRawDatas) , \"ERROR\""
   ]
  },
  {
   "cell_type": "code",
   "execution_count": 9,
   "metadata": {},
   "outputs": [],
   "source": [
    "xDatas = []\n",
    "for data in xRawDatas:\n",
    "    xData = [word2idx[word] for word in data[:MAELEN]]\n",
    "    while len(xData) < MAELEN:\n",
    "        xData.append(0)\n",
    "    xDatas.append(xData)"
   ]
  },
  {
   "cell_type": "code",
   "execution_count": 10,
   "metadata": {},
   "outputs": [],
   "source": [
    "x_train = np.array(xDatas, dtype=np.int64)\n",
    "y_train = np.array(yRawDatas, dtype=np.int64)\n",
    "np.save(os.path.join(ROOT, X_TRAIN_FILE), x_train)\n",
    "np.save(os.path.join(ROOT, Y_TRAIN_FILE), y_train)"
   ]
  },
  {
   "cell_type": "code",
   "execution_count": 11,
   "metadata": {},
   "outputs": [],
   "source": [
    "testRoot = os.path.join(ROOT, TEST)\n",
    "for label in os.listdir(testRoot):\n",
    "    labelPath = os.path.join(testRoot, label)\n",
    "    for fileName in os.listdir(labelPath):\n",
    "        filePath  = os.path.join(labelPath, fileName)\n",
    "        with open(filePath, 'r', encoding='utf-8') as f:\n",
    "            data = f.read()\n",
    "        data = removePunctuation(data)\n",
    "        data = removeWord(removeWordList = removeWordList, sentence=data.split())\n",
    "        xRawDatas.append(data)\n",
    "        yRawDatas.append(label2idx[label])"
   ]
  },
  {
   "cell_type": "code",
   "execution_count": 12,
   "metadata": {},
   "outputs": [],
   "source": [
    "assert len(yRawDatas) == len(xRawDatas) , \"ERROR\""
   ]
  },
  {
   "cell_type": "code",
   "execution_count": 13,
   "metadata": {},
   "outputs": [],
   "source": [
    "xDatas = []\n",
    "for data in xRawDatas:\n",
    "    xData = []\n",
    "    for word in data[:MAELEN]:\n",
    "        if word in voc:\n",
    "            xData.append(word2idx[word])\n",
    "        else:\n",
    "            xData.append(0)\n",
    "    while len(xData) < MAELEN:\n",
    "        xData.append(0)\n",
    "    xDatas.append(xData)"
   ]
  },
  {
   "cell_type": "code",
   "execution_count": 14,
   "metadata": {},
   "outputs": [],
   "source": [
    "x_test = np.array(xDatas, dtype=np.int64)\n",
    "y_test = np.array(yRawDatas, dtype=np.int64)\n",
    "np.save(os.path.join(ROOT, X_TEST_FILE), x_test)\n",
    "np.save(os.path.join(ROOT, Y_TEST_FILE), y_test)"
   ]
  },
  {
   "cell_type": "code",
   "execution_count": 15,
   "metadata": {},
   "outputs": [
    {
     "name": "stdout",
     "output_type": "stream",
     "text": [
      "(7400, 50)\n",
      "(7400,)\n"
     ]
    }
   ],
   "source": [
    "print(x_test.shape)\n",
    "print(y_test.shape)"
   ]
  }
 ],
 "metadata": {
  "kernelspec": {
   "display_name": "Python 3.10.7 ('torchEnv': venv)",
   "language": "python",
   "name": "python3"
  },
  "language_info": {
   "codemirror_mode": {
    "name": "ipython",
    "version": 3
   },
   "file_extension": ".py",
   "mimetype": "text/x-python",
   "name": "python",
   "nbconvert_exporter": "python",
   "pygments_lexer": "ipython3",
   "version": "3.10.7"
  },
  "orig_nbformat": 4,
  "vscode": {
   "interpreter": {
    "hash": "856971fa0a169429db2bf0c06b69517a5be6dea1d062d3d5bb82efdd1c5fddc9"
   }
  }
 },
 "nbformat": 4,
 "nbformat_minor": 2
}
