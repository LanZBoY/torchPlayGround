{
 "cells": [
  {
   "cell_type": "code",
   "execution_count": 5,
   "metadata": {},
   "outputs": [],
   "source": [
    "import pandas as pd\n",
    "import numpy as np\n",
    "from NLPUtils.preprocessUtils import removePunctuation, removeWord\n",
    "from nltk.corpus import stopwords\n",
    "import pickle"
   ]
  },
  {
   "cell_type": "code",
   "execution_count": 6,
   "metadata": {},
   "outputs": [],
   "source": [
    "MAXLEN = 30"
   ]
  },
  {
   "cell_type": "code",
   "execution_count": 7,
   "metadata": {},
   "outputs": [],
   "source": [
    "df = pd.read_csv('./SLTCDataset/R52/train.txt', sep='\\t')\n",
    "labelToindex = {word:idx for idx, word in enumerate(df['Label'].unique())}"
   ]
  },
  {
   "cell_type": "code",
   "execution_count": null,
   "metadata": {},
   "outputs": [],
   "source": [
    "y_labels = [labelToindex[label] for label in df['Label']]\n",
    "y_train = np.array(y_labels, dtype=np.int64)\n",
    "np.save('./SLTCDataset/R52/y_train.npy', y_train)"
   ]
  },
  {
   "cell_type": "code",
   "execution_count": null,
   "metadata": {},
   "outputs": [],
   "source": [
    "voc = set()\n",
    "stwords = stopwords.words('english')\n",
    "raw_datas = []\n",
    "for content in df['Text']:\n",
    "    word_list = removeWord(removeWordList=stwords, sentence=content.split())\n",
    "    voc.update(word_list)\n",
    "    raw_datas.append(word_list)\n",
    "with open('./SLTCDataset/R52/voc.data', 'wb') as f:\n",
    "    pickle.dump(voc, f)\n",
    "word2idx = {word:idx for idx, word in enumerate(voc, start=1)}\n",
    "word2idx.update({'<unk>' : 0})"
   ]
  },
  {
   "cell_type": "code",
   "execution_count": null,
   "metadata": {},
   "outputs": [],
   "source": [
    "x_lists = []\n",
    "for data in raw_datas:\n",
    "    idx_list = [word2idx[word] for word in data[:MAXLEN]]\n",
    "    while len(idx_list) < MAXLEN:\n",
    "        idx_list.append(0)\n",
    "    x_lists.append(idx_list)\n",
    "x_train = np.array(x_lists, dtype=np.int64)\n",
    "np.save('./SLTCDataset/R52/x_train.npy', x_train)"
   ]
  },
  {
   "cell_type": "code",
   "execution_count": null,
   "metadata": {},
   "outputs": [],
   "source": [
    "df = pd.read_csv('./SLTCDataset/R52/test.txt', sep='\\t')"
   ]
  },
  {
   "cell_type": "code",
   "execution_count": null,
   "metadata": {},
   "outputs": [],
   "source": [
    "y_labels = [labelToindex[label] for label in df['Label']]\n",
    "y_test = np.array(y_labels, dtype=np.int64)\n",
    "np.save('./SLTCDataset/R52/y_test.npy', y_test)"
   ]
  },
  {
   "cell_type": "code",
   "execution_count": null,
   "metadata": {},
   "outputs": [],
   "source": [
    "stwords = stopwords.words('english')\n",
    "raw_datas = []\n",
    "for content in df['Text']:\n",
    "    word_list = removeWord(removeWordList=stwords, sentence=content.split())\n",
    "    raw_datas.append(word_list)"
   ]
  },
  {
   "cell_type": "code",
   "execution_count": null,
   "metadata": {},
   "outputs": [],
   "source": [
    "x_lists = []\n",
    "for data in raw_datas:\n",
    "    idx_list = []\n",
    "    for word in data:\n",
    "        if word in voc:\n",
    "            idx_list.append(word2idx[word])\n",
    "        else:\n",
    "            idx_list.append(0)\n",
    "    while len(idx_list) < MAXLEN:\n",
    "        idx_list.append(0)\n",
    "    x_lists.append(idx_list[:MAXLEN])\n",
    "x_test = np.array(x_lists, dtype=np.int64)\n",
    "np.save('./SLTCDataset/R52/x_test.npy', x_test)"
   ]
  }
 ],
 "metadata": {
  "kernelspec": {
   "display_name": "Python 3.10.7 ('torchEnv': venv)",
   "language": "python",
   "name": "python3"
  },
  "language_info": {
   "codemirror_mode": {
    "name": "ipython",
    "version": 3
   },
   "file_extension": ".py",
   "mimetype": "text/x-python",
   "name": "python",
   "nbconvert_exporter": "python",
   "pygments_lexer": "ipython3",
   "version": "3.10.7"
  },
  "orig_nbformat": 4,
  "vscode": {
   "interpreter": {
    "hash": "856971fa0a169429db2bf0c06b69517a5be6dea1d062d3d5bb82efdd1c5fddc9"
   }
  }
 },
 "nbformat": 4,
 "nbformat_minor": 2
}
