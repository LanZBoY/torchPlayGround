{
 "cells": [
  {
   "cell_type": "code",
   "execution_count": 8,
   "metadata": {},
   "outputs": [],
   "source": [
    "from html.parser import HTMLParser"
   ]
  },
  {
   "cell_type": "code",
   "execution_count": 31,
   "metadata": {},
   "outputs": [],
   "source": [
    "class SGMLParser(HTMLParser):\n",
    "\n",
    "    def __init__(self, *, convert_charrefs: bool = ...) -> None:\n",
    "        super().__init__(convert_charrefs=convert_charrefs)\n",
    "        self.datas = []\n",
    "        self.readflag = False\n",
    "        self.count = 0\n",
    "\n",
    "\n",
    "    def handle_starttag(self, tag: str, attrs: list[tuple[str, str | None]]) -> None:\n",
    "        if(tag == 'reuters'):\n",
    "            self.readflag = True\n",
    "            self.count += 1\n",
    "    def handle_data(self, data: str) -> None:\n",
    "        pass\n",
    "\n",
    "    def handle_endtag(self, tag: str) -> None:\n",
    "        if(tag == 'reuters'):\n",
    "            self.readflag = False\n",
    "with open(file='./MLTCDataset/rcv-21578/reut2-000.sgm', encoding='utf-8') as f:\n",
    "    data = f.read()\n",
    "sgmlP = SGMLParser()\n",
    "sgmlP.feed(data)"
   ]
  },
  {
   "cell_type": "code",
   "execution_count": 32,
   "metadata": {},
   "outputs": [
    {
     "data": {
      "text/plain": [
       "1000"
      ]
     },
     "execution_count": 32,
     "metadata": {},
     "output_type": "execute_result"
    }
   ],
   "source": [
    "sgmlP.count"
   ]
  },
  {
   "cell_type": "code",
   "execution_count": null,
   "metadata": {},
   "outputs": [],
   "source": []
  }
 ],
 "metadata": {
  "kernelspec": {
   "display_name": "Python 3.10.7 ('torchEnv': venv)",
   "language": "python",
   "name": "python3"
  },
  "language_info": {
   "codemirror_mode": {
    "name": "ipython",
    "version": 3
   },
   "file_extension": ".py",
   "mimetype": "text/x-python",
   "name": "python",
   "nbconvert_exporter": "python",
   "pygments_lexer": "ipython3",
   "version": "3.10.7"
  },
  "orig_nbformat": 4,
  "vscode": {
   "interpreter": {
    "hash": "856971fa0a169429db2bf0c06b69517a5be6dea1d062d3d5bb82efdd1c5fddc9"
   }
  }
 },
 "nbformat": 4,
 "nbformat_minor": 2
}
