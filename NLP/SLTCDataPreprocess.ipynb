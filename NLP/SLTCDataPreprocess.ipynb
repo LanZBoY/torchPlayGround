{
 "cells": [
  {
   "cell_type": "code",
   "execution_count": 1,
   "metadata": {},
   "outputs": [],
   "source": [
    "import os\n",
    "import json\n",
    "import pandas as pd\n",
    "from NLPUtils.DataModel import Vocabulary\n",
    "from NLPUtils.preprocessUtils import removePunctuation, removeWord\n",
    "from nltk.corpus import stopwords\n",
    "import numpy as np\n",
    "import pickle"
   ]
  },
  {
   "cell_type": "code",
   "execution_count": 2,
   "metadata": {},
   "outputs": [],
   "source": [
    "root_path = './SLTCDataset/'\n",
    "datasets = [\"20NG\", \"R52\", \"R8\", 'mr', 'ohsumed_single_23']\n",
    "with open('SLTCPreprocessConfig.json') as f:\n",
    "    config = json.load(f)\n",
    "assert config['Dataset'] in datasets, \"Dataset is not in dataset list\"\n",
    "DATASET = config['Dataset']\n",
    "stopword_list = stopwords.words('english')\n",
    "TRAIN = 'train'\n",
    "TEST = 'test'"
   ]
  },
  {
   "cell_type": "code",
   "execution_count": 3,
   "metadata": {},
   "outputs": [],
   "source": [
    "# Train Data\n",
    "train_file_path = os.path.join(root_path, DATASET, f\"{DATASET}_{TRAIN}.csv\")\n",
    "train_df = pd.read_csv(train_file_path, encoding='utf-8')\n",
    "train_voc = Vocabulary(TOKENS = config[\"TOKEN\"], MAXLEN = config['MAXLEN'])\n",
    "train_data = []\n",
    "for sentence in train_df['text']:\n",
    "    sentence = removePunctuation(sentence)\n",
    "    sentence = removeWord(removeWordList = stopword_list, sentence = sentence.split())\n",
    "    train_voc.addWordList(sentence)\n",
    "    data = [train_voc.word2idx[word] for word in sentence]\n",
    "    while (len(data) < config['MAXLEN']):\n",
    "        data.append(train_voc.word2idx['<UNK>'])\n",
    "    train_data.append(data)\n",
    "x_train = np.array(train_data, np.int64)\n",
    "y_train = train_df['target'].to_numpy(dtype = np.int64)"
   ]
  },
  {
   "cell_type": "code",
   "execution_count": 4,
   "metadata": {},
   "outputs": [],
   "source": [
    "# Test Data\n",
    "test_file_path = os.path.join(root_path, DATASET, f\"{DATASET}_{TEST}.csv\")\n",
    "test_df = pd.read_csv(test_file_path, encoding='utf-8')\n",
    "test_data = []\n",
    "for sentence in test_df['text']:\n",
    "    sentence = removePunctuation(sentence)\n",
    "    sentence = removeWord(removeWordList = stopword_list, sentence = sentence.split())\n",
    "    data = []\n",
    "    for word in sentence:\n",
    "        if train_voc.has(word):\n",
    "            data.append(train_voc.word2idx[word])\n",
    "        else:\n",
    "            data.append(train_voc.word2idx['<UNK>'])\n",
    "        if len(data) == config['MAXLEN']:\n",
    "            break\n",
    "    while (len(data) < config['MAXLEN']):\n",
    "        data.append(train_voc.word2idx['<UNK>'])\n",
    "    test_data.append(data)\n",
    "x_test = np.array(test_data, np.int64)\n",
    "y_test = test_df['target'].to_numpy(dtype = np.int64)"
   ]
  },
  {
   "cell_type": "code",
   "execution_count": 5,
   "metadata": {},
   "outputs": [],
   "source": [
    "root_npy_path = os.path.join(root_path, DATASET)\n",
    "x_train_path = os.path.join(root_npy_path, f\"x_{TRAIN}.npy\")\n",
    "y_train_path = os.path.join(root_npy_path, f\"y_{TRAIN}.npy\")\n",
    "x_test_path = os.path.join(root_npy_path, f\"x_{TEST}.npy\")\n",
    "y_test_path = os.path.join(root_npy_path, f\"y_{TEST}.npy\")"
   ]
  },
  {
   "cell_type": "code",
   "execution_count": 6,
   "metadata": {},
   "outputs": [],
   "source": [
    "np.save(x_train_path, x_train)\n",
    "np.save(y_train_path, y_train)\n",
    "np.save(x_test_path, x_test)\n",
    "np.save(y_test_path, y_test)\n",
    "with open('./SLTCDataset/mr/train_voc.data', 'wb') as f:\n",
    "    pickle.dump(train_voc, f)"
   ]
  }
 ],
 "metadata": {
  "kernelspec": {
   "display_name": "Python 3.10.7 ('torchEnv': venv)",
   "language": "python",
   "name": "python3"
  },
  "language_info": {
   "codemirror_mode": {
    "name": "ipython",
    "version": 3
   },
   "file_extension": ".py",
   "mimetype": "text/x-python",
   "name": "python",
   "nbconvert_exporter": "python",
   "pygments_lexer": "ipython3",
   "version": "3.10.7"
  },
  "orig_nbformat": 4,
  "vscode": {
   "interpreter": {
    "hash": "856971fa0a169429db2bf0c06b69517a5be6dea1d062d3d5bb82efdd1c5fddc9"
   }
  }
 },
 "nbformat": 4,
 "nbformat_minor": 2
}
