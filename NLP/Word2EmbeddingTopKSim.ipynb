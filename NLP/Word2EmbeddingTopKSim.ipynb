{
 "cells": [
  {
   "cell_type": "code",
   "execution_count": 4,
   "metadata": {},
   "outputs": [],
   "source": [
    "import torch\n",
    "import pickle\n",
    "import numpy as np\n",
    "from NLPUtils.DataModel import Vocabulary\n",
    "from tqdm import tqdm"
   ]
  },
  {
   "cell_type": "code",
   "execution_count": 5,
   "metadata": {},
   "outputs": [
    {
     "name": "stderr",
     "output_type": "stream",
     "text": [
      "100%|██████████| 400000/400000 [00:00<00:00, 1869606.83it/s]\n"
     ]
    }
   ],
   "source": [
    "with open('./NLPUtils/pretrain/glove.6B/glove.6B.300d.data', 'rb') as f:\n",
    "    Word2Embedding = pickle.load(f)\n",
    "glove_voc = Vocabulary()\n",
    "embeddingMat = []\n",
    "for word in tqdm(Word2Embedding):\n",
    "    glove_voc.addWord(word)\n",
    "    embeddingMat.append(Word2Embedding[word])"
   ]
  },
  {
   "cell_type": "code",
   "execution_count": 10,
   "metadata": {},
   "outputs": [
    {
     "name": "stdout",
     "output_type": "stream",
     "text": [
      "CosTop = ['good', 'better', 'really', 'always', 'you', 'well', 'excellent', 'very', 'things', 'think', 'way', 'sure', 'thing', 'so', \"n't\", 'we', 'lot', 'get', 'but', 'going']\n",
      "DotTop = ['good', 'i', 'you', 'we', 'better', 'my', 'really', \"'m\", 'your', \"'re\", 'our', 'very', \"n't\", \"'ve\", '``', 'excellent', 'think', 'pretty', 'lot', 'me']\n"
     ]
    }
   ],
   "source": [
    "TARGET_WORD = 'good'\n",
    "K = 20\n",
    "embeddingMat = np.array(embeddingMat, dtype=np.float32)\n",
    "dotResult = embeddingMat[glove_voc.word2idx[TARGET_WORD]] @ embeddingMat.T\n",
    "cosResult = (embeddingMat[glove_voc.word2idx[TARGET_WORD]] @ embeddingMat.T) / (np.sqrt((embeddingMat[glove_voc.word2idx[TARGET_WORD]] ** 2).sum()) * np.sqrt((embeddingMat ** 2).sum(axis=1)))\n",
    "cosTop = np.argsort(cosResult)[::-1][:K]\n",
    "cosTopWord = [glove_voc.idx2word[i] for i in cosTop]\n",
    "dotTop = np.argsort(dotResult)[::-1][:K]\n",
    "dotTopWord = [glove_voc.idx2word[i] for i in dotTop]\n",
    "print(f'CosTop = {cosTopWord}')\n",
    "print(f'DotTop = {dotTopWord}')"
   ]
  },
  {
   "cell_type": "code",
   "execution_count": null,
   "metadata": {},
   "outputs": [],
   "source": []
  }
 ],
 "metadata": {
  "kernelspec": {
   "display_name": "Python 3.10.7 ('torchEnv': venv)",
   "language": "python",
   "name": "python3"
  },
  "language_info": {
   "codemirror_mode": {
    "name": "ipython",
    "version": 3
   },
   "file_extension": ".py",
   "mimetype": "text/x-python",
   "name": "python",
   "nbconvert_exporter": "python",
   "pygments_lexer": "ipython3",
   "version": "3.10.7"
  },
  "orig_nbformat": 4,
  "vscode": {
   "interpreter": {
    "hash": "856971fa0a169429db2bf0c06b69517a5be6dea1d062d3d5bb82efdd1c5fddc9"
   }
  }
 },
 "nbformat": 4,
 "nbformat_minor": 2
}
