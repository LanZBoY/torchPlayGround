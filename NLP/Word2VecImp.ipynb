{
 "cells": [
  {
   "cell_type": "code",
   "execution_count": 1,
   "metadata": {},
   "outputs": [
    {
     "name": "stderr",
     "output_type": "stream",
     "text": [
      "c:\\Users\\Wen2Tee5\\Desktop\\Postgraduate\\torchPlayGround\\torchEnv\\lib\\site-packages\\tqdm\\auto.py:22: TqdmWarning: IProgress not found. Please update jupyter and ipywidgets. See https://ipywidgets.readthedocs.io/en/stable/user_install.html\n",
      "  from .autonotebook import tqdm as notebook_tqdm\n"
     ]
    }
   ],
   "source": [
    "import torch"
   ]
  },
  {
   "cell_type": "code",
   "execution_count": 2,
   "metadata": {},
   "outputs": [],
   "source": [
    "corpus = [\n",
    "    \"\"\"\n",
    "    When forty winters shall besiege thy brow,\n",
    "    And dig deep trenches in thy beauty's field,\n",
    "    Thy youth's proud livery so gazed on now,\n",
    "    Will be a totter'd weed of small worth held:\n",
    "    Then being asked, where all thy beauty lies,\n",
    "    Where all the treasure of thy lusty days;\n",
    "    To say, within thine own deep sunken eyes,\n",
    "    Were an all-eating shame, and thriftless praise.\n",
    "    How much more praise deserv'd thy beauty's use,\n",
    "    If thou couldst answer 'This fair child of mine\n",
    "    Shall sum my count, and make my old excuse,'\n",
    "    Proving his beauty by succession thine!\n",
    "    This were to be new made when thou art old,\n",
    "    And see thy blood warm when thou feel'st it cold.\n",
    "    \"\"\",\n",
    "]"
   ]
  },
  {
   "cell_type": "code",
   "execution_count": 3,
   "metadata": {},
   "outputs": [],
   "source": [
    "def tokenize_corpus(corpus):\n",
    "    tokens = [x.split() for x in corpus]\n",
    "    return tokens"
   ]
  },
  {
   "cell_type": "code",
   "execution_count": 4,
   "metadata": {},
   "outputs": [],
   "source": [
    "sentences = tokenize_corpus(corpus=corpus)"
   ]
  },
  {
   "cell_type": "code",
   "execution_count": 5,
   "metadata": {},
   "outputs": [
    {
     "name": "stdout",
     "output_type": "stream",
     "text": [
      "[['When', 'forty', 'winters', 'shall', 'besiege', 'thy', 'brow,', 'And', 'dig', 'deep', 'trenches', 'in', 'thy', \"beauty's\", 'field,', 'Thy', \"youth's\", 'proud', 'livery', 'so', 'gazed', 'on', 'now,', 'Will', 'be', 'a', \"totter'd\", 'weed', 'of', 'small', 'worth', 'held:', 'Then', 'being', 'asked,', 'where', 'all', 'thy', 'beauty', 'lies,', 'Where', 'all', 'the', 'treasure', 'of', 'thy', 'lusty', 'days;', 'To', 'say,', 'within', 'thine', 'own', 'deep', 'sunken', 'eyes,', 'Were', 'an', 'all-eating', 'shame,', 'and', 'thriftless', 'praise.', 'How', 'much', 'more', 'praise', \"deserv'd\", 'thy', \"beauty's\", 'use,', 'If', 'thou', 'couldst', 'answer', \"'This\", 'fair', 'child', 'of', 'mine', 'Shall', 'sum', 'my', 'count,', 'and', 'make', 'my', 'old', \"excuse,'\", 'Proving', 'his', 'beauty', 'by', 'succession', 'thine!', 'This', 'were', 'to', 'be', 'new', 'made', 'when', 'thou', 'art', 'old,', 'And', 'see', 'thy', 'blood', 'warm', 'when', 'thou', \"feel'st\", 'it', 'cold.']]\n"
     ]
    }
   ],
   "source": [
    "print(sentences)"
   ]
  },
  {
   "cell_type": "code",
   "execution_count": 6,
   "metadata": {},
   "outputs": [],
   "source": [
    "voc = []"
   ]
  },
  {
   "cell_type": "code",
   "execution_count": 7,
   "metadata": {},
   "outputs": [],
   "source": [
    "for sentence in sentences:\n",
    "     for word in sentence:\n",
    "        if word not in voc:\n",
    "            voc.append(word)"
   ]
  },
  {
   "cell_type": "code",
   "execution_count": 8,
   "metadata": {},
   "outputs": [
    {
     "name": "stdout",
     "output_type": "stream",
     "text": [
      "['When', 'forty', 'winters', 'shall', 'besiege', 'thy', 'brow,', 'And', 'dig', 'deep', 'trenches', 'in', \"beauty's\", 'field,', 'Thy', \"youth's\", 'proud', 'livery', 'so', 'gazed', 'on', 'now,', 'Will', 'be', 'a', \"totter'd\", 'weed', 'of', 'small', 'worth', 'held:', 'Then', 'being', 'asked,', 'where', 'all', 'beauty', 'lies,', 'Where', 'the', 'treasure', 'lusty', 'days;', 'To', 'say,', 'within', 'thine', 'own', 'sunken', 'eyes,', 'Were', 'an', 'all-eating', 'shame,', 'and', 'thriftless', 'praise.', 'How', 'much', 'more', 'praise', \"deserv'd\", 'use,', 'If', 'thou', 'couldst', 'answer', \"'This\", 'fair', 'child', 'mine', 'Shall', 'sum', 'my', 'count,', 'make', 'old', \"excuse,'\", 'Proving', 'his', 'by', 'succession', 'thine!', 'This', 'were', 'to', 'new', 'made', 'when', 'art', 'old,', 'see', 'blood', 'warm', \"feel'st\", 'it', 'cold.']\n"
     ]
    }
   ],
   "source": [
    "print(voc)"
   ]
  },
  {
   "cell_type": "code",
   "execution_count": 9,
   "metadata": {},
   "outputs": [],
   "source": [
    "word2idx = {w:idx for (idx, w) in enumerate(voc)}\n",
    "inx2word = {idx:w for (idx, w) in enumerate(voc)}"
   ]
  },
  {
   "cell_type": "code",
   "execution_count": 10,
   "metadata": {},
   "outputs": [],
   "source": [
    "# N-gram\n",
    "CONTEXT_SIZE = 2\n",
    "idx_pair = []\n",
    "for sentence in sentences:\n",
    "    for i in range(CONTEXT_SIZE, len(sentence)):\n",
    "        context = [sentence[i - j - 1] for j in range(CONTEXT_SIZE)]\n",
    "        target = sentence[i]\n",
    "        idx_pair.append((context, target))"
   ]
  },
  {
   "cell_type": "code",
   "execution_count": 11,
   "metadata": {},
   "outputs": [
    {
     "data": {
      "text/plain": [
       "(['forty', 'When'], 'winters')"
      ]
     },
     "execution_count": 11,
     "metadata": {},
     "output_type": "execute_result"
    }
   ],
   "source": [
    "idx_pair[0]"
   ]
  },
  {
   "cell_type": "code",
   "execution_count": 12,
   "metadata": {},
   "outputs": [],
   "source": [
    "class embedding(torch.nn.Module):\n",
    "\n",
    "    def __init__(self, vocab_size, embedding_dim) -> None:\n",
    "        super(embedding, self).__init__()\n",
    "        self.tableW = torch.nn.Parameter(torch.randn((vocab_size, embedding_dim), requires_grad=True))\n",
    "        self.embedding_dim = embedding_dim\n",
    "\n",
    "    def forward(self, idx):\n",
    "        return self.tableW[idx]\n",
    "\n",
    "\n",
    "\n",
    "class NGramLanguageModeler(torch.nn.Module):\n",
    "\n",
    "    def __init__(self, vocab_size, embedding_dim, context_size) -> None:\n",
    "        super(NGramLanguageModeler, self).__init__()\n",
    "        self.embeddings = embedding(vocab_size, embedding_dim)\n",
    "        self.linear1 = torch.nn.Linear(context_size * embedding_dim, 128)\n",
    "        self.linear2 = torch.nn.Linear(128, vocab_size)\n",
    "\n",
    "    def forward(self, x):\n",
    "        x = self.embeddings(x).view((1, -1)) # 這邊的想法是concat兩個tensor的向量後透過線性轉換預測下一個字\n",
    "        x = torch.nn.functional.relu(self.linear1(x))\n",
    "        x = self.linear2(x)\n",
    "        x = torch.nn.functional.log_softmax(x, dim=1)\n",
    "        return x"
   ]
  },
  {
   "cell_type": "code",
   "execution_count": 13,
   "metadata": {},
   "outputs": [],
   "source": [
    "losses = []\n",
    "epochs = []\n",
    "loss_function = torch.nn.NLLLoss()\n",
    "model = NGramLanguageModeler(len(voc), 30, CONTEXT_SIZE)\n",
    "optimizer = torch.optim.SGD(model.parameters(), lr=0.001)"
   ]
  },
  {
   "cell_type": "code",
   "execution_count": 14,
   "metadata": {},
   "outputs": [
    {
     "data": {
      "text/plain": [
       "tensor([[-0.2700,  0.5972, -0.6108,  0.9323,  0.8896,  0.2719,  0.7058, -0.6046,\n",
       "         -0.7859, -1.2425,  0.3054, -0.4626, -0.0135, -0.3036, -0.4620,  0.9767,\n",
       "          0.3491, -1.3907, -0.1372, -0.5808, -0.8461, -0.5134, -1.3109, -0.1277,\n",
       "          0.9833,  0.9380, -2.8932,  1.1367, -0.6187,  0.8592],\n",
       "        [ 1.7708,  0.8274, -0.0667,  0.5108,  0.7075,  0.6657,  0.0721,  1.0638,\n",
       "         -0.4197, -1.6243, -0.7683, -1.8323, -1.8865, -0.7758, -0.2182, -1.6932,\n",
       "         -0.4548,  0.6792,  0.2086, -0.3762, -0.3662, -1.8642, -0.4929, -0.0629,\n",
       "          0.8191,  1.0715, -0.0226,  1.2215, -0.4643,  0.9207],\n",
       "        [-1.1051,  1.8928,  3.6464, -1.0805,  0.4527,  0.9018, -0.3676, -0.0115,\n",
       "          0.3983,  0.1063, -0.3685,  0.6237,  0.4366, -2.3076, -0.3626, -0.2700,\n",
       "          0.1446,  1.0993, -0.7414,  1.8486,  0.2921,  2.1642,  1.6148,  0.0735,\n",
       "         -0.2000,  1.0803,  0.4040,  2.0073, -1.2858,  0.1872]],\n",
       "       grad_fn=<IndexBackward0>)"
      ]
     },
     "execution_count": 14,
     "metadata": {},
     "output_type": "execute_result"
    }
   ],
   "source": [
    "model.embeddings(torch.tensor(data=[1,2,3]))"
   ]
  },
  {
   "cell_type": "code",
   "execution_count": 15,
   "metadata": {},
   "outputs": [
    {
     "data": {
      "text/plain": [
       "113"
      ]
     },
     "execution_count": 15,
     "metadata": {},
     "output_type": "execute_result"
    }
   ],
   "source": [
    "len(idx_pair)"
   ]
  },
  {
   "cell_type": "code",
   "execution_count": 16,
   "metadata": {},
   "outputs": [],
   "source": [
    "for epoch in range(20):\n",
    "    for context, target in idx_pair:\n",
    "        context_idxs = torch.tensor([word2idx[w] for w in context], dtype=torch.long)\n",
    "        model.zero_grad()\n",
    "        log_probs = model(context_idxs)\n",
    "        loss = loss_function(log_probs, torch.tensor([word2idx[target]], dtype=torch.long))\n",
    "        loss.backward()\n",
    "        optimizer.step()\n",
    "        losses.append(loss.item()) \n",
    "    "
   ]
  },
  {
   "cell_type": "code",
   "execution_count": 17,
   "metadata": {},
   "outputs": [],
   "source": [
    "import matplotlib.pyplot as plt"
   ]
  },
  {
   "cell_type": "code",
   "execution_count": 18,
   "metadata": {},
   "outputs": [
    {
     "data": {
      "image/png": "[encoded data removed]",
      "text/plain": [
       "<Figure size 640x480 with 1 Axes>"
      ]
     },
     "metadata": {},
     "output_type": "display_data"
    }
   ],
   "source": [
    "plt.plot(losses)\n",
    "plt.show()"
   ]
  },
  {
   "cell_type": "code",
   "execution_count": null,
   "metadata": {},
   "outputs": [],
   "source": []
  }
 ],
 "metadata": {
  "kernelspec": {
   "display_name": "Python 3.10.7 ('torchEnv': venv)",
   "language": "python",
   "name": "python3"
  },
  "language_info": {
   "codemirror_mode": {
    "name": "ipython",
    "version": 3
   },
   "file_extension": ".py",
   "mimetype": "text/x-python",
   "name": "python",
   "nbconvert_exporter": "python",
   "pygments_lexer": "ipython3",
   "version": "3.10.7"
  },
  "orig_nbformat": 4,
  "vscode": {
   "interpreter": {
    "hash": "856971fa0a169429db2bf0c06b69517a5be6dea1d062d3d5bb82efdd1c5fddc9"
   }
  }
 },
 "nbformat": 4,
 "nbformat_minor": 2
}
