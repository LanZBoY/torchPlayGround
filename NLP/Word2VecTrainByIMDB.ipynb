{
 "cells": [
  {
   "cell_type": "code",
   "execution_count": 2,
   "metadata": {},
   "outputs": [
    {
     "name": "stderr",
     "output_type": "stream",
     "text": [
      "c:\\Users\\Wen2Tee5\\Desktop\\Postgraduate\\torchPlayGround\\torchEnv\\lib\\site-packages\\tqdm\\auto.py:22: TqdmWarning: IProgress not found. Please update jupyter and ipywidgets. See https://ipywidgets.readthedocs.io/en/stable/user_install.html\n",
      "  from .autonotebook import tqdm as notebook_tqdm\n"
     ]
    }
   ],
   "source": [
    "import torch\n",
    "import pickle\n",
    "from torch.utils.data import Dataset, DataLoader"
   ]
  },
  {
   "cell_type": "code",
   "execution_count": 2,
   "metadata": {},
   "outputs": [],
   "source": [
    "DEVICE = 'cuda' if torch.cuda.is_available() else \"cpu\"\n",
    "BATCH_SIZE = 512\n",
    "EMBEDDING_SIZE = 300"
   ]
  },
  {
   "cell_type": "code",
   "execution_count": 3,
   "metadata": {},
   "outputs": [
    {
     "name": "stdout",
     "output_type": "stream",
     "text": [
      "Current Device is cuda\n"
     ]
    }
   ],
   "source": [
    "print(f'Current Device is {DEVICE}')"
   ]
  },
  {
   "cell_type": "code",
   "execution_count": 4,
   "metadata": {},
   "outputs": [],
   "source": [
    "import os\n",
    "\n",
    "class IMDBDataset(Dataset):\n",
    "    def __init__(self, root = '../basic_dataset/IMDB', voc_file = 'voc.data', idx_pair = 'XY_list.data', DEVICE = 'cpu') -> None:\n",
    "        super(IMDBDataset, self).__init__()\n",
    "        with open('../basic_dataset/IMDB/voc.data', 'rb') as f:\n",
    "            self.voc = pickle.load(f)\n",
    "            self.word2idx = {word : i for i, word in enumerate(self.voc)}\n",
    "            self.idx2word = {i : word for i, word in enumerate(self.voc)}\n",
    "        with open('../basic_dataset/IMDB/XY_list.data', 'rb') as f:\n",
    "            self.idx_pair = pickle.load(f)\n",
    "    def __len__(self):\n",
    "        return len(self.idx_pair)\n",
    "    def __getitem__(self, index):\n",
    "        idx_x, idx_y = self.idx_pair[index]\n",
    "        x = torch.zeros(size=(len(self.voc),))\n",
    "        y = torch.zeros(size=(len(self.voc),))\n",
    "        x[idx_x] = 1.\n",
    "        y[idx_y] = 1.\n",
    "        return x.to(DEVICE),y.to(DEVICE)"
   ]
  },
  {
   "cell_type": "code",
   "execution_count": 5,
   "metadata": {},
   "outputs": [],
   "source": [
    "class Word2Vec(torch.nn.Module):\n",
    "    def __init__(self, voc_size, embedding_dim) -> None:\n",
    "        super(Word2Vec, self).__init__()\n",
    "        # Encoder\n",
    "        self.w1 = torch.nn.Parameter(torch.randn(size=(embedding_dim, voc_size), requires_grad = True))\n",
    "        self.b1 = torch.nn.Parameter(torch.randn(size = (embedding_dim,), requires_grad= True))\n",
    "        \n",
    "        # Decoder\n",
    "        self.w2 = torch.nn.Parameter(torch.randn(size=(voc_size ,embedding_dim ), requires_grad = True))\n",
    "        self.b2 = torch.nn.Parameter(torch.randn(size=(voc_size,), requires_grad = True))\n",
    "    def forward(self, x):\n",
    "        x = x @ self.w1.T + self.b1\n",
    "        x = x @ self.w2.T + self.b2\n",
    "        return x"
   ]
  },
  {
   "cell_type": "code",
   "execution_count": 6,
   "metadata": {},
   "outputs": [],
   "source": [
    "imdbDataset = IMDBDataset(DEVICE = DEVICE)"
   ]
  },
  {
   "cell_type": "code",
   "execution_count": 7,
   "metadata": {},
   "outputs": [],
   "source": [
    "imdbDataloader = DataLoader(imdbDataset, batch_size=BATCH_SIZE)"
   ]
  },
  {
   "cell_type": "code",
   "execution_count": 8,
   "metadata": {},
   "outputs": [],
   "source": [
    "word2vec = Word2Vec(voc_size=len(imdbDataloader.dataset.voc), embedding_dim=EMBEDDING_SIZE).to(DEVICE)\n",
    "loss_fn = torch.nn.CrossEntropyLoss()\n",
    "optimizer = torch.optim.Adam(word2vec.parameters(), lr=1e-3)"
   ]
  },
  {
   "cell_type": "code",
   "execution_count": 9,
   "metadata": {},
   "outputs": [
    {
     "name": "stdout",
     "output_type": "stream",
     "text": [
      "Current loss 116.90101623535156\n",
      "Current loss 21.411209106445312\n",
      "Current loss 19.832914352416992\n",
      "Current loss 11.248250007629395\n",
      "Current loss 12.667123794555664\n",
      "Current loss 8.951885223388672\n",
      "Current loss 10.29633903503418\n",
      "Current loss 8.24020004272461\n",
      "Current loss 9.217126846313477\n",
      "Current loss 7.952296257019043\n"
     ]
    }
   ],
   "source": [
    "for epoch in range(5):\n",
    "    for batch, (x, y) in enumerate(imdbDataloader):\n",
    "        optimizer.zero_grad()\n",
    "        pred = word2vec(x)\n",
    "        loss = loss_fn(pred, y)\n",
    "        loss.backward()\n",
    "        optimizer.step()\n",
    "        if (BATCH_SIZE * batch) % (BATCH_SIZE * 10000) == 0:\n",
    "            print(f'Current loss {loss.item()}')"
   ]
  },
  {
   "cell_type": "code",
   "execution_count": 1,
   "metadata": {},
   "outputs": [
    {
     "ename": "NameError",
     "evalue": "name 'torch' is not defined",
     "output_type": "error",
     "traceback": [
      "\u001b[1;31m---------------------------------------------------------------------------\u001b[0m",
      "\u001b[1;31mNameError\u001b[0m                                 Traceback (most recent call last)",
      "Cell \u001b[1;32mIn [1], line 1\u001b[0m\n\u001b[1;32m----> 1\u001b[0m torch\u001b[38;5;241m.\u001b[39msave(word2vec, \u001b[38;5;124m'\u001b[39m\u001b[38;5;124m../trained_models/word2vec.pth\u001b[39m\u001b[38;5;124m'\u001b[39m)\n",
      "\u001b[1;31mNameError\u001b[0m: name 'torch' is not defined"
     ]
    }
   ],
   "source": [
    "torch.save(word2vec, '../trained_models/word2vec.pth')"
   ]
  },
  {
   "cell_type": "code",
   "execution_count": 11,
   "metadata": {},
   "outputs": [
    {
     "data": {
      "text/plain": [
       "'reviewers'"
      ]
     },
     "execution_count": 11,
     "metadata": {},
     "output_type": "execute_result"
    }
   ],
   "source": [
    "imdbDataset.idx2word[0]"
   ]
  },
  {
   "cell_type": "code",
   "execution_count": 12,
   "metadata": {},
   "outputs": [],
   "source": [
    "def getWord(word = ''):\n",
    "    x = torch.zeros(len(imdbDataset.voc))\n",
    "    x[imdbDataset.word2idx[word]] = 1.\n",
    "    return x.to(DEVICE)"
   ]
  },
  {
   "cell_type": "code",
   "execution_count": 18,
   "metadata": {},
   "outputs": [
    {
     "data": {
      "text/plain": [
       "tensor([ -0.9231,   1.1283,   3.1197,  ..., -18.2967, -29.3959, -16.3873],\n",
       "       device='cuda:0', grad_fn=<AddBackward0>)"
      ]
     },
     "execution_count": 18,
     "metadata": {},
     "output_type": "execute_result"
    }
   ],
   "source": [
    "word2vec(getWord('function'))"
   ]
  },
  {
   "cell_type": "code",
   "execution_count": null,
   "metadata": {},
   "outputs": [],
   "source": []
  }
 ],
 "metadata": {
  "kernelspec": {
   "display_name": "Python 3.10.7 ('torchEnv': venv)",
   "language": "python",
   "name": "python3"
  },
  "language_info": {
   "codemirror_mode": {
    "name": "ipython",
    "version": 3
   },
   "file_extension": ".py",
   "mimetype": "text/x-python",
   "name": "python",
   "nbconvert_exporter": "python",
   "pygments_lexer": "ipython3",
   "version": "3.10.7"
  },
  "orig_nbformat": 4,
  "vscode": {
   "interpreter": {
    "hash": "856971fa0a169429db2bf0c06b69517a5be6dea1d062d3d5bb82efdd1c5fddc9"
   }
  }
 },
 "nbformat": 4,
 "nbformat_minor": 2
}
