{
 "cells": [
  {
   "cell_type": "code",
   "execution_count": 1,
   "metadata": {},
   "outputs": [
    {
     "name": "stderr",
     "output_type": "stream",
     "text": [
      "c:\\Users\\Wen2Tee5\\Desktop\\Postgraduate\\torchPlayGround\\torchEnv\\lib\\site-packages\\tqdm\\auto.py:22: TqdmWarning: IProgress not found. Please update jupyter and ipywidgets. See https://ipywidgets.readthedocs.io/en/stable/user_install.html\n",
      "  from .autonotebook import tqdm as notebook_tqdm\n"
     ]
    }
   ],
   "source": [
    "import torch\n",
    "import numpy as np\n",
    "import pickle\n",
    "from tqdm import tqdm\n",
    "from torch.utils.data import TensorDataset, DataLoader"
   ]
  },
  {
   "cell_type": "code",
   "execution_count": 2,
   "metadata": {},
   "outputs": [],
   "source": [
    "DEVICE = 'cuda' if torch.cuda.is_available() else 'cpu'\n",
    "EPCOH = 100"
   ]
  },
  {
   "cell_type": "code",
   "execution_count": 3,
   "metadata": {},
   "outputs": [],
   "source": [
    "x_train = np.load('./SLTCDataset/20NGPreprocessed/x_train.npy')\n",
    "y_train = np.load('./SLTCDataset/20NGPreprocessed/y_train.npy')\n",
    "x_test = np.load('./SLTCDataset/20NGPreprocessed/x_test.npy')\n",
    "y_test = np.load('./SLTCDataset/20NGPreprocessed/y_test.npy')\n",
    "with open('./SLTCDataset/20NGPreprocessed/voc.data', 'rb') as f:\n",
    "    voc = pickle.load(f)"
   ]
  },
  {
   "cell_type": "code",
   "execution_count": 4,
   "metadata": {},
   "outputs": [],
   "source": [
    "trainDataset  = TensorDataset(torch.from_numpy(x_train), torch.from_numpy(y_train))\n",
    "testDataset = TensorDataset(torch.from_numpy(x_test), torch.from_numpy(y_test))"
   ]
  },
  {
   "cell_type": "code",
   "execution_count": 5,
   "metadata": {},
   "outputs": [],
   "source": [
    "trainDataLoader = DataLoader(trainDataset, batch_size = 32)\n",
    "testDataLoader = DataLoader(testDataset, batch_size = 32)"
   ]
  },
  {
   "cell_type": "code",
   "execution_count": 6,
   "metadata": {},
   "outputs": [],
   "source": [
    "class WordEmb(torch.nn.Module):\n",
    "\n",
    "    def __init__(self, voc_size, embedding_dim) -> None:\n",
    "        super(WordEmb, self).__init__()\n",
    "        self.embeddinglayer = torch.nn.EmbeddingBag(voc_size, embedding_dim)\n",
    "        self.linear1 = torch.nn.Linear(embedding_dim, 64)\n",
    "        self.linear2 = torch.nn.Linear(64, 20)\n",
    "\n",
    "    def forward(self, x):\n",
    "        x = torch.nn.functional.relu(self.embeddinglayer(x))\n",
    "        x = torch.nn.functional.relu(self.linear1(x))\n",
    "        return self.linear2(x)"
   ]
  },
  {
   "cell_type": "code",
   "execution_count": 7,
   "metadata": {},
   "outputs": [
    {
     "name": "stdout",
     "output_type": "stream",
     "text": [
      "tensor([ 7,  4,  4,  1, 14, 16, 13,  3,  2,  4,  8, 19,  4, 14,  6,  0,  1,  7,\n",
      "        12,  5,  0, 10,  6,  2,  4,  1, 12,  9, 15,  7,  6, 13])\n"
     ]
    }
   ],
   "source": [
    "for x, y in trainDataLoader:\n",
    "    print(y)\n",
    "    break"
   ]
  },
  {
   "cell_type": "code",
   "execution_count": 8,
   "metadata": {},
   "outputs": [
    {
     "name": "stderr",
     "output_type": "stream",
     "text": [
      "100%|██████████| 100/100 [03:12<00:00,  1.93s/it]\n"
     ]
    }
   ],
   "source": [
    "model = WordEmb(len(voc), 200).to(DEVICE)\n",
    "loss_fn = torch.nn.CrossEntropyLoss()\n",
    "opti = torch.optim.Adam(model.parameters(), lr=1e-3)\n",
    "losses = []\n",
    "for epoch in tqdm(range(EPCOH)):\n",
    "    for x, y in trainDataLoader:\n",
    "        opti.zero_grad()\n",
    "        x, y= x.to(DEVICE), y.to(DEVICE)\n",
    "        pred = model(x)\n",
    "        loss = loss_fn(pred, y)\n",
    "        loss.backward()\n",
    "        opti.step()\n",
    "    losses.append(loss.item())\n"
   ]
  },
  {
   "cell_type": "code",
   "execution_count": 9,
   "metadata": {},
   "outputs": [],
   "source": [
    "import matplotlib.pyplot as plt"
   ]
  },
  {
   "cell_type": "code",
   "execution_count": 10,
   "metadata": {},
   "outputs": [
    {
     "data": {
      "image/png": "[encoded data removed]",
      "text/plain": [
       "<Figure size 640x480 with 1 Axes>"
      ]
     },
     "metadata": {},
     "output_type": "display_data"
    }
   ],
   "source": [
    "plt.plot(losses)\n",
    "plt.show()"
   ]
  },
  {
   "cell_type": "code",
   "execution_count": 11,
   "metadata": {},
   "outputs": [
    {
     "name": "stdout",
     "output_type": "stream",
     "text": [
      "Acc is 0.9999116063117981\n",
      "Correct = 11313.0\n",
      "Total 11314\n"
     ]
    }
   ],
   "source": [
    "with torch.no_grad():\n",
    "    correct = 0.\n",
    "    for x,y in trainDataLoader:\n",
    "        x = x.to(DEVICE)\n",
    "        y = y.to(DEVICE)\n",
    "        pred = model(x)\n",
    "        correct += (pred.argmax(1) == y).type(torch.float32).sum()\n",
    "    acc = correct/len(trainDataLoader.dataset)\n",
    "    print(f'Acc is {acc}')\n",
    "    print(f'Correct = {correct}')\n",
    "    print(f'Total {len(trainDataLoader.dataset)}')"
   ]
  },
  {
   "cell_type": "code",
   "execution_count": 12,
   "metadata": {},
   "outputs": [
    {
     "name": "stdout",
     "output_type": "stream",
     "text": [
      "Acc is 0.7412373423576355\n",
      "Correct = 5583.0\n",
      "Total 7532\n"
     ]
    }
   ],
   "source": [
    "with torch.no_grad():\n",
    "    correct = 0.\n",
    "    for x,y in testDataLoader:\n",
    "        x = x.to(DEVICE)\n",
    "        y = y.to(DEVICE)\n",
    "        pred = model(x)\n",
    "        correct += (pred.argmax(1) == y).type(torch.float32).sum()\n",
    "    acc = correct/len(testDataLoader.dataset)\n",
    "    print(f'Acc is {acc}')\n",
    "    print(f'Correct = {correct}')\n",
    "    print(f'Total {len(testDataLoader.dataset)}')"
   ]
  }
 ],
 "metadata": {
  "kernelspec": {
   "display_name": "Python 3.10.7 ('torchEnv': venv)",
   "language": "python",
   "name": "python3"
  },
  "language_info": {
   "codemirror_mode": {
    "name": "ipython",
    "version": 3
   },
   "file_extension": ".py",
   "mimetype": "text/x-python",
   "name": "python",
   "nbconvert_exporter": "python",
   "pygments_lexer": "ipython3",
   "version": "3.10.7"
  },
  "orig_nbformat": 4,
  "vscode": {
   "interpreter": {
    "hash": "856971fa0a169429db2bf0c06b69517a5be6dea1d062d3d5bb82efdd1c5fddc9"
   }
  }
 },
 "nbformat": 4,
 "nbformat_minor": 2
}
