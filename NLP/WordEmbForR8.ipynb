{
 "cells": [
  {
   "cell_type": "code",
   "execution_count": 1,
   "metadata": {},
   "outputs": [
    {
     "name": "stderr",
     "output_type": "stream",
     "text": [
      "c:\\Users\\Wen2Tee5\\Desktop\\Postgraduate\\torchPlayGround\\torchEnv\\lib\\site-packages\\tqdm\\auto.py:22: TqdmWarning: IProgress not found. Please update jupyter and ipywidgets. See https://ipywidgets.readthedocs.io/en/stable/user_install.html\n",
      "  from .autonotebook import tqdm as notebook_tqdm\n"
     ]
    }
   ],
   "source": [
    "import torch\n",
    "import numpy as np\n",
    "from torch.utils.data import DataLoader, TensorDataset\n",
    "import pickle\n",
    "from tqdm import tqdm"
   ]
  },
  {
   "cell_type": "code",
   "execution_count": 2,
   "metadata": {},
   "outputs": [],
   "source": [
    "DEVICE = 'cuda' if torch.cuda.is_available() else 'cpu'\n",
    "EPCOH = 100"
   ]
  },
  {
   "cell_type": "code",
   "execution_count": 3,
   "metadata": {},
   "outputs": [],
   "source": [
    "x_train = np.load('./SLTCDataset/R8/x_train.npy')\n",
    "y_train = np.load('./SLTCDataset/R8/y_train.npy')\n",
    "x_test = np.load('./SLTCDataset/R8/x_test.npy')\n",
    "y_test = np.load('./SLTCDataset/R8/y_test.npy')\n",
    "with open('./SLTCDataset/R8/voc.data', 'rb') as f:\n",
    "    voc = pickle.load(f)"
   ]
  },
  {
   "cell_type": "code",
   "execution_count": 4,
   "metadata": {},
   "outputs": [
    {
     "name": "stdout",
     "output_type": "stream",
     "text": [
      "(5485, 30)\n",
      "(5485,)\n",
      "(2189, 30)\n",
      "(2189,)\n"
     ]
    }
   ],
   "source": [
    "print(x_train.shape)\n",
    "print(y_train.shape)\n",
    "\n",
    "print(x_test.shape)\n",
    "print(y_test.shape)"
   ]
  },
  {
   "cell_type": "code",
   "execution_count": 5,
   "metadata": {},
   "outputs": [],
   "source": [
    "trainDataset = TensorDataset(torch.from_numpy(x_train), torch.from_numpy(y_train))\n",
    "testDataset = TensorDataset(torch.from_numpy(x_test),torch.from_numpy(y_test))\n",
    "\n",
    "trainDataloader = DataLoader(trainDataset, batch_size=32, shuffle=True)\n",
    "testDataloader = DataLoader(testDataset, batch_size=32, shuffle=True)"
   ]
  },
  {
   "cell_type": "code",
   "execution_count": 6,
   "metadata": {},
   "outputs": [],
   "source": [
    "class WordEmb(torch.nn.Module):\n",
    "\n",
    "    def __init__(self, voc_size, embedding_dim) -> None:\n",
    "        super(WordEmb, self).__init__()\n",
    "        self.embeddinglayer = torch.nn.EmbeddingBag(voc_size, embedding_dim)\n",
    "        self.linear1 = torch.nn.Linear(embedding_dim, 64)\n",
    "        self.linear2 = torch.nn.Linear(64, 8)\n",
    "\n",
    "    def forward(self, x):\n",
    "        x = torch.nn.functional.relu(self.embeddinglayer(x))\n",
    "        x = torch.nn.functional.relu(self.linear1(x))\n",
    "        return self.linear2(x)"
   ]
  },
  {
   "cell_type": "code",
   "execution_count": 7,
   "metadata": {},
   "outputs": [
    {
     "name": "stderr",
     "output_type": "stream",
     "text": [
      "100%|██████████| 100/100 [00:30<00:00,  3.30it/s]\n"
     ]
    }
   ],
   "source": [
    "model = WordEmb(len(voc) + 1, 200).to(DEVICE)\n",
    "loss_fn = torch.nn.CrossEntropyLoss()\n",
    "opti = torch.optim.Adam(model.parameters(), lr=1e-3)\n",
    "losses = []\n",
    "for epoch in tqdm(range(EPCOH)):\n",
    "    for x, y in trainDataloader:\n",
    "        opti.zero_grad()\n",
    "        x, y= x.to(DEVICE), y.to(DEVICE)\n",
    "        pred = model(x)\n",
    "        loss = loss_fn(pred, y)\n",
    "        loss.backward()\n",
    "        opti.step()\n",
    "    losses.append(loss.item())"
   ]
  },
  {
   "cell_type": "code",
   "execution_count": 8,
   "metadata": {},
   "outputs": [
    {
     "data": {
      "image/png": "[encoded data removed]",
      "text/plain": [
       "<Figure size 640x480 with 1 Axes>"
      ]
     },
     "metadata": {},
     "output_type": "display_data"
    }
   ],
   "source": [
    "import matplotlib.pyplot as plt\n",
    "plt.plot(losses)\n",
    "plt.show()"
   ]
  },
  {
   "cell_type": "code",
   "execution_count": 9,
   "metadata": {},
   "outputs": [
    {
     "name": "stdout",
     "output_type": "stream",
     "text": [
      "Acc is 0.9990884065628052\n",
      "Correct = 5480.0\n",
      "Total 5485\n"
     ]
    }
   ],
   "source": [
    "with torch.no_grad():\n",
    "    correct = 0.\n",
    "    for x,y in trainDataloader:\n",
    "        x = x.to(DEVICE)\n",
    "        y = y.to(DEVICE)\n",
    "        pred = model(x)\n",
    "        correct += (pred.argmax(1) == y).type(torch.float32).sum()\n",
    "    acc = correct/len(trainDataloader.dataset)\n",
    "    print(f'Acc is {acc}')\n",
    "    print(f'Correct = {correct}')\n",
    "    print(f'Total {len(trainDataloader.dataset)}')"
   ]
  },
  {
   "cell_type": "code",
   "execution_count": 10,
   "metadata": {},
   "outputs": [
    {
     "name": "stdout",
     "output_type": "stream",
     "text": [
      "Acc is 0.9575148820877075\n",
      "Correct = 2096.0\n",
      "Total 2189\n"
     ]
    }
   ],
   "source": [
    "with torch.no_grad():\n",
    "    correct = 0.\n",
    "    for x,y in testDataloader:\n",
    "        x = x.to(DEVICE)\n",
    "        y = y.to(DEVICE)\n",
    "        pred = model(x)\n",
    "        correct += (pred.argmax(1) == y).type(torch.float32).sum()\n",
    "    acc = correct/len(testDataloader.dataset)\n",
    "    print(f'Acc is {acc}')\n",
    "    print(f'Correct = {correct}')\n",
    "    print(f'Total {len(testDataloader.dataset)}')"
   ]
  }
 ],
 "metadata": {
  "kernelspec": {
   "display_name": "Python 3.10.7 ('torchEnv': venv)",
   "language": "python",
   "name": "python3"
  },
  "language_info": {
   "codemirror_mode": {
    "name": "ipython",
    "version": 3
   },
   "file_extension": ".py",
   "mimetype": "text/x-python",
   "name": "python",
   "nbconvert_exporter": "python",
   "pygments_lexer": "ipython3",
   "version": "3.10.7"
  },
  "orig_nbformat": 4,
  "vscode": {
   "interpreter": {
    "hash": "856971fa0a169429db2bf0c06b69517a5be6dea1d062d3d5bb82efdd1c5fddc9"
   }
  }
 },
 "nbformat": 4,
 "nbformat_minor": 2
}
