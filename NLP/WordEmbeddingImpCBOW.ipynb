{
 "cells": [
  {
   "cell_type": "code",
   "execution_count": 1,
   "metadata": {},
   "outputs": [
    {
     "name": "stderr",
     "output_type": "stream",
     "text": [
      "c:\\Users\\Wen2Tee5\\Desktop\\Postgraduate\\torchPlayGround\\torchEnv\\lib\\site-packages\\tqdm\\auto.py:22: TqdmWarning: IProgress not found. Please update jupyter and ipywidgets. See https://ipywidgets.readthedocs.io/en/stable/user_install.html\n",
      "  from .autonotebook import tqdm as notebook_tqdm\n"
     ]
    }
   ],
   "source": [
    "import torch"
   ]
  },
  {
   "cell_type": "code",
   "execution_count": 2,
   "metadata": {},
   "outputs": [],
   "source": [
    "CONTEXT_SIZE = 2  # 2 words to the left, 2 to the right\n",
    "raw_text = \"\"\"We are about to study the idea of a computational process.\n",
    "Computational processes are abstract beings that inhabit computers.\n",
    "As they evolve, processes manipulate other abstract things called data.\n",
    "The evolution of a process is directed by a pattern of rules\n",
    "called a program. People create programs to direct processes. In effect,\n",
    "we conjure the spirits of the computer with our spells.\"\"\".split()"
   ]
  },
  {
   "cell_type": "code",
   "execution_count": 3,
   "metadata": {},
   "outputs": [],
   "source": [
    "data = []\n",
    "for i in range(CONTEXT_SIZE, len(raw_text) - CONTEXT_SIZE):\n",
    "    context = [raw_text[i - j - 1] for j in range(CONTEXT_SIZE)] + [raw_text[i + j + 1] for j in range(CONTEXT_SIZE)]\n",
    "    target = raw_text[i]\n",
    "    data.append((context, target))"
   ]
  },
  {
   "cell_type": "code",
   "execution_count": 4,
   "metadata": {},
   "outputs": [],
   "source": [
    "vocab = set(raw_text)\n",
    "vocab_size = len(vocab)\n",
    "word_to_idx = {word:i for i, word in enumerate(vocab)}"
   ]
  },
  {
   "cell_type": "code",
   "execution_count": 5,
   "metadata": {},
   "outputs": [
    {
     "data": {
      "text/plain": [
       "{'of': 0,\n",
       " 'effect,': 1,\n",
       " 'data.': 2,\n",
       " 'are': 3,\n",
       " 'directed': 4,\n",
       " 'called': 5,\n",
       " 'to': 6,\n",
       " 'program.': 7,\n",
       " 'computer': 8,\n",
       " 'computational': 9,\n",
       " 'inhabit': 10,\n",
       " 'is': 11,\n",
       " 'manipulate': 12,\n",
       " 'As': 13,\n",
       " 'In': 14,\n",
       " 'evolution': 15,\n",
       " 'the': 16,\n",
       " 'rules': 17,\n",
       " 'direct': 18,\n",
       " 'we': 19,\n",
       " 'conjure': 20,\n",
       " 'with': 21,\n",
       " 'The': 22,\n",
       " 'spirits': 23,\n",
       " 'People': 24,\n",
       " 'create': 25,\n",
       " 'spells.': 26,\n",
       " 'computers.': 27,\n",
       " 'other': 28,\n",
       " 'about': 29,\n",
       " 'beings': 30,\n",
       " 'idea': 31,\n",
       " 'things': 32,\n",
       " 'by': 33,\n",
       " 'they': 34,\n",
       " 'a': 35,\n",
       " 'We': 36,\n",
       " 'abstract': 37,\n",
       " 'process': 38,\n",
       " 'study': 39,\n",
       " 'process.': 40,\n",
       " 'Computational': 41,\n",
       " 'that': 42,\n",
       " 'evolve,': 43,\n",
       " 'pattern': 44,\n",
       " 'programs': 45,\n",
       " 'our': 46,\n",
       " 'processes': 47,\n",
       " 'processes.': 48}"
      ]
     },
     "execution_count": 5,
     "metadata": {},
     "output_type": "execute_result"
    }
   ],
   "source": [
    "word_to_idx"
   ]
  },
  {
   "cell_type": "code",
   "execution_count": 6,
   "metadata": {},
   "outputs": [],
   "source": [
    "class CBOW(torch.nn.Module):\n",
    "\n",
    "    def __init__(self, vocab_size, embedding_size, context_size) -> None:\n",
    "        super(CBOW, self).__init__()\n",
    "        self.embeddinglayer = torch.nn.Embedding(vocab_size, embedding_size)\n",
    "        self.linear1 = torch.nn.Linear(2 * context_size * embedding_size, 128)\n",
    "        self.linaer2 = torch.nn.Linear(128, vocab_size)\n",
    "\n",
    "    def forward(self, x):\n",
    "        x = self.embeddinglayer(x).view(1, -1)\n",
    "        x = self.linear1(torch.nn.functional.relu(x))\n",
    "        x = self.linaer2(x)\n",
    "        out = torch.nn.functional.log_softmax(x, dim=1)\n",
    "        return out"
   ]
  },
  {
   "cell_type": "code",
   "execution_count": 7,
   "metadata": {},
   "outputs": [],
   "source": [
    "cbow = CBOW(vocab_size=vocab_size, embedding_size=16, context_size=CONTEXT_SIZE)"
   ]
  },
  {
   "cell_type": "code",
   "execution_count": 8,
   "metadata": {},
   "outputs": [],
   "source": [
    "losses = []\n",
    "\n",
    "loss_fn = torch.nn.NLLLoss()\n",
    "opt = torch.optim.SGD(cbow.parameters(), lr=1e-3)"
   ]
  },
  {
   "cell_type": "code",
   "execution_count": 9,
   "metadata": {},
   "outputs": [],
   "source": [
    "for epoch in range(20):\n",
    "    for x,y in data:\n",
    "        cbow.zero_grad()\n",
    "        x_tensor = torch.tensor([word_to_idx[i] for i in x], dtype=torch.long)\n",
    "        pred = cbow(x_tensor)\n",
    "        loss = loss_fn(pred, torch.tensor([word_to_idx[target]], dtype=torch.long))\n",
    "        loss.backward()\n",
    "        opt.step()\n",
    "        losses.append(loss.item())"
   ]
  },
  {
   "cell_type": "code",
   "execution_count": 10,
   "metadata": {},
   "outputs": [],
   "source": [
    "import matplotlib.pyplot as plt"
   ]
  },
  {
   "cell_type": "code",
   "execution_count": 11,
   "metadata": {},
   "outputs": [
    {
     "data": {
      "image/png": "[encoded data removed]",
      "text/plain": [
       "<Figure size 640x480 with 1 Axes>"
      ]
     },
     "metadata": {},
     "output_type": "display_data"
    }
   ],
   "source": [
    "plt.plot(losses)\n",
    "plt.show()"
   ]
  }
 ],
 "metadata": {
  "kernelspec": {
   "display_name": "Python 3.10.7 ('torchEnv': venv)",
   "language": "python",
   "name": "python3"
  },
  "language_info": {
   "codemirror_mode": {
    "name": "ipython",
    "version": 3
   },
   "file_extension": ".py",
   "mimetype": "text/x-python",
   "name": "python",
   "nbconvert_exporter": "python",
   "pygments_lexer": "ipython3",
   "version": "3.10.7"
  },
  "orig_nbformat": 4,
  "vscode": {
   "interpreter": {
    "hash": "856971fa0a169429db2bf0c06b69517a5be6dea1d062d3d5bb82efdd1c5fddc9"
   }
  }
 },
 "nbformat": 4,
 "nbformat_minor": 2
}
