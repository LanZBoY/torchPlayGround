{
 "cells": [
  {
   "cell_type": "code",
   "execution_count": 1,
   "metadata": {},
   "outputs": [
    {
     "name": "stderr",
     "output_type": "stream",
     "text": [
      "c:\\Users\\Wen2Tee5\\Desktop\\Postgraduate\\torchPlayGround\\torchEnv\\lib\\site-packages\\tqdm\\auto.py:22: TqdmWarning: IProgress not found. Please update jupyter and ipywidgets. See https://ipywidgets.readthedocs.io/en/stable/user_install.html\n",
      "  from .autonotebook import tqdm as notebook_tqdm\n"
     ]
    }
   ],
   "source": [
    "import torch as th\n",
    "import pandas as pd\n",
    "import re\n",
    "import string\n",
    "from tqdm import tqdm\n",
    "import matplotlib.pyplot as plt\n",
    "from NLPUtils.preprocessUtils import removeWord"
   ]
  },
  {
   "cell_type": "code",
   "execution_count": 2,
   "metadata": {},
   "outputs": [],
   "source": [
    "from typing import Iterable\n",
    "from torch.utils.data import Dataset, DataLoader\n",
    "\n",
    "class IMDBDatasetForTextClassifiation(Dataset):\n",
    "\n",
    "    def __init__(self,file = None, removeWordFile = None, MAX_LEN = 30, train = True) -> None:\n",
    "        super(IMDBDatasetForTextClassifiation, self).__init__()\n",
    "        self.UNKTOKEN = '<unk>'\n",
    "        self.maxlen = MAX_LEN\n",
    "        if train:\n",
    "            self.df = pd.read_csv(file, encoding='utf-8')[:40000]\n",
    "            self.voc = set()\n",
    "            self.voc.add(self.UNKTOKEN)\n",
    "            with open(removeWordFile, 'r', encoding='utf-8') as f:\n",
    "                self.removeWordList = [removeWord.replace('\\n', '') for removeWord in f.readlines()]\n",
    "            print(f'Constructing Vocabulary...')\n",
    "            for sentence in tqdm(self.df['review']):\n",
    "                self.voc.update(self.removeWord(removeWordList=self.removeWordList, sentence=self.preprocess(sentence)))\n",
    "            print(f'Constructing Word2Index Table...')\n",
    "            self.word2idx = {word : idx for idx, word in enumerate(self.voc)}\n",
    "            self.idx2word = {idx : word for idx, word in enumerate(self.voc)}\n",
    "            print('DONE!')\n",
    "        else:\n",
    "            self.df = pd.read_csv(file, encoding='utf-8')[40000:]\n",
    "\n",
    "    def __len__(self):\n",
    "        return len(self.df)\n",
    "\n",
    "    def __getitem__(self, index) -> th.Tensor:\n",
    "        preprocessed_data = self.removeWord(removeWordList=self.removeWordList, sentence = self.preprocess(self.df['review'][index]))[:self.maxlen]\n",
    "        while len(preprocessed_data) < self.maxlen:\n",
    "            preprocessed_data.append(self.idx2word[self.word2idx[self.UNKTOKEN]])\n",
    "        x = th.tensor([self.word2idx[word] for word in preprocessed_data], dtype=th.long)\n",
    "        y = th.tensor([1.,0.], dtype=th.float32) if self.df['sentiment'][index] == 'positive' else th.tensor([0., 1.], dtype=th.float32)\n",
    "        return x, y\n",
    "\n",
    "    def preprocess(self, sentence):\n",
    "        return str.translate(sentence, str.maketrans('','', string.punctuation)).lower().split()\n",
    "\n",
    "    def removeWord(self, removeWordList: list, sentence : Iterable):\n",
    "        for removeWord in removeWordList:\n",
    "            sentence = list(filter(removeWord.__ne__,sentence))\n",
    "        return sentence"
   ]
  },
  {
   "cell_type": "code",
   "execution_count": 3,
   "metadata": {},
   "outputs": [],
   "source": [
    "csvFilePath = '../basic_dataset/IMDB/IMDB Dataset.csv'\n",
    "stopWordFile = './NLPUtils/english.txt'\n",
    "BATCH_SIZE = 32\n",
    "DEVICE = 'cuda' if th.cuda.is_available() else 'cpu'"
   ]
  },
  {
   "cell_type": "code",
   "execution_count": 4,
   "metadata": {},
   "outputs": [
    {
     "name": "stdout",
     "output_type": "stream",
     "text": [
      "Using cuda\n"
     ]
    }
   ],
   "source": [
    "print(f'Using {DEVICE}')"
   ]
  },
  {
   "cell_type": "code",
   "execution_count": 5,
   "metadata": {},
   "outputs": [
    {
     "name": "stdout",
     "output_type": "stream",
     "text": [
      "Constructing Vocabulary...\n"
     ]
    },
    {
     "name": "stderr",
     "output_type": "stream",
     "text": [
      "100%|██████████| 40000/40000 [02:34<00:00, 258.66it/s]"
     ]
    },
    {
     "name": "stdout",
     "output_type": "stream",
     "text": [
      "Constructing Word2Index Table...\n",
      "DONE!\n"
     ]
    },
    {
     "name": "stderr",
     "output_type": "stream",
     "text": [
      "\n"
     ]
    }
   ],
   "source": [
    "trainDataset = IMDBDatasetForTextClassifiation(csvFilePath, removeWordFile=stopWordFile, train=True)\n",
    "trainDataloader = DataLoader(trainDataset, batch_size=BATCH_SIZE)"
   ]
  },
  {
   "cell_type": "code",
   "execution_count": 6,
   "metadata": {},
   "outputs": [],
   "source": [
    "\n",
    "from torch.nn import Module\n",
    "class TextClassificationModel(Module):\n",
    "\n",
    "    def __init__(self, voc_size, max_len) -> None:\n",
    "        super(TextClassificationModel, self).__init__()\n",
    "        self.max_len = max_len\n",
    "        self.embeddingLayer = th.nn.EmbeddingBag(voc_size, 200)\n",
    "        self.linear1 = th.nn.Linear(200 * max_len , 64)\n",
    "        self.linear2 = th.nn.Linear(64, 2)\n",
    "    \n",
    "    def forward(self, x):\n",
    "        x = self.embeddingLayer(x)\n",
    "        x = self.linear1(x)\n",
    "        x = self.linear2(x)\n",
    "        return x\n"
   ]
  },
  {
   "cell_type": "code",
   "execution_count": 7,
   "metadata": {},
   "outputs": [],
   "source": [
    "model = TextClassificationModel(len(trainDataset.voc), max_len=trainDataset.maxlen).to(DEVICE)\n",
    "loss_fn = th.nn.CrossEntropyLoss()\n",
    "opti = th.optim.Adam(model.parameters(), lr=1e-3)"
   ]
  },
  {
   "cell_type": "code",
   "execution_count": 8,
   "metadata": {},
   "outputs": [
    {
     "name": "stderr",
     "output_type": "stream",
     "text": [
      "100%|██████████| 1250/1250 [02:49<00:00,  7.39it/s]\n",
      "100%|██████████| 1250/1250 [02:47<00:00,  7.48it/s]\n",
      "100%|██████████| 1250/1250 [02:47<00:00,  7.46it/s]\n",
      "100%|██████████| 1250/1250 [02:47<00:00,  7.47it/s]\n",
      "100%|██████████| 1250/1250 [02:47<00:00,  7.46it/s]\n",
      "100%|██████████| 1250/1250 [02:48<00:00,  7.42it/s]\n",
      "100%|██████████| 1250/1250 [02:47<00:00,  7.46it/s]\n",
      "100%|██████████| 1250/1250 [02:48<00:00,  7.42it/s]\n",
      "100%|██████████| 1250/1250 [02:48<00:00,  7.41it/s]\n",
      "100%|██████████| 1250/1250 [02:47<00:00,  7.45it/s]\n",
      "100%|██████████| 1250/1250 [02:47<00:00,  7.45it/s]\n",
      "100%|██████████| 1250/1250 [02:48<00:00,  7.44it/s]\n",
      "100%|██████████| 1250/1250 [02:49<00:00,  7.38it/s]\n",
      "100%|██████████| 1250/1250 [02:49<00:00,  7.37it/s]\n",
      "100%|██████████| 1250/1250 [02:49<00:00,  7.36it/s]\n",
      "100%|██████████| 1250/1250 [02:50<00:00,  7.33it/s]\n",
      "100%|██████████| 1250/1250 [02:50<00:00,  7.32it/s]\n",
      "100%|██████████| 1250/1250 [02:50<00:00,  7.31it/s]\n",
      "100%|██████████| 1250/1250 [02:50<00:00,  7.34it/s]\n",
      "100%|██████████| 1250/1250 [02:52<00:00,  7.26it/s]\n"
     ]
    }
   ],
   "source": [
    "epochs = []\n",
    "losses = []\n",
    "for epoch in range(20):\n",
    "    for x,y in tqdm(trainDataloader):\n",
    "        x = x.to(DEVICE)\n",
    "        y = y.to(DEVICE)\n",
    "        pred = model(x)\n",
    "        loss = loss_fn(pred, y)\n",
    "        loss.backward()\n",
    "        opti.step()\n",
    "        loss_value = loss.item()\n",
    "    epochs.append(epoch+1)\n",
    "    losses.append(loss_value)\n"
   ]
  },
  {
   "cell_type": "code",
   "execution_count": 9,
   "metadata": {},
   "outputs": [
    {
     "data": {
      "image/png": "[encoded data removed]",
      "text/plain": [
       "<Figure size 640x480 with 1 Axes>"
      ]
     },
     "metadata": {},
     "output_type": "display_data"
    }
   ],
   "source": [
    "plt.plot(epochs, losses)\n",
    "plt.show()"
   ]
  },
  {
   "cell_type": "code",
   "execution_count": 10,
   "metadata": {},
   "outputs": [
    {
     "data": {
      "text/plain": [
       "[211.7429656982422,\n",
       " 94.77604675292969,\n",
       " -0.0,\n",
       " 2905.773193359375,\n",
       " -0.0,\n",
       " 4145.228515625,\n",
       " -0.0,\n",
       " -0.0,\n",
       " -0.0,\n",
       " -0.0,\n",
       " -0.0,\n",
       " -0.0,\n",
       " -0.0,\n",
       " -0.0,\n",
       " -0.0,\n",
       " -0.0,\n",
       " -0.0,\n",
       " -0.0,\n",
       " -0.0,\n",
       " 7192.4521484375]"
      ]
     },
     "execution_count": 10,
     "metadata": {},
     "output_type": "execute_result"
    }
   ],
   "source": [
    "losses"
   ]
  },
  {
   "cell_type": "code",
   "execution_count": null,
   "metadata": {},
   "outputs": [],
   "source": []
  }
 ],
 "metadata": {
  "kernelspec": {
   "display_name": "Python 3.10.7 ('torchEnv': venv)",
   "language": "python",
   "name": "python3"
  },
  "language_info": {
   "codemirror_mode": {
    "name": "ipython",
    "version": 3
   },
   "file_extension": ".py",
   "mimetype": "text/x-python",
   "name": "python",
   "nbconvert_exporter": "python",
   "pygments_lexer": "ipython3",
   "version": "3.10.7"
  },
  "orig_nbformat": 4,
  "vscode": {
   "interpreter": {
    "hash": "856971fa0a169429db2bf0c06b69517a5be6dea1d062d3d5bb82efdd1c5fddc9"
   }
  }
 },
 "nbformat": 4,
 "nbformat_minor": 2
}
