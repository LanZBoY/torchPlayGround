{
 "cells": [
  {
   "cell_type": "code",
   "execution_count": 1,
   "metadata": {},
   "outputs": [
    {
     "name": "stderr",
     "output_type": "stream",
     "text": [
      "c:\\Users\\Wen2Tee5\\Desktop\\Postgraduate\\torchPlayGround\\torchEnv\\lib\\site-packages\\tqdm\\auto.py:22: TqdmWarning: IProgress not found. Please update jupyter and ipywidgets. See https://ipywidgets.readthedocs.io/en/stable/user_install.html\n",
      "  from .autonotebook import tqdm as notebook_tqdm\n"
     ]
    }
   ],
   "source": [
    "import torch as th\n",
    "import pandas as pd\n",
    "import re\n",
    "import string\n",
    "from tqdm import tqdm\n",
    "import matplotlib.pyplot as plt\n",
    "from NLPUtils.preprocessUtils import removeWord"
   ]
  },
  {
   "cell_type": "code",
   "execution_count": 2,
   "metadata": {},
   "outputs": [],
   "source": [
    "from typing import Iterable\n",
    "from torch.utils.data import Dataset, DataLoader\n",
    "\n",
    "class IMDBDatasetForTextClassifiation(Dataset):\n",
    "\n",
    "    def __init__(self,file = None, removeWordFile = None, MAX_LEN = 30, train = True, train_voc = None) -> None:\n",
    "        super(IMDBDatasetForTextClassifiation, self).__init__()\n",
    "        self.UNKTOKEN = '<unk>'\n",
    "        with open(removeWordFile, 'r', encoding='utf-8') as f:\n",
    "                self.removeWordList = [removeWord.replace('\\n', '') for removeWord in f.readlines()]\n",
    "        self.maxlen = MAX_LEN\n",
    "        if train:\n",
    "            self.df = pd.read_csv(file, encoding='utf-8')[:40000]\n",
    "            self.voc = set()\n",
    "            self.voc.add(self.UNKTOKEN)\n",
    "            print(f'Constructing Vocabulary...')\n",
    "            for sentence in tqdm(self.df['review']):\n",
    "                self.voc.update(self.removeWord(removeWordList=self.removeWordList, sentence=self.preprocess(sentence)))\n",
    "            print(f'Constructing Word2Index Table...')\n",
    "            self.word2idx = {word : idx for idx, word in enumerate(self.voc)}\n",
    "            self.idx2word = {idx : word for idx, word in enumerate(self.voc)}\n",
    "            print('DONE!')\n",
    "        else:\n",
    "            self.df = pd.read_csv(file, encoding='utf-8')[40000:]\n",
    "            self.voc = train_voc\n",
    "            self.word2idx = {word : idx for idx, word in enumerate(self.voc)}\n",
    "            self.idx2word = {idx : word for idx, word in enumerate(self.voc)}\n",
    "        self.df.reset_index(inplace=True)\n",
    "\n",
    "    def __len__(self):\n",
    "        return len(self.df)\n",
    "\n",
    "    def __getitem__(self, index) -> th.Tensor:\n",
    "        preprocessed_data = self.removeWord(removeWordList=self.removeWordList, sentence = self.preprocess(self.df['review'][index]))[:self.maxlen]\n",
    "        while len(preprocessed_data) < self.maxlen:\n",
    "            preprocessed_data.append(self.idx2word[self.word2idx[self.UNKTOKEN]])\n",
    "        x_list = []\n",
    "        for word in preprocessed_data:\n",
    "            if word not in self.voc:\n",
    "                x_list.append(self.word2idx[self.UNKTOKEN])\n",
    "            else:\n",
    "                x_list.append(self.word2idx[word])\n",
    "        x = th.tensor(x_list, dtype=th.long)\n",
    "        y = 0 if self.df['sentiment'][index] == 'positive' else 1\n",
    "        return x, y\n",
    "\n",
    "    def preprocess(self, sentence):\n",
    "        return str.translate(sentence, str.maketrans('','', string.punctuation)).lower().split()\n",
    "\n",
    "    def removeWord(self, removeWordList: list, sentence : Iterable):\n",
    "        for removeWord in removeWordList:\n",
    "            sentence = list(filter(removeWord.__ne__,sentence))\n",
    "        return sentence"
   ]
  },
  {
   "cell_type": "code",
   "execution_count": 3,
   "metadata": {},
   "outputs": [],
   "source": [
    "csvFilePath = '../basic_dataset/IMDB/IMDB Dataset.csv'\n",
    "stopWordFile = './NLPUtils/english.txt'\n",
    "BATCH_SIZE = 32\n",
    "DEVICE = 'cuda' if th.cuda.is_available() else 'cpu'"
   ]
  },
  {
   "cell_type": "code",
   "execution_count": 4,
   "metadata": {},
   "outputs": [
    {
     "name": "stdout",
     "output_type": "stream",
     "text": [
      "Using cuda\n"
     ]
    }
   ],
   "source": [
    "print(f'Using {DEVICE}')"
   ]
  },
  {
   "cell_type": "code",
   "execution_count": 5,
   "metadata": {},
   "outputs": [
    {
     "name": "stdout",
     "output_type": "stream",
     "text": [
      "Constructing Vocabulary...\n"
     ]
    },
    {
     "name": "stderr",
     "output_type": "stream",
     "text": [
      "100%|██████████| 40000/40000 [02:34<00:00, 259.41it/s]"
     ]
    },
    {
     "name": "stdout",
     "output_type": "stream",
     "text": [
      "Constructing Word2Index Table...\n",
      "DONE!\n"
     ]
    },
    {
     "name": "stderr",
     "output_type": "stream",
     "text": [
      "\n"
     ]
    }
   ],
   "source": [
    "trainDataset = IMDBDatasetForTextClassifiation(csvFilePath, removeWordFile=stopWordFile, train=True)\n",
    "trainDataloader = DataLoader(trainDataset, batch_size=BATCH_SIZE)"
   ]
  },
  {
   "cell_type": "code",
   "execution_count": 6,
   "metadata": {},
   "outputs": [],
   "source": [
    "\n",
    "from torch.nn import Module\n",
    "class TextClassificationModel(Module):\n",
    "\n",
    "    def __init__(self, voc_size) -> None:\n",
    "        super(TextClassificationModel, self).__init__()\n",
    "        self.embeddingLayer = th.nn.EmbeddingBag(voc_size, 200)\n",
    "        self.linear1 = th.nn.Linear(200, 64)\n",
    "        self.linear2 = th.nn.Linear(64, 2)\n",
    "        self.initWeight()\n",
    "    \n",
    "    def initWeight(self):\n",
    "        initrange = 1\n",
    "        self.embeddingLayer.weight.data.uniform_(-initrange, initrange)\n",
    "        self.linear1.weight.data.uniform_(-initrange, initrange)\n",
    "        self.linear1.bias.data.zero_()\n",
    "        self.linear2.weight.data.uniform_(-initrange, initrange)\n",
    "        self.linear1.bias.data.zero_()\n",
    "\n",
    "    \n",
    "    def forward(self, x):\n",
    "        x = self.embeddingLayer(x)\n",
    "        x = th.nn.functional.relu(x)\n",
    "        x = self.linear1(x)\n",
    "        x = th.nn.functional.relu(x)\n",
    "        x = self.linear2(x)\n",
    "        return x\n"
   ]
  },
  {
   "cell_type": "markdown",
   "metadata": {},
   "source": [
    "# 永遠記得PyTorch的CrossEntropy跟大家的都不一樣\n",
    "Pytorch CrossEntropy = NLLloss + logSoftmax 所以你的標籤不能是one-hot<br>\n",
    "必須是標籤對應的index 比如正向評論在理論上為[1.,0.]但必需表示成其index也就是0"
   ]
  },
  {
   "cell_type": "code",
   "execution_count": 7,
   "metadata": {},
   "outputs": [],
   "source": [
    "model = TextClassificationModel(len(trainDataset.voc)).to(DEVICE)\n",
    "loss_fn = th.nn.CrossEntropyLoss()\n",
    "opti = th.optim.Adam(model.parameters(), lr=1e-3)"
   ]
  },
  {
   "cell_type": "code",
   "execution_count": 8,
   "metadata": {},
   "outputs": [
    {
     "name": "stderr",
     "output_type": "stream",
     "text": [
      "100%|██████████| 1250/1250 [02:49<00:00,  7.37it/s]\n",
      "100%|██████████| 1250/1250 [02:48<00:00,  7.43it/s]\n",
      "100%|██████████| 1250/1250 [02:50<00:00,  7.35it/s]\n",
      "100%|██████████| 1250/1250 [02:50<00:00,  7.35it/s]\n",
      "100%|██████████| 1250/1250 [02:47<00:00,  7.44it/s]\n"
     ]
    }
   ],
   "source": [
    "losses = []\n",
    "for epoch in range(5):\n",
    "    for x,y in tqdm(trainDataloader):\n",
    "        x = x.to(DEVICE)\n",
    "        y = y.to(DEVICE)\n",
    "        pred = model(x)\n",
    "        loss = loss_fn(pred, y)\n",
    "        loss.backward()\n",
    "        opti.step()\n",
    "        losses.append(loss.item())\n",
    "    \n"
   ]
  },
  {
   "cell_type": "code",
   "execution_count": 9,
   "metadata": {},
   "outputs": [
    {
     "data": {
      "image/png": "[encoded data removed]",
      "text/plain": [
       "<Figure size 640x480 with 1 Axes>"
      ]
     },
     "metadata": {},
     "output_type": "display_data"
    }
   ],
   "source": [
    "plt.plot(losses)\n",
    "plt.show()"
   ]
  },
  {
   "cell_type": "code",
   "execution_count": 10,
   "metadata": {},
   "outputs": [],
   "source": [
    "testDataset = IMDBDatasetForTextClassifiation(csvFilePath, removeWordFile=stopWordFile, train=False, train_voc=trainDataset.voc)\n",
    "testDataloader = DataLoader(testDataset, batch_size=BATCH_SIZE)"
   ]
  },
  {
   "cell_type": "code",
   "execution_count": 11,
   "metadata": {},
   "outputs": [
    {
     "name": "stdout",
     "output_type": "stream",
     "text": [
      "Acc is 0.5263999700546265\n"
     ]
    }
   ],
   "source": [
    "with th.no_grad():\n",
    "    correct = 0.\n",
    "    for x,y in testDataloader:\n",
    "        x = x.to(DEVICE)\n",
    "        y = y.to(DEVICE)\n",
    "        pred = model(x)\n",
    "        correct += (pred.argmax(1) == y).type(th.float32).sum()\n",
    "    acc = correct/len(testDataloader.dataset)\n",
    "    print(f'Acc is {acc}')"
   ]
  },
  {
   "cell_type": "code",
   "execution_count": 12,
   "metadata": {},
   "outputs": [
    {
     "name": "stdout",
     "output_type": "stream",
     "text": [
      "Correct = 5264.0\n",
      "Total 10000\n"
     ]
    }
   ],
   "source": [
    "print(f'Correct = {correct}')\n",
    "print(f'Total {len(testDataloader.dataset)}')"
   ]
  },
  {
   "cell_type": "code",
   "execution_count": 13,
   "metadata": {},
   "outputs": [
    {
     "data": {
      "text/plain": [
       "[0.5846467614173889,\n",
       " 0.6889219880104065,\n",
       " 0.5969439744949341,\n",
       " 0.6785949468612671,\n",
       " 0.7816752195358276,\n",
       " 0.644582211971283,\n",
       " 0.7381143569946289,\n",
       " 0.7846167087554932,\n",
       " 0.7375857830047607,\n",
       " 0.5961421728134155]"
      ]
     },
     "execution_count": 13,
     "metadata": {},
     "output_type": "execute_result"
    }
   ],
   "source": [
    "losses[-10:]"
   ]
  },
  {
   "cell_type": "code",
   "execution_count": null,
   "metadata": {},
   "outputs": [],
   "source": []
  }
 ],
 "metadata": {
  "kernelspec": {
   "display_name": "Python 3.10.7 ('torchEnv': venv)",
   "language": "python",
   "name": "python3"
  },
  "language_info": {
   "codemirror_mode": {
    "name": "ipython",
    "version": 3
   },
   "file_extension": ".py",
   "mimetype": "text/x-python",
   "name": "python",
   "nbconvert_exporter": "python",
   "pygments_lexer": "ipython3",
   "version": "3.10.7"
  },
  "orig_nbformat": 4,
  "vscode": {
   "interpreter": {
    "hash": "856971fa0a169429db2bf0c06b69517a5be6dea1d062d3d5bb82efdd1c5fddc9"
   }
  }
 },
 "nbformat": 4,
 "nbformat_minor": 2
}
