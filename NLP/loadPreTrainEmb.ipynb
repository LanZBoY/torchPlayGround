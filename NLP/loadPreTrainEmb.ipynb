{
 "cells": [
  {
   "cell_type": "code",
   "execution_count": 1,
   "metadata": {},
   "outputs": [],
   "source": [
    "import numpy as np\n",
    "from tqdm import tqdm\n",
    "import pickle"
   ]
  },
  {
   "cell_type": "code",
   "execution_count": 2,
   "metadata": {},
   "outputs": [],
   "source": [
    "glove_path = './NLPUtils/pretrain/glove.6B/glove.6B.300d.txt'\n",
    "with open(glove_path, 'r', encoding='utf-8') as f:\n",
    "    full_content = f.read().strip().split('\\n')"
   ]
  },
  {
   "cell_type": "code",
   "execution_count": 3,
   "metadata": {},
   "outputs": [],
   "source": [
    "Word2Embdding = {}"
   ]
  },
  {
   "cell_type": "code",
   "execution_count": 6,
   "metadata": {},
   "outputs": [
    {
     "name": "stderr",
     "output_type": "stream",
     "text": [
      "Comvert to Embedding Matrix...: 100%|██████████| 400000/400000 [00:20<00:00, 19233.06it/s]\n"
     ]
    }
   ],
   "source": [
    "for content in tqdm(full_content, \"Comvert to Embedding Matrix...\"):\n",
    "    word, embed = content.split(sep = ' ')[0], content.split(sep = ' ')[1:]\n",
    "    embed = np.array(embed, dtype=np.float32)\n",
    "    Word2Embdding[word] = embed"
   ]
  },
  {
   "cell_type": "code",
   "execution_count": 5,
   "metadata": {},
   "outputs": [],
   "source": [
    "with open('./NLPUtils/pretrain/glove.6B/glove.6B.300d.data', 'wb') as f:\n",
    "    pickle.dump(Word2Embdding, f)"
   ]
  }
 ],
 "metadata": {
  "kernelspec": {
   "display_name": "Python 3.10.7 ('torchEnv': venv)",
   "language": "python",
   "name": "python3"
  },
  "language_info": {
   "codemirror_mode": {
    "name": "ipython",
    "version": 3
   },
   "file_extension": ".py",
   "mimetype": "text/x-python",
   "name": "python",
   "nbconvert_exporter": "python",
   "pygments_lexer": "ipython3",
   "version": "3.10.7"
  },
  "orig_nbformat": 4,
  "vscode": {
   "interpreter": {
    "hash": "856971fa0a169429db2bf0c06b69517a5be6dea1d062d3d5bb82efdd1c5fddc9"
   }
  }
 },
 "nbformat": 4,
 "nbformat_minor": 2
}
