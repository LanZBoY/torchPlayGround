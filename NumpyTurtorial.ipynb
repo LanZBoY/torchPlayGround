{
 "cells": [
  {
   "cell_type": "code",
   "execution_count": 35,
   "metadata": {},
   "outputs": [],
   "source": [
    "import numpy as np"
   ]
  },
  {
   "cell_type": "code",
   "execution_count": 36,
   "metadata": {},
   "outputs": [],
   "source": [
    "sample = np.random.randint(0, 5, size = (5, 5))"
   ]
  },
  {
   "cell_type": "code",
   "execution_count": 37,
   "metadata": {},
   "outputs": [
    {
     "data": {
      "text/plain": [
       "array([[2, 0, 0, 2, 1],\n",
       "       [2, 0, 3, 1, 3],\n",
       "       [1, 0, 4, 2, 4],\n",
       "       [1, 3, 1, 3, 2],\n",
       "       [2, 0, 4, 3, 1]])"
      ]
     },
     "execution_count": 37,
     "metadata": {},
     "output_type": "execute_result"
    }
   ],
   "source": [
    "sample"
   ]
  },
  {
   "cell_type": "code",
   "execution_count": 38,
   "metadata": {},
   "outputs": [
    {
     "name": "stdout",
     "output_type": "stream",
     "text": [
      "[ True  True  True False  True]\n",
      "[ True  True  True  True  True]\n",
      "4\n"
     ]
    }
   ],
   "source": [
    "print((sample==0).sum(axis = 1) != 0) # 0 在window中的出現次數\n",
    "print((sample==1).sum(axis = 1) != 0) # 1 在window中的出現次數\n",
    "print((((sample==0).sum(axis = 1) != 0) & ((sample==1).sum(axis = 1) != 0)).sum()) # 0跟1 在window中共同出現的次數"
   ]
  }
 ],
 "metadata": {
  "kernelspec": {
   "display_name": "Python 3.10.7 ('torchEnv': venv)",
   "language": "python",
   "name": "python3"
  },
  "language_info": {
   "codemirror_mode": {
    "name": "ipython",
    "version": 3
   },
   "file_extension": ".py",
   "mimetype": "text/x-python",
   "name": "python",
   "nbconvert_exporter": "python",
   "pygments_lexer": "ipython3",
   "version": "3.10.7"
  },
  "orig_nbformat": 4,
  "vscode": {
   "interpreter": {
    "hash": "856971fa0a169429db2bf0c06b69517a5be6dea1d062d3d5bb82efdd1c5fddc9"
   }
  }
 },
 "nbformat": 4,
 "nbformat_minor": 2
}
