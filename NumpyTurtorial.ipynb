{
 "cells": [
  {
   "cell_type": "code",
   "execution_count": 268,
   "metadata": {},
   "outputs": [],
   "source": [
    "import numpy as np"
   ]
  },
  {
   "cell_type": "markdown",
   "metadata": {},
   "source": [
    "# PPMI 計算方式"
   ]
  },
  {
   "cell_type": "code",
   "execution_count": 269,
   "metadata": {},
   "outputs": [
    {
     "name": "stdout",
     "output_type": "stream",
     "text": [
      "[[4 5 0 9 2]\n",
      " [6 2 6 3 2]\n",
      " [6 9 2 4 1]\n",
      " [5 6 0 0 6]\n",
      " [1 6 3 9 1]]\n"
     ]
    }
   ],
   "source": [
    "sample = np.random.randint(0, 10, size = (5, 5))\n",
    "print(sample)"
   ]
  },
  {
   "cell_type": "code",
   "execution_count": 270,
   "metadata": {},
   "outputs": [
    {
     "name": "stdout",
     "output_type": "stream",
     "text": [
      "[ True False False  True False]\n",
      "[False False  True False  True]\n",
      "[False False False False False]\n"
     ]
    }
   ],
   "source": [
    "print((sample==0).sum(axis = 1) != 0) # 0 在window中的出現\n",
    "print((sample==1).sum(axis = 1) != 0) # 1 在window中的出現次數\n",
    "print((((sample==0).sum(axis = 1) != 0) & ((sample==1).sum(axis = 1) != 0))) # 0跟1 在window中共同出現"
   ]
  },
  {
   "cell_type": "code",
   "execution_count": 271,
   "metadata": {},
   "outputs": [],
   "source": [
    "# PPMI 公式\n",
    "numDoc = len(sample)\n",
    "p0 = ((sample==0).sum(axis = 1) != 0).sum().astype(np.float32) /  numDoc\n",
    "p1 = ((sample==1).sum(axis = 1) != 0).sum().astype(np.float32) /  numDoc\n",
    "p01 = (((sample==0).sum(axis = 1) != 0) & ((sample==1).sum(axis = 1) != 0)).sum() / numDoc"
   ]
  },
  {
   "cell_type": "code",
   "execution_count": 272,
   "metadata": {},
   "outputs": [
    {
     "name": "stdout",
     "output_type": "stream",
     "text": [
      "p0 = 0.4\n",
      "p1 = 0.4\n",
      "p01 = 0.0\n",
      "PPMI = 0.0\n"
     ]
    }
   ],
   "source": [
    "print(f'p0 = {p0}')\n",
    "print(f'p1 = {p1}')\n",
    "print(f'p01 = {p01}')\n",
    "print(f'PPMI = {np.log(np.exp(p01 / p0 * p1))}')"
   ]
  }
 ],
 "metadata": {
  "kernelspec": {
   "display_name": "Python 3.10.7 ('torchEnv': venv)",
   "language": "python",
   "name": "python3"
  },
  "language_info": {
   "codemirror_mode": {
    "name": "ipython",
    "version": 3
   },
   "file_extension": ".py",
   "mimetype": "text/x-python",
   "name": "python",
   "nbconvert_exporter": "python",
   "pygments_lexer": "ipython3",
   "version": "3.10.7"
  },
  "orig_nbformat": 4,
  "vscode": {
   "interpreter": {
    "hash": "856971fa0a169429db2bf0c06b69517a5be6dea1d062d3d5bb82efdd1c5fddc9"
   }
  }
 },
 "nbformat": 4,
 "nbformat_minor": 2
}
