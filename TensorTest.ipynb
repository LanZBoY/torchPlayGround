{
 "cells": [
  {
   "cell_type": "code",
   "execution_count": 1,
   "metadata": {},
   "outputs": [
    {
     "name": "stderr",
     "output_type": "stream",
     "text": [
      "c:\\Users\\Wen2Tee5\\Desktop\\Postgraduate\\torchPlayGround\\torchEnv\\lib\\site-packages\\tqdm\\auto.py:22: TqdmWarning: IProgress not found. Please update jupyter and ipywidgets. See https://ipywidgets.readthedocs.io/en/stable/user_install.html\n",
      "  from .autonotebook import tqdm as notebook_tqdm\n"
     ]
    }
   ],
   "source": [
    "import torch"
   ]
  },
  {
   "cell_type": "code",
   "execution_count": 2,
   "metadata": {},
   "outputs": [],
   "source": [
    "data = torch.randn(size=(2,3,4), dtype=torch.float32)"
   ]
  },
  {
   "cell_type": "code",
   "execution_count": 4,
   "metadata": {},
   "outputs": [
    {
     "name": "stdout",
     "output_type": "stream",
     "text": [
      "tensor([[[ 1.3041, -1.4468,  1.5431,  2.3896],\n",
      "         [ 0.0697, -0.6828, -0.6796, -0.2833],\n",
      "         [-1.0599, -2.3791, -1.0157, -0.7794]],\n",
      "\n",
      "        [[-0.2726,  0.9455, -0.8711,  1.0805],\n",
      "         [ 1.0938, -0.2665,  0.1050, -1.0835],\n",
      "         [ 0.4180, -0.8421, -1.1483, -2.2453]]])\n",
      "torch.Size([2, 3, 4])\n"
     ]
    }
   ],
   "source": [
    "print(data)\n",
    "print(data.shape)"
   ]
  },
  {
   "cell_type": "code",
   "execution_count": 7,
   "metadata": {},
   "outputs": [],
   "source": [
    "perdata = data.permute(0,2,1)"
   ]
  },
  {
   "cell_type": "code",
   "execution_count": 8,
   "metadata": {},
   "outputs": [
    {
     "name": "stdout",
     "output_type": "stream",
     "text": [
      "tensor([[[ 1.3041,  0.0697, -1.0599],\n",
      "         [-1.4468, -0.6828, -2.3791],\n",
      "         [ 1.5431, -0.6796, -1.0157],\n",
      "         [ 2.3896, -0.2833, -0.7794]],\n",
      "\n",
      "        [[-0.2726,  1.0938,  0.4180],\n",
      "         [ 0.9455, -0.2665, -0.8421],\n",
      "         [-0.8711,  0.1050, -1.1483],\n",
      "         [ 1.0805, -1.0835, -2.2453]]])\n",
      "torch.Size([2, 4, 3])\n"
     ]
    }
   ],
   "source": [
    "print(perdata)\n",
    "print(perdata.shape)"
   ]
  },
  {
   "cell_type": "code",
   "execution_count": 9,
   "metadata": {},
   "outputs": [
    {
     "data": {
      "text/plain": [
       "tensor([[[ 1.3041, -1.4468,  1.5431,  2.3896],\n",
       "         [ 0.0697, -0.6828, -0.6796, -0.2833],\n",
       "         [-1.0599, -2.3791, -1.0157, -0.7794]],\n",
       "\n",
       "        [[-0.2726,  0.9455, -0.8711,  1.0805],\n",
       "         [ 1.0938, -0.2665,  0.1050, -1.0835],\n",
       "         [ 0.4180, -0.8421, -1.1483, -2.2453]]])"
      ]
     },
     "execution_count": 9,
     "metadata": {},
     "output_type": "execute_result"
    }
   ],
   "source": [
    "perdata.permute(0,2,1)"
   ]
  },
  {
   "cell_type": "code",
   "execution_count": null,
   "metadata": {},
   "outputs": [],
   "source": []
  }
 ],
 "metadata": {
  "kernelspec": {
   "display_name": "Python 3.10.7 ('torchEnv': venv)",
   "language": "python",
   "name": "python3"
  },
  "language_info": {
   "codemirror_mode": {
    "name": "ipython",
    "version": 3
   },
   "file_extension": ".py",
   "mimetype": "text/x-python",
   "name": "python",
   "nbconvert_exporter": "python",
   "pygments_lexer": "ipython3",
   "version": "3.10.7"
  },
  "orig_nbformat": 4,
  "vscode": {
   "interpreter": {
    "hash": "856971fa0a169429db2bf0c06b69517a5be6dea1d062d3d5bb82efdd1c5fddc9"
   }
  }
 },
 "nbformat": 4,
 "nbformat_minor": 2
}
