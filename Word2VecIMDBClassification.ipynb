{
 "cells": [
  {
   "cell_type": "code",
   "execution_count": 22,
   "metadata": {},
   "outputs": [],
   "source": [
    "import torch\n",
    "import pandas as pd\n",
    "import string\n",
    "from torch.utils.data import Dataset, DataLoader\n",
    "import pickle\n",
    "import numpy as np"
   ]
  },
  {
   "cell_type": "code",
   "execution_count": 23,
   "metadata": {},
   "outputs": [],
   "source": [
    "class Word2Vec(torch.nn.Module):\n",
    "    def __init__(self, voc_size, embedding_dim) -> None:\n",
    "        super(Word2Vec, self).__init__()\n",
    "        # Encoder\n",
    "        self.w1 = torch.nn.Parameter(torch.randn(size=(embedding_dim, voc_size), requires_grad = True))\n",
    "        self.b1 = torch.nn.Parameter(torch.randn(size = (embedding_dim,), requires_grad= True))\n",
    "        \n",
    "        # Decoder\n",
    "        self.w2 = torch.nn.Parameter(torch.randn(size=(voc_size ,embedding_dim ), requires_grad = True))\n",
    "        self.b2 = torch.nn.Parameter(torch.randn(size=(voc_size,), requires_grad = True))\n",
    "    def forward(self, x):\n",
    "        x = x @ self.w1.T + self.b1\n",
    "        x = x @ self.w2.T + self.b2\n",
    "        return x"
   ]
  },
  {
   "cell_type": "code",
   "execution_count": 24,
   "metadata": {},
   "outputs": [],
   "source": [
    "class IMDBDatasetSLTC(Dataset):\n",
    "\n",
    "    def __init__(self,file_path, voc_path, train = True) -> None:\n",
    "        super(IMDBDatasetSLTC, self).__init__()\n",
    "        with open('./NLPUtils/english.txt', 'r', encoding='utf-8') as f:\n",
    "            self.stop_words = [stop_word.replace('\\n', '') for stop_word in f.readlines()]\n",
    "        self.df = pd.read_csv(file_path, encoding='utf-8')\n",
    "        with open(voc_path, 'rb') as f:\n",
    "            self.voc = pickle.load(f)\n",
    "            self.word2idx = {word:idx for idx, word in enumerate(self.voc)}\n",
    "            self.idx2word = {idx:word for idx, word in enumerate(self.voc)}\n",
    "\n",
    "    def __getitem__(self, index):\n",
    "        x_sentence = self.df['review'][index].translate(str.maketrans('', '', string.punctuation)).lower()\n",
    "        x_tokens = self.tokenize(x_sentence)\n",
    "        for stop_word in self.stop_words:\n",
    "            x_tokens = list(filter(stop_word.__ne__, x_tokens))\n",
    "        x_idx = [self.word2idx[word] for word in x_tokens]\n",
    "        # x_idx尚未轉成one-hot\n",
    "        pass\n",
    "\n",
    "    def tokenize(self, x_sentence) -> list:\n",
    "        tokens = x_sentence.split()\n",
    "        return tokens\n",
    "\n"
   ]
  },
  {
   "cell_type": "code",
   "execution_count": 28,
   "metadata": {},
   "outputs": [],
   "source": [
    "file_path = './basic_dataset/IMDB/IMDB Dataset.csv'\n",
    "voc_path = './basic_dataset/IMDB/voc.data'\n",
    "imdbDataset = IMDBDatasetSLTC(file_path=file_path, voc_path = voc_path)"
   ]
  },
  {
   "cell_type": "code",
   "execution_count": 27,
   "metadata": {},
   "outputs": [],
   "source": [
    "# word2vec = torch.load('./trained_models/word2vec.pth')"
   ]
  }
 ],
 "metadata": {
  "kernelspec": {
   "display_name": "Python 3.10.7 ('torchEnv': venv)",
   "language": "python",
   "name": "python3"
  },
  "language_info": {
   "codemirror_mode": {
    "name": "ipython",
    "version": 3
   },
   "file_extension": ".py",
   "mimetype": "text/x-python",
   "name": "python",
   "nbconvert_exporter": "python",
   "pygments_lexer": "ipython3",
   "version": "3.10.7"
  },
  "orig_nbformat": 4,
  "vscode": {
   "interpreter": {
    "hash": "856971fa0a169429db2bf0c06b69517a5be6dea1d062d3d5bb82efdd1c5fddc9"
   }
  }
 },
 "nbformat": 4,
 "nbformat_minor": 2
}
