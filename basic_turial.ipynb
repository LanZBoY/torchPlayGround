{
 "cells": [
  {
   "cell_type": "code",
   "execution_count": 1,
   "metadata": {},
   "outputs": [
    {
     "name": "stderr",
     "output_type": "stream",
     "text": [
      "c:\\Users\\Wen2Tee5\\Desktop\\Postgraduate\\torchPlayGround\\pytorch\\lib\\site-packages\\tqdm\\auto.py:22: TqdmWarning: IProgress not found. Please update jupyter and ipywidgets. See https://ipywidgets.readthedocs.io/en/stable/user_install.html\n",
      "  from .autonotebook import tqdm as notebook_tqdm\n"
     ]
    }
   ],
   "source": [
    "import torch\n",
    "from torch import nn\n",
    "from torch.utils.data import DataLoader\n",
    "from torchvision import datasets\n",
    "from torchvision.transforms import ToTensor"
   ]
  },
  {
   "cell_type": "code",
   "execution_count": 2,
   "metadata": {},
   "outputs": [],
   "source": [
    "training_data = datasets.FashionMNIST(\n",
    "    root='basic_dataset',\n",
    "    train=True,\n",
    "    download=True,\n",
    "    transform=ToTensor()    \n",
    ")\n",
    "\n",
    "test_data = datasets.FashionMNIST(\n",
    "    root='basic_dataset',\n",
    "    train=False,\n",
    "    download=True,\n",
    "    transform=ToTensor()\n",
    ")"
   ]
  },
  {
   "cell_type": "code",
   "execution_count": 3,
   "metadata": {},
   "outputs": [
    {
     "name": "stdout",
     "output_type": "stream",
     "text": [
      "Shape of X [N, C, H, W]: torch.Size([64, 1, 28, 28])\n",
      "Shape of y: torch.Size([64]) torch.int64\n"
     ]
    }
   ],
   "source": [
    "batch_size = 64\n",
    "\n",
    "train_dataloader = DataLoader(training_data, batch_size = batch_size)\n",
    "test_dataloader = DataLoader(test_data, batch_size=batch_size)\n",
    "\n",
    "for X,y in train_dataloader:\n",
    "    print(f\"Shape of X [N, C, H, W]: {X.shape}\")\n",
    "    print(f\"Shape of y: {y.shape} {y.dtype}\")\n",
    "    break"
   ]
  },
  {
   "cell_type": "code",
   "execution_count": 2,
   "metadata": {},
   "outputs": [
    {
     "name": "stdout",
     "output_type": "stream",
     "text": [
      "Using cuda device\n",
      "NeuralNetwork(\n",
      "  (flatten): Flatten(start_dim=1, end_dim=-1)\n",
      "  (linear_relu_stack): Sequential(\n",
      "    (0): Linear(in_features=784, out_features=512, bias=True)\n",
      "    (1): ReLU()\n",
      "    (2): Linear(in_features=512, out_features=512, bias=True)\n",
      "    (3): ReLU()\n",
      "    (4): Linear(in_features=512, out_features=10, bias=True)\n",
      "  )\n",
      ")\n"
     ]
    }
   ],
   "source": [
    "# Get cpu or gpu device for training.\n",
    "device = \"cuda\" if torch.cuda.is_available() else \"cpu\"\n",
    "print(f\"Using {device} device\")\n",
    "\n",
    "# Define model\n",
    "class NeuralNetwork(nn.Module):\n",
    "    def __init__(self):\n",
    "        super(NeuralNetwork, self).__init__()\n",
    "        self.flatten = nn.Flatten()\n",
    "        self.linear_relu_stack = nn.Sequential(\n",
    "            nn.Linear(28*28, 512),\n",
    "            nn.ReLU(),\n",
    "            nn.Linear(512, 512),\n",
    "            nn.ReLU(),\n",
    "            nn.Linear(512, 10)\n",
    "        )\n",
    "\n",
    "    def forward(self, x):\n",
    "        x = self.flatten(x)\n",
    "        logits = self.linear_relu_stack(x)\n",
    "        return logits\n",
    "\n",
    "model = NeuralNetwork().to(device)\n",
    "print(model)"
   ]
  },
  {
   "cell_type": "code",
   "execution_count": 4,
   "metadata": {},
   "outputs": [
    {
     "name": "stdout",
     "output_type": "stream",
     "text": [
      "torch.Size([512, 784])\n",
      "torch.Size([512])\n",
      "torch.Size([512, 512])\n",
      "torch.Size([512])\n",
      "torch.Size([10, 512])\n",
      "torch.Size([10])\n"
     ]
    }
   ],
   "source": [
    "for parm in model.parameters():\n",
    "    print(parm.shape)"
   ]
  },
  {
   "cell_type": "code",
   "execution_count": 5,
   "metadata": {},
   "outputs": [],
   "source": [
    "loss_fn = nn.CrossEntropyLoss()\n",
    "optimizer = torch.optim.SGD(model.parameters(), lr=1e-3)"
   ]
  },
  {
   "cell_type": "code",
   "execution_count": 6,
   "metadata": {},
   "outputs": [],
   "source": [
    "def train(dataloader, model, loss_fn, optimizer):\n",
    "    size = len(dataloader.dataset)\n",
    "    model.train()\n",
    "    for batch, (X, y) in enumerate(dataloader):\n",
    "        X, y = X.to(device), y.to(device)\n",
    "\n",
    "        # Compute prediction error\n",
    "        pred = model(X)\n",
    "        loss = loss_fn(pred, y)\n",
    "        # Backpropagation\n",
    "        optimizer.zero_grad()\n",
    "        loss.backward()\n",
    "        optimizer.step()\n",
    "\n",
    "        if batch % 100 == 0:\n",
    "            loss, current = loss.item(), batch * len(X)\n",
    "            print(f\"loss: {loss:>7f}  [{current:>5d}/{size:>5d}]\")"
   ]
  },
  {
   "cell_type": "code",
   "execution_count": 7,
   "metadata": {},
   "outputs": [],
   "source": [
    "def test(dataloader, model, loss_fn):\n",
    "    size = len(dataloader.dataset)\n",
    "    num_batches = len(dataloader)\n",
    "    model.eval()\n",
    "    test_loss, correct = 0, 0\n",
    "    with torch.no_grad():\n",
    "        for X, y in dataloader:\n",
    "            X, y = X.to(device), y.to(device)\n",
    "            pred = model(X)\n",
    "            test_loss += loss_fn(pred, y).item()\n",
    "            correct += (pred.argmax(1) == y).type(torch.float).sum().item()\n",
    "    test_loss /= num_batches\n",
    "    correct /= size\n",
    "    print(f\"Test Error: \\n Accuracy: {(100*correct):>0.1f}%, Avg loss: {test_loss:>8f} \\n\")"
   ]
  },
  {
   "cell_type": "code",
   "execution_count": 8,
   "metadata": {},
   "outputs": [
    {
     "name": "stdout",
     "output_type": "stream",
     "text": [
      "Epoch 1\n",
      "-------------------------------\n",
      "loss: 2.310010  [    0/60000]\n",
      "loss: 2.287439  [ 6400/60000]\n",
      "loss: 2.268723  [12800/60000]\n",
      "loss: 2.263486  [19200/60000]\n",
      "loss: 2.241188  [25600/60000]\n",
      "loss: 2.222999  [32000/60000]\n",
      "loss: 2.223035  [38400/60000]\n",
      "loss: 2.198491  [44800/60000]\n",
      "loss: 2.202001  [51200/60000]\n",
      "loss: 2.158029  [57600/60000]\n",
      "Test Error: \n",
      " Accuracy: 45.9%, Avg loss: 2.153793 \n",
      "\n",
      "Epoch 2\n",
      "-------------------------------\n",
      "loss: 2.173473  [    0/60000]\n",
      "loss: 2.152508  [ 6400/60000]\n",
      "loss: 2.099308  [12800/60000]\n",
      "loss: 2.114728  [19200/60000]\n",
      "loss: 2.056220  [25600/60000]\n",
      "loss: 2.004400  [32000/60000]\n",
      "loss: 2.022804  [38400/60000]\n",
      "loss: 1.950298  [44800/60000]\n",
      "loss: 1.965894  [51200/60000]\n",
      "loss: 1.882085  [57600/60000]\n",
      "Test Error: \n",
      " Accuracy: 54.8%, Avg loss: 1.880633 \n",
      "\n",
      "Epoch 3\n",
      "-------------------------------\n",
      "loss: 1.922205  [    0/60000]\n",
      "loss: 1.882356  [ 6400/60000]\n",
      "loss: 1.770525  [12800/60000]\n",
      "loss: 1.815877  [19200/60000]\n",
      "loss: 1.692975  [25600/60000]\n",
      "loss: 1.648314  [32000/60000]\n",
      "loss: 1.668274  [38400/60000]\n",
      "loss: 1.570377  [44800/60000]\n",
      "loss: 1.608645  [51200/60000]\n",
      "loss: 1.495701  [57600/60000]\n",
      "Test Error: \n",
      " Accuracy: 60.4%, Avg loss: 1.512290 \n",
      "\n",
      "Epoch 4\n",
      "-------------------------------\n",
      "loss: 1.584425  [    0/60000]\n",
      "loss: 1.541255  [ 6400/60000]\n",
      "loss: 1.398918  [12800/60000]\n",
      "loss: 1.476065  [19200/60000]\n",
      "loss: 1.347812  [25600/60000]\n",
      "loss: 1.347233  [32000/60000]\n",
      "loss: 1.361270  [38400/60000]\n",
      "loss: 1.283166  [44800/60000]\n",
      "loss: 1.331118  [51200/60000]\n",
      "loss: 1.228377  [57600/60000]\n",
      "Test Error: \n",
      " Accuracy: 62.9%, Avg loss: 1.249623 \n",
      "\n",
      "Epoch 5\n",
      "-------------------------------\n",
      "loss: 1.331212  [    0/60000]\n",
      "loss: 1.304051  [ 6400/60000]\n",
      "loss: 1.146409  [12800/60000]\n",
      "loss: 1.255302  [19200/60000]\n",
      "loss: 1.125310  [25600/60000]\n",
      "loss: 1.152137  [32000/60000]\n",
      "loss: 1.174120  [38400/60000]\n",
      "loss: 1.106568  [44800/60000]\n",
      "loss: 1.160251  [51200/60000]\n",
      "loss: 1.073111  [57600/60000]\n",
      "Test Error: \n",
      " Accuracy: 64.5%, Avg loss: 1.087533 \n",
      "\n",
      "Done!\n"
     ]
    }
   ],
   "source": [
    "epochs = 5\n",
    "for t in range(epochs):\n",
    "    print(f\"Epoch {t+1}\\n-------------------------------\")\n",
    "    train(train_dataloader, model, loss_fn, optimizer)\n",
    "    test(test_dataloader, model, loss_fn)\n",
    "print(\"Done!\")"
   ]
  },
  {
   "cell_type": "code",
   "execution_count": null,
   "metadata": {},
   "outputs": [],
   "source": []
  }
 ],
 "metadata": {
  "kernelspec": {
   "display_name": "Python 3.10.7 ('pytorch': venv)",
   "language": "python",
   "name": "python3"
  },
  "language_info": {
   "codemirror_mode": {
    "name": "ipython",
    "version": 3
   },
   "file_extension": ".py",
   "mimetype": "text/x-python",
   "name": "python",
   "nbconvert_exporter": "python",
   "pygments_lexer": "ipython3",
   "version": "3.10.7"
  },
  "orig_nbformat": 4,
  "vscode": {
   "interpreter": {
    "hash": "688b5b5a3c39470b3f341fabd993807040f3b3b57631f0b8df6b2b47d9076c02"
   }
  }
 },
 "nbformat": 4,
 "nbformat_minor": 2
}
