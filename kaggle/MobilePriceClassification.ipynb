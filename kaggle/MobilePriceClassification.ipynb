{
 "cells": [
  {
   "cell_type": "code",
   "execution_count": 17,
   "metadata": {},
   "outputs": [],
   "source": [
    "import pandas as pd"
   ]
  },
  {
   "cell_type": "code",
   "execution_count": 18,
   "metadata": {},
   "outputs": [],
   "source": [
    "train_moblie_price_file = './dataset/MobilePriceClassification/train.csv'\n",
    "train_price_data = pd.read_csv(train_moblie_price_file)"
   ]
  },
  {
   "cell_type": "code",
   "execution_count": 19,
   "metadata": {},
   "outputs": [
    {
     "data": {
      "text/plain": [
       "array(['battery_power', 'blue', 'clock_speed', 'dual_sim', 'fc', 'four_g',\n",
       "       'int_memory', 'm_dep', 'mobile_wt', 'n_cores', 'pc', 'px_height',\n",
       "       'px_width', 'ram', 'sc_h', 'sc_w', 'talk_time', 'three_g',\n",
       "       'touch_screen', 'wifi', 'price_range'], dtype=object)"
      ]
     },
     "execution_count": 19,
     "metadata": {},
     "output_type": "execute_result"
    }
   ],
   "source": [
    "train_price_data.columns.values"
   ]
  },
  {
   "cell_type": "code",
   "execution_count": 20,
   "metadata": {},
   "outputs": [],
   "source": [
    "import torch"
   ]
  },
  {
   "cell_type": "code",
   "execution_count": 21,
   "metadata": {},
   "outputs": [],
   "source": [
    "# 取得所有標籤\n",
    "train_y_numpy = train_price_data['price_range'].to_numpy()\n",
    "train_y = torch.from_numpy(train_y_numpy)"
   ]
  },
  {
   "cell_type": "code",
   "execution_count": 22,
   "metadata": {},
   "outputs": [
    {
     "name": "stdout",
     "output_type": "stream",
     "text": [
      "torch.Size([2000])\n"
     ]
    }
   ],
   "source": [
    "print(train_y.shape)"
   ]
  },
  {
   "cell_type": "code",
   "execution_count": 23,
   "metadata": {},
   "outputs": [],
   "source": [
    "'''\n",
    "{'battery_power', 'blue', 'clock_speed', 'dual_sim', 'fc', 'four_g',\n",
    "       'int_memory', 'm_dep', 'mobile_wt', 'n_cores', 'pc', 'px_height',\n",
    "       'px_width', 'ram', 'sc_h', 'sc_w', 'talk_time', 'three_g',\n",
    "       'touch_screen', 'wifi'}\n",
    "'''\n",
    "\n",
    "feature_selected = {'battery_power', 'blue', 'clock_speed', 'dual_sim', 'fc', 'four_g',\n",
    "       'int_memory', 'm_dep', 'mobile_wt', 'n_cores', 'pc', 'px_height',\n",
    "       'px_width', 'ram', 'sc_h', 'sc_w', 'talk_time', 'three_g',\n",
    "       'touch_screen', 'wifi'}"
   ]
  },
  {
   "cell_type": "code",
   "execution_count": 24,
   "metadata": {},
   "outputs": [
    {
     "name": "stderr",
     "output_type": "stream",
     "text": [
      "C:\\Users\\Wen2Tee5\\AppData\\Local\\Temp\\ipykernel_5620\\959956066.py:1: FutureWarning: Passing a set as an indexer is deprecated and will raise in a future version. Use a list instead.\n",
      "  train_x = torch.from_numpy(train_price_data[feature_selected].to_numpy(dtype='float32'))\n"
     ]
    }
   ],
   "source": [
    "train_x = torch.from_numpy(train_price_data[feature_selected].to_numpy(dtype='float32'))"
   ]
  },
  {
   "cell_type": "code",
   "execution_count": 25,
   "metadata": {},
   "outputs": [
    {
     "name": "stdout",
     "output_type": "stream",
     "text": [
      "x shape is torch.Size([2000, 20]), x dtype is torch.float32\n"
     ]
    }
   ],
   "source": [
    "print(f'x shape is {train_x.shape}, x dtype is {train_x.dtype}')"
   ]
  },
  {
   "cell_type": "code",
   "execution_count": 26,
   "metadata": {},
   "outputs": [],
   "source": [
    "import torch\n",
    "from torch import nn\n"
   ]
  },
  {
   "cell_type": "code",
   "execution_count": 27,
   "metadata": {},
   "outputs": [],
   "source": [
    "class FCNN(nn.Module):\n",
    "\n",
    "    def __init__(self) -> None:\n",
    "        super(FCNN, self).__init__()\n",
    "        self.linear1 = nn.Linear(20, 128)\n",
    "        self.linear2 = nn.Linear(128, 64)\n",
    "        self.linear3 = nn.Linear(64, 32)\n",
    "        self.output = nn.Linear(32, 4)\n",
    "        self.relu = nn.ReLU()\n",
    "        self.softmax = nn.Softmax(dim=1)\n",
    "\n",
    "    def forward(self, x):\n",
    "        x = self.linear1(x)     \n",
    "        x = self.relu(x)\n",
    "        x = self.linear2(x)\n",
    "        x = self.relu(x)\n",
    "        x = self.linear3(x)\n",
    "        x = self.relu(x)\n",
    "        x = self.output(x)\n",
    "        return self.softmax(x)"
   ]
  },
  {
   "cell_type": "code",
   "execution_count": 28,
   "metadata": {},
   "outputs": [],
   "source": [
    "device = \"cuda\" if torch.cuda.is_available() else \"cpu\""
   ]
  },
  {
   "cell_type": "code",
   "execution_count": 29,
   "metadata": {},
   "outputs": [],
   "source": [
    "model = FCNN().to(device)"
   ]
  },
  {
   "cell_type": "code",
   "execution_count": 30,
   "metadata": {},
   "outputs": [],
   "source": [
    "loss_fn = nn.CrossEntropyLoss()\n",
    "optimizer = torch.optim.SGD(model.parameters(), lr=1e-3)"
   ]
  },
  {
   "cell_type": "code",
   "execution_count": 31,
   "metadata": {},
   "outputs": [],
   "source": [
    "def train(x, y, model : FCNN, loss_fn, optimizer):\n",
    "\n",
    "    model.train()\n",
    "    x, y = x.to(device),y.to(device)\n",
    "    logits = model(x)\n",
    "    loss = loss_fn(logits, y)\n",
    "\n",
    "    optimizer.zero_grad()\n",
    "    loss.backward()\n",
    "    optimizer.step()\n",
    "    loss = loss.item()\n",
    "    \n",
    "    print(f\"[loss: {loss:>7f}]\")\n",
    "\n",
    "def test(x, y, model : FCNN):\n",
    "    model.eval()\n",
    "    with torch.no_grad():\n",
    "        x = x.to(device)\n",
    "        y = y.to(device)\n",
    "    \n",
    "        pred = model(x)\n",
    "        correct = (pred.argmax(1)==y).sum().item()\n",
    "    print(correct/400)"
   ]
  },
  {
   "cell_type": "code",
   "execution_count": 32,
   "metadata": {},
   "outputs": [
    {
     "name": "stdout",
     "output_type": "stream",
     "text": [
      "[loss: 1.488161]\n",
      "[loss: 1.492741]\n",
      "[loss: 1.492312]\n",
      "[loss: 1.491339]\n",
      "[loss: 1.488472]\n",
      "[loss: 1.477816]\n",
      "[loss: 1.427871]\n",
      "[loss: 1.492137]\n",
      "[loss: 1.393620]\n",
      "[loss: 1.410907]\n",
      "[loss: 1.410050]\n",
      "[loss: 1.430781]\n",
      "[loss: 1.359318]\n",
      "[loss: 1.361179]\n",
      "[loss: 1.370447]\n",
      "[loss: 1.387304]\n",
      "[loss: 1.346779]\n",
      "[loss: 1.345442]\n",
      "[loss: 1.346767]\n",
      "[loss: 1.349670]\n",
      "[loss: 1.347018]\n",
      "[loss: 1.348902]\n",
      "[loss: 1.342809]\n",
      "[loss: 1.346740]\n",
      "[loss: 1.341788]\n",
      "[loss: 1.346511]\n",
      "[loss: 1.339464]\n",
      "[loss: 1.345073]\n",
      "[loss: 1.338840]\n",
      "[loss: 1.344993]\n",
      "[loss: 1.336969]\n",
      "[loss: 1.342380]\n",
      "[loss: 1.338100]\n",
      "[loss: 1.345133]\n",
      "[loss: 1.334756]\n",
      "[loss: 1.336294]\n",
      "[loss: 1.342194]\n",
      "[loss: 1.347520]\n",
      "[loss: 1.334090]\n",
      "[loss: 1.336248]\n",
      "[loss: 1.343517]\n",
      "[loss: 1.333271]\n",
      "[loss: 1.334074]\n",
      "[loss: 1.339094]\n",
      "[loss: 1.347414]\n",
      "[loss: 1.333470]\n",
      "[loss: 1.337743]\n",
      "[loss: 1.346426]\n",
      "[loss: 1.332934]\n",
      "[loss: 1.336670]\n",
      "[loss: 1.345538]\n",
      "[loss: 1.332413]\n",
      "[loss: 1.335582]\n",
      "[loss: 1.344408]\n",
      "[loss: 1.331765]\n",
      "[loss: 1.333896]\n",
      "[loss: 1.341738]\n",
      "[loss: 1.330921]\n",
      "[loss: 1.330771]\n",
      "[loss: 1.330703]\n",
      "[loss: 1.331204]\n",
      "[loss: 1.334235]\n",
      "[loss: 1.344449]\n",
      "[loss: 1.330673]\n",
      "[loss: 1.332714]\n",
      "[loss: 1.341374]\n",
      "[loss: 1.329844]\n",
      "[loss: 1.329805]\n",
      "[loss: 1.330372]\n",
      "[loss: 1.334379]\n",
      "[loss: 1.334669]\n",
      "[loss: 1.347034]\n",
      "[loss: 1.330922]\n",
      "[loss: 1.334231]\n",
      "[loss: 1.346090]\n",
      "[loss: 1.330589]\n",
      "[loss: 1.333601]\n",
      "[loss: 1.344864]\n",
      "[loss: 1.330065]\n",
      "[loss: 1.332750]\n",
      "[loss: 1.343305]\n",
      "[loss: 1.329331]\n",
      "[loss: 1.331367]\n",
      "[loss: 1.340416]\n",
      "[loss: 1.328214]\n",
      "[loss: 1.328104]\n",
      "[loss: 1.328348]\n",
      "[loss: 1.329956]\n",
      "[loss: 1.338238]\n",
      "[loss: 1.328300]\n",
      "[loss: 1.331728]\n",
      "[loss: 1.334502]\n",
      "[loss: 1.349261]\n",
      "[loss: 1.330288]\n",
      "[loss: 1.333467]\n",
      "[loss: 1.346625]\n",
      "[loss: 1.329410]\n",
      "[loss: 1.332510]\n",
      "[loss: 1.344511]\n",
      "[loss: 1.328550]\n"
     ]
    }
   ],
   "source": [
    "for epoch in range(100):\n",
    "    train(x = train_x,y = train_y, model = model, loss_fn= loss_fn, optimizer=optimizer)"
   ]
  },
  {
   "cell_type": "code",
   "execution_count": null,
   "metadata": {},
   "outputs": [],
   "source": []
  }
 ],
 "metadata": {
  "kernelspec": {
   "display_name": "Python 3.10.7 ('pytorch': venv)",
   "language": "python",
   "name": "python3"
  },
  "language_info": {
   "codemirror_mode": {
    "name": "ipython",
    "version": 3
   },
   "file_extension": ".py",
   "mimetype": "text/x-python",
   "name": "python",
   "nbconvert_exporter": "python",
   "pygments_lexer": "ipython3",
   "version": "3.10.7"
  },
  "orig_nbformat": 4,
  "vscode": {
   "interpreter": {
    "hash": "69465f8012bc8209665d9cbe96a44652f48a74cf23ffa7f2a4d4373e52b4e5fb"
   }
  }
 },
 "nbformat": 4,
 "nbformat_minor": 2
}
