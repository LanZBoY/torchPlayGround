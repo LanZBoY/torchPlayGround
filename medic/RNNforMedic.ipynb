{
 "cells": [
  {
   "cell_type": "code",
   "execution_count": 1,
   "metadata": {},
   "outputs": [
    {
     "name": "stderr",
     "output_type": "stream",
     "text": [
      "c:\\Users\\Wen2Tee5\\Desktop\\Postgraduate\\torchPlayGround\\torchEnv\\lib\\site-packages\\tqdm\\auto.py:22: TqdmWarning: IProgress not found. Please update jupyter and ipywidgets. See https://ipywidgets.readthedocs.io/en/stable/user_install.html\n",
      "  from .autonotebook import tqdm as notebook_tqdm\n"
     ]
    }
   ],
   "source": [
    "import torch\n",
    "import numpy as np\n",
    "from torch.utils.data import DataLoader, TensorDataset\n",
    "from tqdm import tqdm\n",
    "import matplotlib.pyplot as plt"
   ]
  },
  {
   "cell_type": "code",
   "execution_count": 2,
   "metadata": {},
   "outputs": [
    {
     "name": "stdout",
     "output_type": "stream",
     "text": [
      "cuda\n"
     ]
    }
   ],
   "source": [
    "DEVICE = 'cuda' if torch.cuda.is_available() else 'cpu'\n",
    "BATCH_SIZE = 32\n",
    "print(DEVICE)"
   ]
  },
  {
   "cell_type": "code",
   "execution_count": 3,
   "metadata": {},
   "outputs": [
    {
     "name": "stdout",
     "output_type": "stream",
     "text": [
      "(3768, 48, 184)\n",
      "(3768,)\n"
     ]
    }
   ],
   "source": [
    "np_x = np.load('./data_feature_all_hour_new.npy').astype(np.float32)\n",
    "np_y = np.load('./data_feature_all_hour_target.npy').astype(np.float32)\n",
    "print(np_x.shape)\n",
    "print(np_y.shape)\n",
    "train_spilt_index = int(np_x.shape[0] * 0.8)\n",
    "train_dataset = TensorDataset(torch.from_numpy(np_x[:train_spilt_index]), torch.from_numpy(np_y[:train_spilt_index].reshape(-1,1)))\n",
    "test_dataset = TensorDataset(torch.from_numpy(np_x[train_spilt_index:]), torch.from_numpy(np_y[train_spilt_index:].reshape(-1,1)))\n",
    "trainLoader = DataLoader(dataset=train_dataset, batch_size = BATCH_SIZE, shuffle = False)\n",
    "testLoader = DataLoader(dataset=test_dataset, batch_size = BATCH_SIZE, shuffle = False)"
   ]
  },
  {
   "cell_type": "code",
   "execution_count": 4,
   "metadata": {},
   "outputs": [],
   "source": [
    "class MedicModel(torch.nn.Module):\n",
    "\n",
    "    def __init__(self) -> None:\n",
    "        super(MedicModel, self).__init__()\n",
    "        self.batch_norm = torch.nn.BatchNorm1d(48)\n",
    "        self.norm1 = torch.nn.LayerNorm(184)\n",
    "        self.norm2 = torch.nn.LayerNorm(256)\n",
    "        self.norm3 = torch.nn.LayerNorm(128)\n",
    "        self.norm4 = torch.nn.LayerNorm(64)\n",
    "        self.lstm_184 = torch.nn.LSTM(184, 256, batch_first = True)\n",
    "        self.lstm_128 = torch.nn.LSTM(256, 128, batch_first = True)\n",
    "        self.lstm_64 = torch.nn.LSTM(128, 64, batch_first = True)\n",
    "        self.attentionLayer = torch.nn.MultiheadAttention(embed_dim=64, num_heads=1, batch_first=True)\n",
    "        self.ffn = torch.nn.Sequential(\n",
    "                torch.nn.Linear(64, 64),\n",
    "                torch.nn.ReLU(),\n",
    "                torch.nn.Linear(64, 64)\n",
    "        )\n",
    "        self.linear_i = torch.nn.Linear(48 * 64, 60)\n",
    "        self.linear_o = torch.nn.Linear(60, 1)\n",
    "\n",
    "    def forward(self,x):\n",
    "        h = self.batch_norm(x)\n",
    "        h = self.norm1(x)\n",
    "        h, (_, _) = self.lstm_184(x)\n",
    "        h = torch.relu(h)\n",
    "        h = self.norm2(h)\n",
    "        h, (_, _) = self.lstm_128(h)\n",
    "        h = torch.relu(h)\n",
    "        h = self.norm3(h)\n",
    "        h, (_, _) = self.lstm_64(h)\n",
    "        h = torch.relu(h)\n",
    "        h = self.norm4(h)\n",
    "        \n",
    "        atten_out, s = self.attentionLayer(h, h, h)\n",
    "        h = torch.relu(h)\n",
    "        h = self.norm4(atten_out + h)\n",
    "        ffn_out = self.ffn(h)\n",
    "        h = torch.relu(h)\n",
    "        h = self.norm4(ffn_out + h)\n",
    "\n",
    "        h = torch.flatten(h, start_dim=1)\n",
    "        h = self.linear_i(h)\n",
    "        h = torch.relu(h)\n",
    "        h = self.linear_o(h)\n",
    "        return h"
   ]
  },
  {
   "cell_type": "code",
   "execution_count": 5,
   "metadata": {},
   "outputs": [],
   "source": [
    "model = MedicModel().to(DEVICE)"
   ]
  },
  {
   "cell_type": "code",
   "execution_count": 6,
   "metadata": {},
   "outputs": [],
   "source": [
    "opti = torch.optim.Adam(model.parameters(), lr = 1e-3)\n",
    "loss_fn = torch.nn.BCEWithLogitsLoss()\n",
    "losses = []"
   ]
  },
  {
   "cell_type": "code",
   "execution_count": 7,
   "metadata": {},
   "outputs": [
    {
     "name": "stderr",
     "output_type": "stream",
     "text": [
      "100%|██████████| 20/20 [00:13<00:00,  1.43it/s]\n"
     ]
    }
   ],
   "source": [
    "for epoch in tqdm(range(20)):\n",
    "    total_loss = 0.\n",
    "    for x, y in trainLoader:\n",
    "        x, y = x.to(DEVICE), y.to(DEVICE)\n",
    "        opti.zero_grad()\n",
    "        pred = model(x)\n",
    "        loss = loss_fn(pred, y)\n",
    "        loss.backward()\n",
    "        opti.step()\n",
    "        total_loss += loss.item()\n",
    "    losses.append(total_loss / (len(trainLoader.dataset)//BATCH_SIZE))\n"
   ]
  },
  {
   "cell_type": "code",
   "execution_count": 8,
   "metadata": {},
   "outputs": [
    {
     "data": {
      "text/plain": [
       "[<matplotlib.lines.Line2D at 0x27de31a8f70>]"
      ]
     },
     "execution_count": 8,
     "metadata": {},
     "output_type": "execute_result"
    },
    {
     "data": {
      "image/png": "[encoded data removed]",
      "text/plain": [
       "<Figure size 640x480 with 1 Axes>"
      ]
     },
     "metadata": {},
     "output_type": "display_data"
    }
   ],
   "source": [
    "plt.plot(losses)"
   ]
  },
  {
   "cell_type": "code",
   "execution_count": 9,
   "metadata": {},
   "outputs": [
    {
     "data": {
      "text/plain": [
       "MedicModel(\n",
       "  (batch_norm): BatchNorm1d(48, eps=1e-05, momentum=0.1, affine=True, track_running_stats=True)\n",
       "  (norm1): LayerNorm((184,), eps=1e-05, elementwise_affine=True)\n",
       "  (norm2): LayerNorm((256,), eps=1e-05, elementwise_affine=True)\n",
       "  (norm3): LayerNorm((128,), eps=1e-05, elementwise_affine=True)\n",
       "  (norm4): LayerNorm((64,), eps=1e-05, elementwise_affine=True)\n",
       "  (lstm_184): LSTM(184, 256, batch_first=True)\n",
       "  (lstm_128): LSTM(256, 128, batch_first=True)\n",
       "  (lstm_64): LSTM(128, 64, batch_first=True)\n",
       "  (attentionLayer): MultiheadAttention(\n",
       "    (out_proj): NonDynamicallyQuantizableLinear(in_features=64, out_features=64, bias=True)\n",
       "  )\n",
       "  (ffn): Sequential(\n",
       "    (0): Linear(in_features=64, out_features=64, bias=True)\n",
       "    (1): ReLU()\n",
       "    (2): Linear(in_features=64, out_features=64, bias=True)\n",
       "  )\n",
       "  (linear_i): Linear(in_features=3072, out_features=60, bias=True)\n",
       "  (linear_o): Linear(in_features=60, out_features=1, bias=True)\n",
       ")"
      ]
     },
     "execution_count": 9,
     "metadata": {},
     "output_type": "execute_result"
    }
   ],
   "source": [
    "model.eval()"
   ]
  },
  {
   "cell_type": "code",
   "execution_count": 10,
   "metadata": {},
   "outputs": [
    {
     "name": "stdout",
     "output_type": "stream",
     "text": [
      "0.5298606502986065\n"
     ]
    }
   ],
   "source": [
    "correct = 0.\n",
    "for x, y in trainLoader:\n",
    "    x, y = x.to(DEVICE), y.to(DEVICE)\n",
    "    pred = model(x)\n",
    "    pred = torch.sigmoid(pred)\n",
    "    correct += ((pred > 0.5) == y).sum().type(torch.float32)\n",
    "print(correct.item()/len(trainLoader.dataset))"
   ]
  },
  {
   "cell_type": "code",
   "execution_count": 11,
   "metadata": {},
   "outputs": [
    {
     "name": "stdout",
     "output_type": "stream",
     "text": [
      "0.5291777188328912\n"
     ]
    }
   ],
   "source": [
    "correct = 0.\n",
    "for x, y in testLoader:\n",
    "    x, y = x.to(DEVICE), y.to(DEVICE)\n",
    "    pred = model(x)\n",
    "    pred = torch.sigmoid(pred)\n",
    "    correct += ((pred > 0.5) == y).sum().type(torch.float32)\n",
    "print(correct.item()/len(testLoader.dataset))"
   ]
  },
  {
   "cell_type": "code",
   "execution_count": 12,
   "metadata": {},
   "outputs": [],
   "source": [
    "class TestModel_1(torch.nn.Module):\n",
    "\n",
    "    def __init__(self) -> None:\n",
    "        super(TestModel_1, self).__init__()\n",
    "        self.laynorm1 = torch.nn.LayerNorm(184)\n",
    "        self.attn1 = torch.nn.MultiheadAttention(184, num_heads = 1, batch_first = True)\n",
    "        self.ffn1 = torch.nn.Sequential(\n",
    "            torch.nn.Linear(184, 128),\n",
    "            torch.nn.ReLU(),\n",
    "            torch.nn.Linear(128, 64)\n",
    "        )\n",
    "        self.laynorm2 = torch.nn.LayerNorm(64)\n",
    "        self.attn2 = torch.nn.MultiheadAttention(64, num_heads = 1, batch_first = True)\n",
    "        self.ffn2 = torch.nn.Sequential(\n",
    "            torch.nn.Linear(64, 32),\n",
    "            torch.nn.ReLU(),\n",
    "            torch.nn.Linear(32, 16)\n",
    "        )\n",
    "        self.outlayer = torch.nn.Linear(48 * 16, 1) \n",
    "    def forward(self, x):\n",
    "        attn_out , _ = self.attn1(x, x, x)\n",
    "        h = self.laynorm1(attn_out + x)\n",
    "        h = self.ffn1(h)\n",
    "        \n",
    "        attn_out , _ = self.attn2(h, h, h)\n",
    "        h = self.laynorm2(attn_out + h)\n",
    "        h = self.ffn2(h)\n",
    "        h = torch.flatten(h, start_dim=1)\n",
    "        o = self.outlayer(h)\n",
    "        return o"
   ]
  },
  {
   "cell_type": "code",
   "execution_count": 13,
   "metadata": {},
   "outputs": [
    {
     "name": "stderr",
     "output_type": "stream",
     "text": [
      "100%|██████████| 100/100 [00:43<00:00,  2.28it/s]\n"
     ]
    }
   ],
   "source": [
    "model_2 = TestModel_1().to(DEVICE)\n",
    "optimizer = torch.optim.Adam(model_2.parameters(), lr = 1e-3)\n",
    "loss_fn = torch.nn.BCEWithLogitsLoss()\n",
    "losses = []\n",
    "for epoch in tqdm(range(100)):\n",
    "    for x, y in trainLoader:\n",
    "        x, y = x.to(DEVICE), y.to(DEVICE)\n",
    "        optimizer.zero_grad()\n",
    "        pred = model_2(x)\n",
    "        loss = loss_fn(pred, y)\n",
    "        loss.backward()\n",
    "        optimizer.step()\n",
    "    losses.append(loss.item())"
   ]
  },
  {
   "cell_type": "code",
   "execution_count": 14,
   "metadata": {},
   "outputs": [
    {
     "data": {
      "text/plain": [
       "[<matplotlib.lines.Line2D at 0x27dbe5191e0>]"
      ]
     },
     "execution_count": 14,
     "metadata": {},
     "output_type": "execute_result"
    },
    {
     "data": {
      "image/png": "[encoded data removed]",
      "text/plain": [
       "<Figure size 640x480 with 1 Axes>"
      ]
     },
     "metadata": {},
     "output_type": "display_data"
    }
   ],
   "source": [
    "plt.plot(losses)"
   ]
  },
  {
   "cell_type": "code",
   "execution_count": 15,
   "metadata": {},
   "outputs": [
    {
     "data": {
      "text/plain": [
       "TestModel_1(\n",
       "  (laynorm1): LayerNorm((184,), eps=1e-05, elementwise_affine=True)\n",
       "  (attn1): MultiheadAttention(\n",
       "    (out_proj): NonDynamicallyQuantizableLinear(in_features=184, out_features=184, bias=True)\n",
       "  )\n",
       "  (ffn1): Sequential(\n",
       "    (0): Linear(in_features=184, out_features=128, bias=True)\n",
       "    (1): ReLU()\n",
       "    (2): Linear(in_features=128, out_features=64, bias=True)\n",
       "  )\n",
       "  (laynorm2): LayerNorm((64,), eps=1e-05, elementwise_affine=True)\n",
       "  (attn2): MultiheadAttention(\n",
       "    (out_proj): NonDynamicallyQuantizableLinear(in_features=64, out_features=64, bias=True)\n",
       "  )\n",
       "  (ffn2): Sequential(\n",
       "    (0): Linear(in_features=64, out_features=32, bias=True)\n",
       "    (1): ReLU()\n",
       "    (2): Linear(in_features=32, out_features=16, bias=True)\n",
       "  )\n",
       "  (outlayer): Linear(in_features=768, out_features=1, bias=True)\n",
       ")"
      ]
     },
     "execution_count": 15,
     "metadata": {},
     "output_type": "execute_result"
    }
   ],
   "source": [
    "model_2.eval()"
   ]
  },
  {
   "cell_type": "code",
   "execution_count": 16,
   "metadata": {},
   "outputs": [
    {
     "name": "stdout",
     "output_type": "stream",
     "text": [
      "0.5298606502986065\n"
     ]
    }
   ],
   "source": [
    "correct = 0.\n",
    "for x, y in trainLoader:\n",
    "    x, y = x.to(DEVICE), y.to(DEVICE)\n",
    "    pred = model_2(x)\n",
    "    pred = torch.sigmoid(pred)\n",
    "    correct += ((pred > 0.5) == y).sum().type(torch.float32)\n",
    "print(correct.item()/len(trainLoader.dataset))"
   ]
  },
  {
   "cell_type": "code",
   "execution_count": 17,
   "metadata": {},
   "outputs": [
    {
     "name": "stdout",
     "output_type": "stream",
     "text": [
      "0.5291777188328912\n"
     ]
    }
   ],
   "source": [
    "correct = 0.\n",
    "for x, y in testLoader:\n",
    "    x, y = x.to(DEVICE), y.to(DEVICE)\n",
    "    pred = model_2(x)\n",
    "    pred = torch.sigmoid(pred)\n",
    "    correct += ((pred > 0.5) == y).sum().type(torch.float32)\n",
    "print(correct.item()/len(testLoader.dataset))"
   ]
  }
 ],
 "metadata": {
  "kernelspec": {
   "display_name": "Python 3.10.7 ('torchEnv': venv)",
   "language": "python",
   "name": "python3"
  },
  "language_info": {
   "codemirror_mode": {
    "name": "ipython",
    "version": 3
   },
   "file_extension": ".py",
   "mimetype": "text/x-python",
   "name": "python",
   "nbconvert_exporter": "python",
   "pygments_lexer": "ipython3",
   "version": "3.10.7"
  },
  "orig_nbformat": 4,
  "vscode": {
   "interpreter": {
    "hash": "856971fa0a169429db2bf0c06b69517a5be6dea1d062d3d5bb82efdd1c5fddc9"
   }
  }
 },
 "nbformat": 4,
 "nbformat_minor": 2
}
