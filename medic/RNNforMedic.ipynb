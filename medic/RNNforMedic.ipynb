{
 "cells": [
  {
   "cell_type": "code",
   "execution_count": 1,
   "metadata": {},
   "outputs": [
    {
     "name": "stderr",
     "output_type": "stream",
     "text": [
      "c:\\Users\\Wen2Tee5\\Desktop\\Postgraduate\\torchPlayGround\\torchEnv\\lib\\site-packages\\tqdm\\auto.py:22: TqdmWarning: IProgress not found. Please update jupyter and ipywidgets. See https://ipywidgets.readthedocs.io/en/stable/user_install.html\n",
      "  from .autonotebook import tqdm as notebook_tqdm\n"
     ]
    }
   ],
   "source": [
    "import torch\n",
    "import numpy as np\n",
    "from torch.utils.data import DataLoader, TensorDataset\n",
    "from tqdm import tqdm\n",
    "import matplotlib.pyplot as plt"
   ]
  },
  {
   "cell_type": "code",
   "execution_count": 2,
   "metadata": {},
   "outputs": [
    {
     "name": "stdout",
     "output_type": "stream",
     "text": [
      "cuda\n"
     ]
    }
   ],
   "source": [
    "DEVICE = 'cuda' if torch.cuda.is_available() else 'cpu'\n",
    "EPOCH = 20\n",
    "BATCH_SIZE = 32\n",
    "print(DEVICE)"
   ]
  },
  {
   "cell_type": "code",
   "execution_count": 3,
   "metadata": {},
   "outputs": [
    {
     "name": "stdout",
     "output_type": "stream",
     "text": [
      "(3768, 48, 184)\n",
      "(3768,)\n"
     ]
    }
   ],
   "source": [
    "np_x = np.load('./data_feature_all_hour_new.npy').astype(np.float32)\n",
    "np_y = np.load('./data_feature_all_hour_target.npy').astype(np.float32)\n",
    "print(np_x.shape)\n",
    "print(np_y.shape)\n",
    "train_spilt_index = int(np_x.shape[0] * 0.8)\n",
    "train_dataset = TensorDataset(torch.from_numpy(np_x[:train_spilt_index]), torch.from_numpy(np_y[:train_spilt_index].reshape(-1,1)))\n",
    "test_dataset = TensorDataset(torch.from_numpy(np_x[train_spilt_index:]), torch.from_numpy(np_y[train_spilt_index:].reshape(-1,1)))\n",
    "trainLoader = DataLoader(dataset=train_dataset, batch_size = BATCH_SIZE)\n",
    "testLoader = DataLoader(dataset=test_dataset, batch_size = BATCH_SIZE)"
   ]
  },
  {
   "cell_type": "code",
   "execution_count": 4,
   "metadata": {},
   "outputs": [],
   "source": [
    "class MedicModel(torch.nn.Module):\n",
    "\n",
    "    def __init__(self) -> None:\n",
    "        super(MedicModel, self).__init__()\n",
    "        self.batch_norm = torch.nn.BatchNorm1d(48)\n",
    "        self.norm1 = torch.nn.LayerNorm(184)\n",
    "        self.norm2 = torch.nn.LayerNorm(256)\n",
    "        self.norm3 = torch.nn.LayerNorm(128)\n",
    "        self.lstm_184 = torch.nn.LSTM(184, 256, batch_first = True)\n",
    "        self.lstm_128 = torch.nn.LSTM(256, 128, batch_first = True)\n",
    "        self.attentionLayer = torch.nn.MultiheadAttention(embed_dim=128, num_heads=1, batch_first=True)\n",
    "   \n",
    "        self.linear_i = torch.nn.Linear(48 * 128, 60)\n",
    "        self.linear_o = torch.nn.Linear(60, 1)\n",
    "\n",
    "    def forward(self,x):\n",
    "        h = self.batch_norm(x)\n",
    "        h = self.norm1(x)\n",
    "        h, (_, _) = self.lstm_184(x)\n",
    "        h = torch.tanh(h)\n",
    "        h = self.norm2(h)\n",
    "        h, (_, _) = self.lstm_128(h)\n",
    "        h = torch.tanh(h)\n",
    "        h = self.norm3(h)\n",
    "        \n",
    "        atten_out, s = self.attentionLayer(h, h, h)\n",
    "        h = torch.tanh(h)\n",
    "        h = torch.flatten(h, start_dim=1)\n",
    "        h = self.linear_i(h)\n",
    "        h = torch.tanh(h)\n",
    "        h = self.linear_o(h)\n",
    "        return h"
   ]
  },
  {
   "cell_type": "code",
   "execution_count": 5,
   "metadata": {},
   "outputs": [],
   "source": [
    "model = MedicModel().to(DEVICE)"
   ]
  },
  {
   "cell_type": "code",
   "execution_count": 6,
   "metadata": {},
   "outputs": [],
   "source": [
    "opti = torch.optim.Adam(model.parameters(), lr = 1e-3, weight_decay=1e-2)\n",
    "loss_fn = torch.nn.BCEWithLogitsLoss()\n",
    "train_losses = []\n",
    "test_losses = []"
   ]
  },
  {
   "cell_type": "code",
   "execution_count": 7,
   "metadata": {},
   "outputs": [
    {
     "name": "stderr",
     "output_type": "stream",
     "text": [
      "100%|██████████| 20/20 [00:11<00:00,  1.80it/s]\n"
     ]
    }
   ],
   "source": [
    "for epoch in tqdm(range(EPOCH)):\n",
    "    trainTloss = 0.\n",
    "    testTloss = 0.\n",
    "    for x, y in trainLoader:\n",
    "        x, y = x.to(DEVICE), y.to(DEVICE)\n",
    "        opti.zero_grad()\n",
    "        pred = model(x)\n",
    "        loss = loss_fn(pred, y)\n",
    "        loss.backward()\n",
    "        opti.step()\n",
    "        trainTloss += loss.item()\n",
    "    with torch.no_grad():\n",
    "        for x, y in testLoader:\n",
    "            x, y = x.to(DEVICE), y.to(DEVICE)\n",
    "            pred = model(x)\n",
    "            loss = loss_fn(pred, y)\n",
    "            testTloss += loss.item()\n",
    "    train_losses.append(trainTloss / (len(trainLoader.dataset)//BATCH_SIZE))\n",
    "    test_losses.append(testTloss / (len(testLoader.dataset)//BATCH_SIZE))\n"
   ]
  },
  {
   "cell_type": "code",
   "execution_count": 8,
   "metadata": {},
   "outputs": [
    {
     "data": {
      "image/png": "[encoded data removed]",
      "text/plain": [
       "<Figure size 640x480 with 1 Axes>"
      ]
     },
     "metadata": {},
     "output_type": "display_data"
    }
   ],
   "source": [
    "plt.plot(train_losses, color = 'r')\n",
    "plt.plot(test_losses, color = 'b')\n",
    "plt.show()"
   ]
  },
  {
   "cell_type": "code",
   "execution_count": 9,
   "metadata": {},
   "outputs": [
    {
     "data": {
      "text/plain": [
       "MedicModel(\n",
       "  (batch_norm): BatchNorm1d(48, eps=1e-05, momentum=0.1, affine=True, track_running_stats=True)\n",
       "  (norm1): LayerNorm((184,), eps=1e-05, elementwise_affine=True)\n",
       "  (norm2): LayerNorm((256,), eps=1e-05, elementwise_affine=True)\n",
       "  (norm3): LayerNorm((128,), eps=1e-05, elementwise_affine=True)\n",
       "  (lstm_184): LSTM(184, 256, batch_first=True)\n",
       "  (lstm_128): LSTM(256, 128, batch_first=True)\n",
       "  (attentionLayer): MultiheadAttention(\n",
       "    (out_proj): NonDynamicallyQuantizableLinear(in_features=128, out_features=128, bias=True)\n",
       "  )\n",
       "  (linear_i): Linear(in_features=6144, out_features=60, bias=True)\n",
       "  (linear_o): Linear(in_features=60, out_features=1, bias=True)\n",
       ")"
      ]
     },
     "execution_count": 9,
     "metadata": {},
     "output_type": "execute_result"
    }
   ],
   "source": [
    "model.eval()"
   ]
  },
  {
   "cell_type": "code",
   "execution_count": 10,
   "metadata": {},
   "outputs": [
    {
     "name": "stdout",
     "output_type": "stream",
     "text": [
      "0.5298606502986065\n"
     ]
    }
   ],
   "source": [
    "correct = 0.\n",
    "for x, y in trainLoader:\n",
    "    x, y = x.to(DEVICE), y.to(DEVICE)\n",
    "    pred = model(x)\n",
    "    pred = torch.sigmoid(pred)\n",
    "    correct += ((pred > 0.5) == y).type(torch.float32).sum()\n",
    "print(correct.item()/len(trainLoader.dataset))"
   ]
  },
  {
   "cell_type": "code",
   "execution_count": 11,
   "metadata": {},
   "outputs": [
    {
     "name": "stdout",
     "output_type": "stream",
     "text": [
      "0.5291777188328912\n"
     ]
    }
   ],
   "source": [
    "correct = 0.\n",
    "for x, y in testLoader:\n",
    "    x, y = x.to(DEVICE), y.to(DEVICE)\n",
    "    pred = model(x)\n",
    "    pred = torch.sigmoid(pred)\n",
    "    correct += ((pred > 0.5) == y).type(torch.float32).sum()\n",
    "print(correct.item()/len(testLoader.dataset))"
   ]
  },
  {
   "cell_type": "code",
   "execution_count": 12,
   "metadata": {},
   "outputs": [],
   "source": [
    "from sklearn.metrics import roc_curve, auc, RocCurveDisplay"
   ]
  },
  {
   "cell_type": "code",
   "execution_count": 13,
   "metadata": {},
   "outputs": [
    {
     "name": "stdout",
     "output_type": "stream",
     "text": [
      "[0. 1.]\n",
      "[0. 1.]\n",
      "[1.4623151  0.46231502]\n"
     ]
    }
   ],
   "source": [
    "with torch.no_grad():\n",
    "    x, y = testLoader.dataset[:]\n",
    "    x = x.to(DEVICE)\n",
    "    pred = torch.sigmoid(model(x))\n",
    "    pred = pred.cpu()\n",
    "    fpr, tpr, thr = roc_curve(y_true = y, y_score=pred)\n",
    "    print(fpr)\n",
    "    print(tpr)\n",
    "    print(thr)"
   ]
  },
  {
   "cell_type": "code",
   "execution_count": 14,
   "metadata": {},
   "outputs": [
    {
     "data": {
      "text/plain": [
       "<sklearn.metrics._plot.roc_curve.RocCurveDisplay at 0x1f9ad20ca00>"
      ]
     },
     "execution_count": 14,
     "metadata": {},
     "output_type": "execute_result"
    },
    {
     "data": {
      "image/png": "[encoded data removed]",
      "text/plain": [
       "<Figure size 640x480 with 1 Axes>"
      ]
     },
     "metadata": {},
     "output_type": "display_data"
    }
   ],
   "source": [
    "roc_auc = auc(fpr, tpr)\n",
    "result = RocCurveDisplay(fpr = fpr, tpr = tpr, roc_auc = roc_auc)\n",
    "result.plot()"
   ]
  }
 ],
 "metadata": {
  "kernelspec": {
   "display_name": "Python 3.10.7 ('torchEnv': venv)",
   "language": "python",
   "name": "python3"
  },
  "language_info": {
   "codemirror_mode": {
    "name": "ipython",
    "version": 3
   },
   "file_extension": ".py",
   "mimetype": "text/x-python",
   "name": "python",
   "nbconvert_exporter": "python",
   "pygments_lexer": "ipython3",
   "version": "3.10.7"
  },
  "orig_nbformat": 4,
  "vscode": {
   "interpreter": {
    "hash": "856971fa0a169429db2bf0c06b69517a5be6dea1d062d3d5bb82efdd1c5fddc9"
   }
  }
 },
 "nbformat": 4,
 "nbformat_minor": 2
}
